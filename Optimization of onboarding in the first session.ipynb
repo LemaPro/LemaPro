{
 "cells": [
  {
   "cell_type": "code",
   "execution_count": 1,
   "metadata": {},
   "outputs": [],
   "source": [
    "import pandas as pd\n",
    "import numpy as np"
   ]
  },
  {
   "cell_type": "code",
   "execution_count": 289,
   "metadata": {},
   "outputs": [],
   "source": [
    "df = pd.read_csv(\"Dataset for Career Factory 22032022.csv\")"
   ]
  },
  {
   "cell_type": "markdown",
   "metadata": {},
   "source": [
    "# Вытаскиваем список активированных клиентов:"
   ]
  },
  {
   "cell_type": "code",
   "execution_count": 3,
   "metadata": {},
   "outputs": [],
   "source": [
    "count_event_per_client = df.groupby('client_id')['event_name'].count().reset_index().sort_values('event_name', ascending=False)"
   ]
  },
  {
   "cell_type": "code",
   "execution_count": 4,
   "metadata": {},
   "outputs": [
    {
     "data": {
      "text/html": [
       "<div>\n",
       "<style scoped>\n",
       "    .dataframe tbody tr th:only-of-type {\n",
       "        vertical-align: middle;\n",
       "    }\n",
       "\n",
       "    .dataframe tbody tr th {\n",
       "        vertical-align: top;\n",
       "    }\n",
       "\n",
       "    .dataframe thead th {\n",
       "        text-align: right;\n",
       "    }\n",
       "</style>\n",
       "<table border=\"1\" class=\"dataframe\">\n",
       "  <thead>\n",
       "    <tr style=\"text-align: right;\">\n",
       "      <th></th>\n",
       "      <th>client_id</th>\n",
       "      <th>event_name</th>\n",
       "    </tr>\n",
       "  </thead>\n",
       "  <tbody>\n",
       "    <tr>\n",
       "      <th>95</th>\n",
       "      <td>100095</td>\n",
       "      <td>18013</td>\n",
       "    </tr>\n",
       "    <tr>\n",
       "      <th>817</th>\n",
       "      <td>100817</td>\n",
       "      <td>6234</td>\n",
       "    </tr>\n",
       "    <tr>\n",
       "      <th>77</th>\n",
       "      <td>100077</td>\n",
       "      <td>6064</td>\n",
       "    </tr>\n",
       "    <tr>\n",
       "      <th>190</th>\n",
       "      <td>100190</td>\n",
       "      <td>4363</td>\n",
       "    </tr>\n",
       "    <tr>\n",
       "      <th>651</th>\n",
       "      <td>100651</td>\n",
       "      <td>3358</td>\n",
       "    </tr>\n",
       "    <tr>\n",
       "      <th>...</th>\n",
       "      <td>...</td>\n",
       "      <td>...</td>\n",
       "    </tr>\n",
       "    <tr>\n",
       "      <th>13869</th>\n",
       "      <td>113869</td>\n",
       "      <td>0</td>\n",
       "    </tr>\n",
       "    <tr>\n",
       "      <th>15151</th>\n",
       "      <td>115151</td>\n",
       "      <td>0</td>\n",
       "    </tr>\n",
       "    <tr>\n",
       "      <th>4639</th>\n",
       "      <td>104639</td>\n",
       "      <td>0</td>\n",
       "    </tr>\n",
       "    <tr>\n",
       "      <th>4647</th>\n",
       "      <td>104647</td>\n",
       "      <td>0</td>\n",
       "    </tr>\n",
       "    <tr>\n",
       "      <th>3606</th>\n",
       "      <td>103606</td>\n",
       "      <td>0</td>\n",
       "    </tr>\n",
       "  </tbody>\n",
       "</table>\n",
       "<p>15970 rows × 2 columns</p>\n",
       "</div>"
      ],
      "text/plain": [
       "       client_id  event_name\n",
       "95        100095       18013\n",
       "817       100817        6234\n",
       "77        100077        6064\n",
       "190       100190        4363\n",
       "651       100651        3358\n",
       "...          ...         ...\n",
       "13869     113869           0\n",
       "15151     115151           0\n",
       "4639      104639           0\n",
       "4647      104647           0\n",
       "3606      103606           0\n",
       "\n",
       "[15970 rows x 2 columns]"
      ]
     },
     "execution_count": 4,
     "metadata": {},
     "output_type": "execute_result"
    }
   ],
   "source": [
    "count_event_per_client"
   ]
  },
  {
   "cell_type": "markdown",
   "metadata": {},
   "source": [
    "Оставим только тех пользователей, для которых аккаунт первый"
   ]
  },
  {
   "cell_type": "code",
   "execution_count": 79,
   "metadata": {},
   "outputs": [],
   "source": [
    "df = df[df['first_account_for_user'] == True]"
   ]
  },
  {
   "cell_type": "code",
   "execution_count": 157,
   "metadata": {},
   "outputs": [
    {
     "data": {
      "text/html": [
       "<div>\n",
       "<style scoped>\n",
       "    .dataframe tbody tr th:only-of-type {\n",
       "        vertical-align: middle;\n",
       "    }\n",
       "\n",
       "    .dataframe tbody tr th {\n",
       "        vertical-align: top;\n",
       "    }\n",
       "\n",
       "    .dataframe thead th {\n",
       "        text-align: right;\n",
       "    }\n",
       "</style>\n",
       "<table border=\"1\" class=\"dataframe\">\n",
       "  <thead>\n",
       "    <tr style=\"text-align: right;\">\n",
       "      <th></th>\n",
       "      <th>Unnamed: 0</th>\n",
       "      <th>account_id</th>\n",
       "      <th>account_creationdate</th>\n",
       "      <th>client_id</th>\n",
       "      <th>client_creationdate</th>\n",
       "      <th>admin_status</th>\n",
       "      <th>country_group</th>\n",
       "      <th>industry</th>\n",
       "      <th>hear_source</th>\n",
       "      <th>support_provided</th>\n",
       "      <th>...</th>\n",
       "      <th>first_account_for_user</th>\n",
       "      <th>current_account_status</th>\n",
       "      <th>ltv_predicted</th>\n",
       "      <th>ig_activation_dttm</th>\n",
       "      <th>trial_dttm</th>\n",
       "      <th>paid_dttm</th>\n",
       "      <th>pro_dttm</th>\n",
       "      <th>first_ig_flow_publish_dttm</th>\n",
       "      <th>event_name</th>\n",
       "      <th>event_dttm</th>\n",
       "    </tr>\n",
       "  </thead>\n",
       "  <tbody>\n",
       "    <tr>\n",
       "      <th>10</th>\n",
       "      <td>10</td>\n",
       "      <td>1</td>\n",
       "      <td>2021-10-05 20:36:07.068230</td>\n",
       "      <td>100000</td>\n",
       "      <td>2021-10-05 20:33:30.173973</td>\n",
       "      <td>1st admin</td>\n",
       "      <td>Asia</td>\n",
       "      <td>Other</td>\n",
       "      <td>Recommended by friend or colleague</td>\n",
       "      <td>False</td>\n",
       "      <td>...</td>\n",
       "      <td>True</td>\n",
       "      <td>free</td>\n",
       "      <td>9679</td>\n",
       "      <td>NaN</td>\n",
       "      <td>NaN</td>\n",
       "      <td>NaN</td>\n",
       "      <td>NaN</td>\n",
       "      <td>NaN</td>\n",
       "      <td>web.page_questionnaire.todo_list_personalizati...</td>\n",
       "      <td>2021-10-05 20:40:49.401840</td>\n",
       "    </tr>\n",
       "    <tr>\n",
       "      <th>9</th>\n",
       "      <td>9</td>\n",
       "      <td>1</td>\n",
       "      <td>2021-10-05 20:36:07.068230</td>\n",
       "      <td>100000</td>\n",
       "      <td>2021-10-05 20:33:30.173973</td>\n",
       "      <td>1st admin</td>\n",
       "      <td>Asia</td>\n",
       "      <td>Other</td>\n",
       "      <td>Recommended by friend or colleague</td>\n",
       "      <td>False</td>\n",
       "      <td>...</td>\n",
       "      <td>True</td>\n",
       "      <td>free</td>\n",
       "      <td>9679</td>\n",
       "      <td>NaN</td>\n",
       "      <td>NaN</td>\n",
       "      <td>NaN</td>\n",
       "      <td>NaN</td>\n",
       "      <td>NaN</td>\n",
       "      <td>todo_list_item.verify_email.done</td>\n",
       "      <td>2021-10-05 20:41:26.531285</td>\n",
       "    </tr>\n",
       "    <tr>\n",
       "      <th>8</th>\n",
       "      <td>8</td>\n",
       "      <td>1</td>\n",
       "      <td>2021-10-05 20:36:07.068230</td>\n",
       "      <td>100000</td>\n",
       "      <td>2021-10-05 20:33:30.173973</td>\n",
       "      <td>1st admin</td>\n",
       "      <td>Asia</td>\n",
       "      <td>Other</td>\n",
       "      <td>Recommended by friend or colleague</td>\n",
       "      <td>False</td>\n",
       "      <td>...</td>\n",
       "      <td>True</td>\n",
       "      <td>free</td>\n",
       "      <td>9679</td>\n",
       "      <td>NaN</td>\n",
       "      <td>NaN</td>\n",
       "      <td>NaN</td>\n",
       "      <td>NaN</td>\n",
       "      <td>NaN</td>\n",
       "      <td>todo_list_item.verify_email.done</td>\n",
       "      <td>2021-10-05 20:41:26.531415</td>\n",
       "    </tr>\n",
       "    <tr>\n",
       "      <th>7</th>\n",
       "      <td>7</td>\n",
       "      <td>1</td>\n",
       "      <td>2021-10-05 20:36:07.068230</td>\n",
       "      <td>100000</td>\n",
       "      <td>2021-10-05 20:33:30.173973</td>\n",
       "      <td>1st admin</td>\n",
       "      <td>Asia</td>\n",
       "      <td>Other</td>\n",
       "      <td>Recommended by friend or colleague</td>\n",
       "      <td>False</td>\n",
       "      <td>...</td>\n",
       "      <td>True</td>\n",
       "      <td>free</td>\n",
       "      <td>9679</td>\n",
       "      <td>NaN</td>\n",
       "      <td>NaN</td>\n",
       "      <td>NaN</td>\n",
       "      <td>NaN</td>\n",
       "      <td>NaN</td>\n",
       "      <td>todo_list_item.connect_ig_account.done</td>\n",
       "      <td>2021-10-05 20:41:26.531569</td>\n",
       "    </tr>\n",
       "    <tr>\n",
       "      <th>6</th>\n",
       "      <td>6</td>\n",
       "      <td>1</td>\n",
       "      <td>2021-10-05 20:36:07.068230</td>\n",
       "      <td>100000</td>\n",
       "      <td>2021-10-05 20:33:30.173973</td>\n",
       "      <td>1st admin</td>\n",
       "      <td>Asia</td>\n",
       "      <td>Other</td>\n",
       "      <td>Recommended by friend or colleague</td>\n",
       "      <td>False</td>\n",
       "      <td>...</td>\n",
       "      <td>True</td>\n",
       "      <td>free</td>\n",
       "      <td>9679</td>\n",
       "      <td>NaN</td>\n",
       "      <td>NaN</td>\n",
       "      <td>NaN</td>\n",
       "      <td>NaN</td>\n",
       "      <td>NaN</td>\n",
       "      <td>todo_list_item.connect_ig_account.done</td>\n",
       "      <td>2021-10-05 20:41:26.531576</td>\n",
       "    </tr>\n",
       "    <tr>\n",
       "      <th>...</th>\n",
       "      <td>...</td>\n",
       "      <td>...</td>\n",
       "      <td>...</td>\n",
       "      <td>...</td>\n",
       "      <td>...</td>\n",
       "      <td>...</td>\n",
       "      <td>...</td>\n",
       "      <td>...</td>\n",
       "      <td>...</td>\n",
       "      <td>...</td>\n",
       "      <td>...</td>\n",
       "      <td>...</td>\n",
       "      <td>...</td>\n",
       "      <td>...</td>\n",
       "      <td>...</td>\n",
       "      <td>...</td>\n",
       "      <td>...</td>\n",
       "      <td>...</td>\n",
       "      <td>...</td>\n",
       "      <td>...</td>\n",
       "      <td>...</td>\n",
       "    </tr>\n",
       "    <tr>\n",
       "      <th>869274</th>\n",
       "      <td>869274</td>\n",
       "      <td>17559</td>\n",
       "      <td>2021-10-21 17:43:24.818691</td>\n",
       "      <td>115969</td>\n",
       "      <td>2021-10-21 17:43:01.304537</td>\n",
       "      <td>1st admin</td>\n",
       "      <td>South America</td>\n",
       "      <td>Other</td>\n",
       "      <td>Recommended by friend or colleague</td>\n",
       "      <td>False</td>\n",
       "      <td>...</td>\n",
       "      <td>True</td>\n",
       "      <td>free</td>\n",
       "      <td>12594</td>\n",
       "      <td>2021-10-22 23:07:19.096855</td>\n",
       "      <td>NaN</td>\n",
       "      <td>NaN</td>\n",
       "      <td>NaN</td>\n",
       "      <td>2021-10-21 17:46:12.231707</td>\n",
       "      <td>mobile.automations_list__opened</td>\n",
       "      <td>2021-10-21 17:44:33.261467</td>\n",
       "    </tr>\n",
       "    <tr>\n",
       "      <th>869273</th>\n",
       "      <td>869273</td>\n",
       "      <td>17559</td>\n",
       "      <td>2021-10-21 17:43:24.818691</td>\n",
       "      <td>115969</td>\n",
       "      <td>2021-10-21 17:43:01.304537</td>\n",
       "      <td>1st admin</td>\n",
       "      <td>South America</td>\n",
       "      <td>Other</td>\n",
       "      <td>Recommended by friend or colleague</td>\n",
       "      <td>False</td>\n",
       "      <td>...</td>\n",
       "      <td>True</td>\n",
       "      <td>free</td>\n",
       "      <td>12594</td>\n",
       "      <td>2021-10-22 23:07:19.096855</td>\n",
       "      <td>NaN</td>\n",
       "      <td>NaN</td>\n",
       "      <td>NaN</td>\n",
       "      <td>2021-10-21 17:46:12.231707</td>\n",
       "      <td>mobile.automations_list__new__clicked</td>\n",
       "      <td>2021-10-21 17:44:48.501725</td>\n",
       "    </tr>\n",
       "    <tr>\n",
       "      <th>869272</th>\n",
       "      <td>869272</td>\n",
       "      <td>17559</td>\n",
       "      <td>2021-10-21 17:43:24.818691</td>\n",
       "      <td>115969</td>\n",
       "      <td>2021-10-21 17:43:01.304537</td>\n",
       "      <td>1st admin</td>\n",
       "      <td>South America</td>\n",
       "      <td>Other</td>\n",
       "      <td>Recommended by friend or colleague</td>\n",
       "      <td>False</td>\n",
       "      <td>...</td>\n",
       "      <td>True</td>\n",
       "      <td>free</td>\n",
       "      <td>12594</td>\n",
       "      <td>2021-10-22 23:07:19.096855</td>\n",
       "      <td>NaN</td>\n",
       "      <td>NaN</td>\n",
       "      <td>NaN</td>\n",
       "      <td>2021-10-21 17:46:12.231707</td>\n",
       "      <td>mobile.automations_list__closed</td>\n",
       "      <td>2021-10-21 17:44:48.738427</td>\n",
       "    </tr>\n",
       "    <tr>\n",
       "      <th>869271</th>\n",
       "      <td>869271</td>\n",
       "      <td>17559</td>\n",
       "      <td>2021-10-21 17:43:24.818691</td>\n",
       "      <td>115969</td>\n",
       "      <td>2021-10-21 17:43:01.304537</td>\n",
       "      <td>1st admin</td>\n",
       "      <td>South America</td>\n",
       "      <td>Other</td>\n",
       "      <td>Recommended by friend or colleague</td>\n",
       "      <td>False</td>\n",
       "      <td>...</td>\n",
       "      <td>True</td>\n",
       "      <td>free</td>\n",
       "      <td>12594</td>\n",
       "      <td>2021-10-22 23:07:19.096855</td>\n",
       "      <td>NaN</td>\n",
       "      <td>NaN</td>\n",
       "      <td>NaN</td>\n",
       "      <td>2021-10-21 17:46:12.231707</td>\n",
       "      <td>mobile.automations_promo__opened</td>\n",
       "      <td>2021-10-21 17:45:01.412871</td>\n",
       "    </tr>\n",
       "    <tr>\n",
       "      <th>869270</th>\n",
       "      <td>869270</td>\n",
       "      <td>17559</td>\n",
       "      <td>2021-10-21 17:43:24.818691</td>\n",
       "      <td>115969</td>\n",
       "      <td>2021-10-21 17:43:01.304537</td>\n",
       "      <td>1st admin</td>\n",
       "      <td>South America</td>\n",
       "      <td>Other</td>\n",
       "      <td>Recommended by friend or colleague</td>\n",
       "      <td>False</td>\n",
       "      <td>...</td>\n",
       "      <td>True</td>\n",
       "      <td>free</td>\n",
       "      <td>12594</td>\n",
       "      <td>2021-10-22 23:07:19.096855</td>\n",
       "      <td>NaN</td>\n",
       "      <td>NaN</td>\n",
       "      <td>NaN</td>\n",
       "      <td>2021-10-21 17:46:12.231707</td>\n",
       "      <td>mobile.automations_promo__default_reply__setup...</td>\n",
       "      <td>2021-10-21 17:46:12.216189</td>\n",
       "    </tr>\n",
       "  </tbody>\n",
       "</table>\n",
       "<p>654223 rows × 25 columns</p>\n",
       "</div>"
      ],
      "text/plain": [
       "        Unnamed: 0  account_id        account_creationdate  client_id  \\\n",
       "10              10           1  2021-10-05 20:36:07.068230     100000   \n",
       "9                9           1  2021-10-05 20:36:07.068230     100000   \n",
       "8                8           1  2021-10-05 20:36:07.068230     100000   \n",
       "7                7           1  2021-10-05 20:36:07.068230     100000   \n",
       "6                6           1  2021-10-05 20:36:07.068230     100000   \n",
       "...            ...         ...                         ...        ...   \n",
       "869274      869274       17559  2021-10-21 17:43:24.818691     115969   \n",
       "869273      869273       17559  2021-10-21 17:43:24.818691     115969   \n",
       "869272      869272       17559  2021-10-21 17:43:24.818691     115969   \n",
       "869271      869271       17559  2021-10-21 17:43:24.818691     115969   \n",
       "869270      869270       17559  2021-10-21 17:43:24.818691     115969   \n",
       "\n",
       "               client_creationdate admin_status  country_group industry  \\\n",
       "10      2021-10-05 20:33:30.173973    1st admin           Asia    Other   \n",
       "9       2021-10-05 20:33:30.173973    1st admin           Asia    Other   \n",
       "8       2021-10-05 20:33:30.173973    1st admin           Asia    Other   \n",
       "7       2021-10-05 20:33:30.173973    1st admin           Asia    Other   \n",
       "6       2021-10-05 20:33:30.173973    1st admin           Asia    Other   \n",
       "...                            ...          ...            ...      ...   \n",
       "869274  2021-10-21 17:43:01.304537    1st admin  South America    Other   \n",
       "869273  2021-10-21 17:43:01.304537    1st admin  South America    Other   \n",
       "869272  2021-10-21 17:43:01.304537    1st admin  South America    Other   \n",
       "869271  2021-10-21 17:43:01.304537    1st admin  South America    Other   \n",
       "869270  2021-10-21 17:43:01.304537    1st admin  South America    Other   \n",
       "\n",
       "                               hear_source  support_provided  ...  \\\n",
       "10      Recommended by friend or colleague             False  ...   \n",
       "9       Recommended by friend or colleague             False  ...   \n",
       "8       Recommended by friend or colleague             False  ...   \n",
       "7       Recommended by friend or colleague             False  ...   \n",
       "6       Recommended by friend or colleague             False  ...   \n",
       "...                                    ...               ...  ...   \n",
       "869274  Recommended by friend or colleague             False  ...   \n",
       "869273  Recommended by friend or colleague             False  ...   \n",
       "869272  Recommended by friend or colleague             False  ...   \n",
       "869271  Recommended by friend or colleague             False  ...   \n",
       "869270  Recommended by friend or colleague             False  ...   \n",
       "\n",
       "       first_account_for_user  current_account_status ltv_predicted  \\\n",
       "10                       True                    free          9679   \n",
       "9                        True                    free          9679   \n",
       "8                        True                    free          9679   \n",
       "7                        True                    free          9679   \n",
       "6                        True                    free          9679   \n",
       "...                       ...                     ...           ...   \n",
       "869274                   True                    free         12594   \n",
       "869273                   True                    free         12594   \n",
       "869272                   True                    free         12594   \n",
       "869271                   True                    free         12594   \n",
       "869270                   True                    free         12594   \n",
       "\n",
       "                ig_activation_dttm trial_dttm  paid_dttm pro_dttm  \\\n",
       "10                             NaN        NaN        NaN      NaN   \n",
       "9                              NaN        NaN        NaN      NaN   \n",
       "8                              NaN        NaN        NaN      NaN   \n",
       "7                              NaN        NaN        NaN      NaN   \n",
       "6                              NaN        NaN        NaN      NaN   \n",
       "...                            ...        ...        ...      ...   \n",
       "869274  2021-10-22 23:07:19.096855        NaN        NaN      NaN   \n",
       "869273  2021-10-22 23:07:19.096855        NaN        NaN      NaN   \n",
       "869272  2021-10-22 23:07:19.096855        NaN        NaN      NaN   \n",
       "869271  2021-10-22 23:07:19.096855        NaN        NaN      NaN   \n",
       "869270  2021-10-22 23:07:19.096855        NaN        NaN      NaN   \n",
       "\n",
       "        first_ig_flow_publish_dttm  \\\n",
       "10                             NaN   \n",
       "9                              NaN   \n",
       "8                              NaN   \n",
       "7                              NaN   \n",
       "6                              NaN   \n",
       "...                            ...   \n",
       "869274  2021-10-21 17:46:12.231707   \n",
       "869273  2021-10-21 17:46:12.231707   \n",
       "869272  2021-10-21 17:46:12.231707   \n",
       "869271  2021-10-21 17:46:12.231707   \n",
       "869270  2021-10-21 17:46:12.231707   \n",
       "\n",
       "                                               event_name  \\\n",
       "10      web.page_questionnaire.todo_list_personalizati...   \n",
       "9                        todo_list_item.verify_email.done   \n",
       "8                        todo_list_item.verify_email.done   \n",
       "7                  todo_list_item.connect_ig_account.done   \n",
       "6                  todo_list_item.connect_ig_account.done   \n",
       "...                                                   ...   \n",
       "869274                    mobile.automations_list__opened   \n",
       "869273              mobile.automations_list__new__clicked   \n",
       "869272                    mobile.automations_list__closed   \n",
       "869271                   mobile.automations_promo__opened   \n",
       "869270  mobile.automations_promo__default_reply__setup...   \n",
       "\n",
       "                        event_dttm  \n",
       "10      2021-10-05 20:40:49.401840  \n",
       "9       2021-10-05 20:41:26.531285  \n",
       "8       2021-10-05 20:41:26.531415  \n",
       "7       2021-10-05 20:41:26.531569  \n",
       "6       2021-10-05 20:41:26.531576  \n",
       "...                            ...  \n",
       "869274  2021-10-21 17:44:33.261467  \n",
       "869273  2021-10-21 17:44:48.501725  \n",
       "869272  2021-10-21 17:44:48.738427  \n",
       "869271  2021-10-21 17:45:01.412871  \n",
       "869270  2021-10-21 17:46:12.216189  \n",
       "\n",
       "[654223 rows x 25 columns]"
      ]
     },
     "execution_count": 157,
     "metadata": {},
     "output_type": "execute_result"
    }
   ],
   "source": [
    "df"
   ]
  },
  {
   "cell_type": "code",
   "execution_count": null,
   "metadata": {},
   "outputs": [],
   "source": [
    "for user in df['event_name'].value_counts().index:\n",
    "    print(user)"
   ]
  },
  {
   "cell_type": "markdown",
   "metadata": {},
   "source": [
    "Интересные ивенты: web.audience.subscriber.click, web.settings.invite_new_user.click"
   ]
  },
  {
   "cell_type": "code",
   "execution_count": 413,
   "metadata": {},
   "outputs": [
    {
     "data": {
      "text/plain": [
       "todo_list_item.connect_ig_account.done                          14783\n",
       "todo_list_item.verify_email.done                                14510\n",
       "todo_list_item.try_ig_automation.started                         5363\n",
       "todo_list_item.do_keyword_onboarding_campaign.started            4450\n",
       "todo_list_item.try_ig_automation.done                            3673\n",
       "todo_list_item.start_trial.done                                  2219\n",
       "todo_list_item.increase_engagement_and_organic_reach.started      224\n",
       "todo_list_item.start_trial.started                                167\n",
       "todo_list_item.enable_story_mention_reply.started                  75\n",
       "todo_list_item.redirect_customers_to_landing_page.started          68\n",
       "todo_list_item.automate_answers_on_common_questions.started        61\n",
       "Name: event_name, dtype: int64"
      ]
     },
     "execution_count": 413,
     "metadata": {},
     "output_type": "execute_result"
    }
   ],
   "source": [
    "df[(df['event_name'].notnull())&(df['event_name'].str.contains('todo_list_item'))]['event_name'].value_counts()"
   ]
  },
  {
   "cell_type": "code",
   "execution_count": 80,
   "metadata": {},
   "outputs": [],
   "source": [
    "df = df.sort_values(['client_id', 'event_dttm'])"
   ]
  },
  {
   "cell_type": "code",
   "execution_count": 81,
   "metadata": {},
   "outputs": [],
   "source": [
    "event_df = df[['client_id', 'event_name', 'event_dttm']]"
   ]
  },
  {
   "cell_type": "code",
   "execution_count": 82,
   "metadata": {},
   "outputs": [
    {
     "name": "stderr",
     "output_type": "stream",
     "text": [
      "C:\\Users\\Lemae\\anaconda3\\lib\\site-packages\\pandas\\core\\frame.py:3607: SettingWithCopyWarning:\n",
      "\n",
      "\n",
      "A value is trying to be set on a copy of a slice from a DataFrame.\n",
      "Try using .loc[row_indexer,col_indexer] = value instead\n",
      "\n",
      "See the caveats in the documentation: https://pandas.pydata.org/pandas-docs/stable/user_guide/indexing.html#returning-a-view-versus-a-copy\n",
      "\n"
     ]
    }
   ],
   "source": [
    "event_df['event_dttm'] = pd.to_datetime(event_df['event_dttm'])"
   ]
  },
  {
   "cell_type": "code",
   "execution_count": 83,
   "metadata": {},
   "outputs": [],
   "source": [
    "event_df['diff'] = event_df.groupby('client_id')['event_dttm'].diff(1)"
   ]
  },
  {
   "cell_type": "code",
   "execution_count": 84,
   "metadata": {},
   "outputs": [],
   "source": [
    "event_df = event_df.reset_index()"
   ]
  },
  {
   "cell_type": "code",
   "execution_count": 85,
   "metadata": {},
   "outputs": [],
   "source": [
    "sessions_start_df = event_df[(event_df['diff'].isnull()) | (event_df['diff'] > '1800 seconds')]\n",
    "sessions_start_df['session_id'] = sessions_start_df['index']"
   ]
  },
  {
   "cell_type": "code",
   "execution_count": 86,
   "metadata": {},
   "outputs": [
    {
     "data": {
      "text/html": [
       "<div>\n",
       "<style scoped>\n",
       "    .dataframe tbody tr th:only-of-type {\n",
       "        vertical-align: middle;\n",
       "    }\n",
       "\n",
       "    .dataframe tbody tr th {\n",
       "        vertical-align: top;\n",
       "    }\n",
       "\n",
       "    .dataframe thead th {\n",
       "        text-align: right;\n",
       "    }\n",
       "</style>\n",
       "<table border=\"1\" class=\"dataframe\">\n",
       "  <thead>\n",
       "    <tr style=\"text-align: right;\">\n",
       "      <th></th>\n",
       "      <th>index</th>\n",
       "      <th>client_id</th>\n",
       "      <th>event_name</th>\n",
       "      <th>event_dttm</th>\n",
       "      <th>diff</th>\n",
       "      <th>session_id</th>\n",
       "    </tr>\n",
       "  </thead>\n",
       "  <tbody>\n",
       "    <tr>\n",
       "      <th>0</th>\n",
       "      <td>10</td>\n",
       "      <td>100000</td>\n",
       "      <td>web.page_questionnaire.todo_list_personalizati...</td>\n",
       "      <td>2021-10-05 20:40:49.401840</td>\n",
       "      <td>NaT</td>\n",
       "      <td>10</td>\n",
       "    </tr>\n",
       "    <tr>\n",
       "      <th>11</th>\n",
       "      <td>27</td>\n",
       "      <td>100000</td>\n",
       "      <td>mobile.dialog_list__open</td>\n",
       "      <td>2021-10-05 21:45:46.695597</td>\n",
       "      <td>0 days 00:35:10.428174</td>\n",
       "      <td>27</td>\n",
       "    </tr>\n",
       "    <tr>\n",
       "      <th>18</th>\n",
       "      <td>20</td>\n",
       "      <td>100000</td>\n",
       "      <td>web.interface.dashboard.page_view</td>\n",
       "      <td>2021-10-10 20:49:03.404224</td>\n",
       "      <td>4 days 23:02:33.154560</td>\n",
       "      <td>20</td>\n",
       "    </tr>\n",
       "    <tr>\n",
       "      <th>28</th>\n",
       "      <td>44</td>\n",
       "      <td>100001</td>\n",
       "      <td>web.page_questionnaire.todo_list_personalizati...</td>\n",
       "      <td>2021-10-21 10:55:46.023532</td>\n",
       "      <td>NaT</td>\n",
       "      <td>44</td>\n",
       "    </tr>\n",
       "    <tr>\n",
       "      <th>45</th>\n",
       "      <td>60</td>\n",
       "      <td>100002</td>\n",
       "      <td>web.page_questionnaire.todo_list_personalizati...</td>\n",
       "      <td>2021-09-30 12:05:05.381512</td>\n",
       "      <td>NaT</td>\n",
       "      <td>60</td>\n",
       "    </tr>\n",
       "    <tr>\n",
       "      <th>...</th>\n",
       "      <td>...</td>\n",
       "      <td>...</td>\n",
       "      <td>...</td>\n",
       "      <td>...</td>\n",
       "      <td>...</td>\n",
       "      <td>...</td>\n",
       "    </tr>\n",
       "    <tr>\n",
       "      <th>654127</th>\n",
       "      <td>869062</td>\n",
       "      <td>115962</td>\n",
       "      <td>mobile.automations_promo__default_reply__setup...</td>\n",
       "      <td>2021-09-20 13:31:52.827302</td>\n",
       "      <td>NaT</td>\n",
       "      <td>869062</td>\n",
       "    </tr>\n",
       "    <tr>\n",
       "      <th>654128</th>\n",
       "      <td>869090</td>\n",
       "      <td>115963</td>\n",
       "      <td>web.page_questionnaire.todo_list_personalizati...</td>\n",
       "      <td>2021-09-27 21:38:53.486325</td>\n",
       "      <td>NaT</td>\n",
       "      <td>869090</td>\n",
       "    </tr>\n",
       "    <tr>\n",
       "      <th>654156</th>\n",
       "      <td>869128</td>\n",
       "      <td>115964</td>\n",
       "      <td>web.page_questionnaire.todo_list_personalizati...</td>\n",
       "      <td>2021-09-24 05:36:31.466922</td>\n",
       "      <td>NaT</td>\n",
       "      <td>869128</td>\n",
       "    </tr>\n",
       "    <tr>\n",
       "      <th>654194</th>\n",
       "      <td>869154</td>\n",
       "      <td>115966</td>\n",
       "      <td>web.page_questionnaire.todo_list_personalizati...</td>\n",
       "      <td>2021-09-26 23:41:02.563596</td>\n",
       "      <td>NaT</td>\n",
       "      <td>869154</td>\n",
       "    </tr>\n",
       "    <tr>\n",
       "      <th>654215</th>\n",
       "      <td>869277</td>\n",
       "      <td>115969</td>\n",
       "      <td>mobile.dialog_list__open</td>\n",
       "      <td>2021-10-21 17:44:03.398010</td>\n",
       "      <td>NaT</td>\n",
       "      <td>869277</td>\n",
       "    </tr>\n",
       "  </tbody>\n",
       "</table>\n",
       "<p>36522 rows × 6 columns</p>\n",
       "</div>"
      ],
      "text/plain": [
       "         index  client_id                                         event_name  \\\n",
       "0           10     100000  web.page_questionnaire.todo_list_personalizati...   \n",
       "11          27     100000                           mobile.dialog_list__open   \n",
       "18          20     100000                  web.interface.dashboard.page_view   \n",
       "28          44     100001  web.page_questionnaire.todo_list_personalizati...   \n",
       "45          60     100002  web.page_questionnaire.todo_list_personalizati...   \n",
       "...        ...        ...                                                ...   \n",
       "654127  869062     115962  mobile.automations_promo__default_reply__setup...   \n",
       "654128  869090     115963  web.page_questionnaire.todo_list_personalizati...   \n",
       "654156  869128     115964  web.page_questionnaire.todo_list_personalizati...   \n",
       "654194  869154     115966  web.page_questionnaire.todo_list_personalizati...   \n",
       "654215  869277     115969                           mobile.dialog_list__open   \n",
       "\n",
       "                       event_dttm                   diff  session_id  \n",
       "0      2021-10-05 20:40:49.401840                    NaT          10  \n",
       "11     2021-10-05 21:45:46.695597 0 days 00:35:10.428174          27  \n",
       "18     2021-10-10 20:49:03.404224 4 days 23:02:33.154560          20  \n",
       "28     2021-10-21 10:55:46.023532                    NaT          44  \n",
       "45     2021-09-30 12:05:05.381512                    NaT          60  \n",
       "...                           ...                    ...         ...  \n",
       "654127 2021-09-20 13:31:52.827302                    NaT      869062  \n",
       "654128 2021-09-27 21:38:53.486325                    NaT      869090  \n",
       "654156 2021-09-24 05:36:31.466922                    NaT      869128  \n",
       "654194 2021-09-26 23:41:02.563596                    NaT      869154  \n",
       "654215 2021-10-21 17:44:03.398010                    NaT      869277  \n",
       "\n",
       "[36522 rows x 6 columns]"
      ]
     },
     "execution_count": 86,
     "metadata": {},
     "output_type": "execute_result"
    }
   ],
   "source": [
    "sessions_start_df"
   ]
  },
  {
   "cell_type": "code",
   "execution_count": 87,
   "metadata": {},
   "outputs": [],
   "source": [
    "event_df = event_df.merge(sessions_start_df[['index', 'session_id']], how = 'left', on = 'index')"
   ]
  },
  {
   "cell_type": "code",
   "execution_count": 88,
   "metadata": {},
   "outputs": [],
   "source": [
    "event_df['is_first_event_in_session'] = event_df['index'] == event_df['session_id']"
   ]
  },
  {
   "cell_type": "code",
   "execution_count": 89,
   "metadata": {},
   "outputs": [],
   "source": [
    "event_df['session_id'] = event_df['session_id'].fillna(method='ffill')"
   ]
  },
  {
   "cell_type": "code",
   "execution_count": 90,
   "metadata": {},
   "outputs": [],
   "source": [
    "event_df = event_df[['index', 'client_id', 'event_name', 'event_dttm', 'session_id', 'is_first_event_in_session']]"
   ]
  },
  {
   "cell_type": "code",
   "execution_count": 91,
   "metadata": {},
   "outputs": [],
   "source": [
    "event_df['time_on_page'] = event_df.groupby(['session_id'])['event_dttm'].diff(1)"
   ]
  },
  {
   "cell_type": "code",
   "execution_count": 92,
   "metadata": {},
   "outputs": [],
   "source": [
    "event_df['time_on_page'] = event_df.groupby(['session_id'])['time_on_page'].shift(-1)"
   ]
  },
  {
   "cell_type": "code",
   "execution_count": 93,
   "metadata": {},
   "outputs": [],
   "source": [
    "event_df['time_on_page'] = event_df['time_on_page'] / np.timedelta64(1, 's')"
   ]
  },
  {
   "cell_type": "code",
   "execution_count": 94,
   "metadata": {},
   "outputs": [
    {
     "name": "stdout",
     "output_type": "stream",
     "text": [
      "Количество пользователей 12847\n",
      "Количество просмотров страниц (событий) у пользователей 654223\n",
      "Среднее время просмотра страниц у активированных пользователей, в сек 43.07739654242312\n"
     ]
    }
   ],
   "source": [
    "print('Количество пользователей', event_df['client_id'].nunique())\n",
    "print('Количество просмотров страниц (событий) у пользователей', event_df['session_id'].count())\n",
    "print('Среднее время просмотра страниц у активированных пользователей, в сек', event_df['time_on_page'].mean())"
   ]
  },
  {
   "cell_type": "code",
   "execution_count": 95,
   "metadata": {},
   "outputs": [],
   "source": [
    "first_session = event_df.groupby('client_id')['session_id'].min().reset_index()"
   ]
  },
  {
   "cell_type": "code",
   "execution_count": 96,
   "metadata": {},
   "outputs": [],
   "source": [
    "first_session['first_session'] = True"
   ]
  },
  {
   "cell_type": "code",
   "execution_count": 97,
   "metadata": {},
   "outputs": [],
   "source": [
    "event_df = event_df.merge(first_session, how = 'left', on = ['client_id', 'session_id'])"
   ]
  },
  {
   "cell_type": "code",
   "execution_count": 98,
   "metadata": {},
   "outputs": [],
   "source": [
    "event_df = event_df[event_df['first_session'] == True]"
   ]
  },
  {
   "cell_type": "code",
   "execution_count": 99,
   "metadata": {},
   "outputs": [
    {
     "name": "stdout",
     "output_type": "stream",
     "text": [
      "Количество пользователей 12847\n",
      "Количество сессий 12847\n",
      "Количество просмотров страниц (событий) 265860\n",
      "Среднее время просмотра страниц, в сек 35.16014399339262\n"
     ]
    }
   ],
   "source": [
    "print('Количество пользователей', event_df['client_id'].nunique())\n",
    "print('Количество сессий', event_df['session_id'].nunique())\n",
    "print('Количество просмотров страниц (событий)', event_df['index'].count())\n",
    "print('Среднее время просмотра страниц, в сек', event_df['time_on_page'].mean())"
   ]
  },
  {
   "cell_type": "code",
   "execution_count": 100,
   "metadata": {},
   "outputs": [],
   "source": [
    "last_event = event_df[event_df['time_on_page'].isnull()]"
   ]
  },
  {
   "cell_type": "code",
   "execution_count": 102,
   "metadata": {},
   "outputs": [],
   "source": [
    "first_event = sessions_start_df[['client_id', 'event_name', 'event_dttm', 'session_id']]"
   ]
  },
  {
   "cell_type": "code",
   "execution_count": 103,
   "metadata": {},
   "outputs": [
    {
     "name": "stderr",
     "output_type": "stream",
     "text": [
      "C:\\Users\\Lemae\\anaconda3\\lib\\site-packages\\pandas\\core\\frame.py:3607: SettingWithCopyWarning:\n",
      "\n",
      "\n",
      "A value is trying to be set on a copy of a slice from a DataFrame.\n",
      "Try using .loc[row_indexer,col_indexer] = value instead\n",
      "\n",
      "See the caveats in the documentation: https://pandas.pydata.org/pandas-docs/stable/user_guide/indexing.html#returning-a-view-versus-a-copy\n",
      "\n"
     ]
    }
   ],
   "source": [
    "from datetime import datetime, timedelta\n",
    "last_event['event_name'] = 'last_event'\n",
    "last_event['event_dttm'] = last_event['event_dttm'] + timedelta(minutes=1)\n",
    "first_event['event_name'] = 'first_event'\n",
    "first_event['event_dttm'] = first_event['event_dttm'] - timedelta(minutes=1)"
   ]
  },
  {
   "cell_type": "code",
   "execution_count": 106,
   "metadata": {},
   "outputs": [
    {
     "data": {
      "text/html": [
       "<div>\n",
       "<style scoped>\n",
       "    .dataframe tbody tr th:only-of-type {\n",
       "        vertical-align: middle;\n",
       "    }\n",
       "\n",
       "    .dataframe tbody tr th {\n",
       "        vertical-align: top;\n",
       "    }\n",
       "\n",
       "    .dataframe thead th {\n",
       "        text-align: right;\n",
       "    }\n",
       "</style>\n",
       "<table border=\"1\" class=\"dataframe\">\n",
       "  <thead>\n",
       "    <tr style=\"text-align: right;\">\n",
       "      <th></th>\n",
       "      <th>client_id</th>\n",
       "      <th>event_name</th>\n",
       "      <th>event_dttm</th>\n",
       "      <th>session_id</th>\n",
       "    </tr>\n",
       "  </thead>\n",
       "  <tbody>\n",
       "    <tr>\n",
       "      <th>0</th>\n",
       "      <td>100000</td>\n",
       "      <td>first_event</td>\n",
       "      <td>2021-10-05 20:39:49.401840</td>\n",
       "      <td>10</td>\n",
       "    </tr>\n",
       "    <tr>\n",
       "      <th>11</th>\n",
       "      <td>100000</td>\n",
       "      <td>first_event</td>\n",
       "      <td>2021-10-05 21:44:46.695597</td>\n",
       "      <td>27</td>\n",
       "    </tr>\n",
       "    <tr>\n",
       "      <th>18</th>\n",
       "      <td>100000</td>\n",
       "      <td>first_event</td>\n",
       "      <td>2021-10-10 20:48:03.404224</td>\n",
       "      <td>20</td>\n",
       "    </tr>\n",
       "    <tr>\n",
       "      <th>28</th>\n",
       "      <td>100001</td>\n",
       "      <td>first_event</td>\n",
       "      <td>2021-10-21 10:54:46.023532</td>\n",
       "      <td>44</td>\n",
       "    </tr>\n",
       "    <tr>\n",
       "      <th>45</th>\n",
       "      <td>100002</td>\n",
       "      <td>first_event</td>\n",
       "      <td>2021-09-30 12:04:05.381512</td>\n",
       "      <td>60</td>\n",
       "    </tr>\n",
       "    <tr>\n",
       "      <th>...</th>\n",
       "      <td>...</td>\n",
       "      <td>...</td>\n",
       "      <td>...</td>\n",
       "      <td>...</td>\n",
       "    </tr>\n",
       "    <tr>\n",
       "      <th>654127</th>\n",
       "      <td>115962</td>\n",
       "      <td>first_event</td>\n",
       "      <td>2021-09-20 13:30:52.827302</td>\n",
       "      <td>869062</td>\n",
       "    </tr>\n",
       "    <tr>\n",
       "      <th>654128</th>\n",
       "      <td>115963</td>\n",
       "      <td>first_event</td>\n",
       "      <td>2021-09-27 21:37:53.486325</td>\n",
       "      <td>869090</td>\n",
       "    </tr>\n",
       "    <tr>\n",
       "      <th>654156</th>\n",
       "      <td>115964</td>\n",
       "      <td>first_event</td>\n",
       "      <td>2021-09-24 05:35:31.466922</td>\n",
       "      <td>869128</td>\n",
       "    </tr>\n",
       "    <tr>\n",
       "      <th>654194</th>\n",
       "      <td>115966</td>\n",
       "      <td>first_event</td>\n",
       "      <td>2021-09-26 23:40:02.563596</td>\n",
       "      <td>869154</td>\n",
       "    </tr>\n",
       "    <tr>\n",
       "      <th>654215</th>\n",
       "      <td>115969</td>\n",
       "      <td>first_event</td>\n",
       "      <td>2021-10-21 17:43:03.398010</td>\n",
       "      <td>869277</td>\n",
       "    </tr>\n",
       "  </tbody>\n",
       "</table>\n",
       "<p>36522 rows × 4 columns</p>\n",
       "</div>"
      ],
      "text/plain": [
       "        client_id   event_name                 event_dttm  session_id\n",
       "0          100000  first_event 2021-10-05 20:39:49.401840          10\n",
       "11         100000  first_event 2021-10-05 21:44:46.695597          27\n",
       "18         100000  first_event 2021-10-10 20:48:03.404224          20\n",
       "28         100001  first_event 2021-10-21 10:54:46.023532          44\n",
       "45         100002  first_event 2021-09-30 12:04:05.381512          60\n",
       "...           ...          ...                        ...         ...\n",
       "654127     115962  first_event 2021-09-20 13:30:52.827302      869062\n",
       "654128     115963  first_event 2021-09-27 21:37:53.486325      869090\n",
       "654156     115964  first_event 2021-09-24 05:35:31.466922      869128\n",
       "654194     115966  first_event 2021-09-26 23:40:02.563596      869154\n",
       "654215     115969  first_event 2021-10-21 17:43:03.398010      869277\n",
       "\n",
       "[36522 rows x 4 columns]"
      ]
     },
     "execution_count": 106,
     "metadata": {},
     "output_type": "execute_result"
    }
   ],
   "source": [
    "first_event"
   ]
  },
  {
   "cell_type": "code",
   "execution_count": 104,
   "metadata": {},
   "outputs": [],
   "source": [
    "event_df = pd.concat([event_df.drop('index', axis = 1), last_event.drop('index', axis = 1)], ignore_index = True)"
   ]
  },
  {
   "cell_type": "code",
   "execution_count": 107,
   "metadata": {},
   "outputs": [],
   "source": [
    "event_df = pd.concat([event_df, first_event], ignore_index = True)"
   ]
  },
  {
   "cell_type": "code",
   "execution_count": 108,
   "metadata": {},
   "outputs": [],
   "source": [
    "event_df = event_df.sort_values(['client_id', 'event_dttm'])"
   ]
  },
  {
   "cell_type": "code",
   "execution_count": 109,
   "metadata": {},
   "outputs": [
    {
     "data": {
      "text/html": [
       "<div>\n",
       "<style scoped>\n",
       "    .dataframe tbody tr th:only-of-type {\n",
       "        vertical-align: middle;\n",
       "    }\n",
       "\n",
       "    .dataframe tbody tr th {\n",
       "        vertical-align: top;\n",
       "    }\n",
       "\n",
       "    .dataframe thead th {\n",
       "        text-align: right;\n",
       "    }\n",
       "</style>\n",
       "<table border=\"1\" class=\"dataframe\">\n",
       "  <thead>\n",
       "    <tr style=\"text-align: right;\">\n",
       "      <th></th>\n",
       "      <th>client_id</th>\n",
       "      <th>event_name</th>\n",
       "      <th>event_dttm</th>\n",
       "      <th>session_id</th>\n",
       "      <th>is_first_event_in_session</th>\n",
       "      <th>time_on_page</th>\n",
       "      <th>first_session</th>\n",
       "    </tr>\n",
       "  </thead>\n",
       "  <tbody>\n",
       "    <tr>\n",
       "      <th>278707</th>\n",
       "      <td>100000</td>\n",
       "      <td>first_event</td>\n",
       "      <td>2021-10-05 20:39:49.401840</td>\n",
       "      <td>10.0</td>\n",
       "      <td>NaN</td>\n",
       "      <td>NaN</td>\n",
       "      <td>NaN</td>\n",
       "    </tr>\n",
       "    <tr>\n",
       "      <th>0</th>\n",
       "      <td>100000</td>\n",
       "      <td>web.page_questionnaire.todo_list_personalizati...</td>\n",
       "      <td>2021-10-05 20:40:49.401840</td>\n",
       "      <td>10.0</td>\n",
       "      <td>True</td>\n",
       "      <td>37.129445</td>\n",
       "      <td>True</td>\n",
       "    </tr>\n",
       "    <tr>\n",
       "      <th>1</th>\n",
       "      <td>100000</td>\n",
       "      <td>todo_list_item.verify_email.done</td>\n",
       "      <td>2021-10-05 20:41:26.531285</td>\n",
       "      <td>10.0</td>\n",
       "      <td>False</td>\n",
       "      <td>0.000130</td>\n",
       "      <td>True</td>\n",
       "    </tr>\n",
       "    <tr>\n",
       "      <th>2</th>\n",
       "      <td>100000</td>\n",
       "      <td>todo_list_item.verify_email.done</td>\n",
       "      <td>2021-10-05 20:41:26.531415</td>\n",
       "      <td>10.0</td>\n",
       "      <td>False</td>\n",
       "      <td>0.000154</td>\n",
       "      <td>True</td>\n",
       "    </tr>\n",
       "    <tr>\n",
       "      <th>3</th>\n",
       "      <td>100000</td>\n",
       "      <td>todo_list_item.connect_ig_account.done</td>\n",
       "      <td>2021-10-05 20:41:26.531569</td>\n",
       "      <td>10.0</td>\n",
       "      <td>False</td>\n",
       "      <td>0.000007</td>\n",
       "      <td>True</td>\n",
       "    </tr>\n",
       "    <tr>\n",
       "      <th>...</th>\n",
       "      <td>...</td>\n",
       "      <td>...</td>\n",
       "      <td>...</td>\n",
       "      <td>...</td>\n",
       "      <td>...</td>\n",
       "      <td>...</td>\n",
       "      <td>...</td>\n",
       "    </tr>\n",
       "    <tr>\n",
       "      <th>265856</th>\n",
       "      <td>115969</td>\n",
       "      <td>mobile.automations_list__new__clicked</td>\n",
       "      <td>2021-10-21 17:44:48.501725</td>\n",
       "      <td>869277.0</td>\n",
       "      <td>False</td>\n",
       "      <td>0.236702</td>\n",
       "      <td>True</td>\n",
       "    </tr>\n",
       "    <tr>\n",
       "      <th>265857</th>\n",
       "      <td>115969</td>\n",
       "      <td>mobile.automations_list__closed</td>\n",
       "      <td>2021-10-21 17:44:48.738427</td>\n",
       "      <td>869277.0</td>\n",
       "      <td>False</td>\n",
       "      <td>12.674444</td>\n",
       "      <td>True</td>\n",
       "    </tr>\n",
       "    <tr>\n",
       "      <th>265858</th>\n",
       "      <td>115969</td>\n",
       "      <td>mobile.automations_promo__opened</td>\n",
       "      <td>2021-10-21 17:45:01.412871</td>\n",
       "      <td>869277.0</td>\n",
       "      <td>False</td>\n",
       "      <td>70.803318</td>\n",
       "      <td>True</td>\n",
       "    </tr>\n",
       "    <tr>\n",
       "      <th>265859</th>\n",
       "      <td>115969</td>\n",
       "      <td>mobile.automations_promo__default_reply__setup...</td>\n",
       "      <td>2021-10-21 17:46:12.216189</td>\n",
       "      <td>869277.0</td>\n",
       "      <td>False</td>\n",
       "      <td>NaN</td>\n",
       "      <td>True</td>\n",
       "    </tr>\n",
       "    <tr>\n",
       "      <th>278706</th>\n",
       "      <td>115969</td>\n",
       "      <td>last_event</td>\n",
       "      <td>2021-10-21 17:47:12.216189</td>\n",
       "      <td>869277.0</td>\n",
       "      <td>False</td>\n",
       "      <td>NaN</td>\n",
       "      <td>True</td>\n",
       "    </tr>\n",
       "  </tbody>\n",
       "</table>\n",
       "<p>315229 rows × 7 columns</p>\n",
       "</div>"
      ],
      "text/plain": [
       "        client_id                                         event_name  \\\n",
       "278707     100000                                        first_event   \n",
       "0          100000  web.page_questionnaire.todo_list_personalizati...   \n",
       "1          100000                   todo_list_item.verify_email.done   \n",
       "2          100000                   todo_list_item.verify_email.done   \n",
       "3          100000             todo_list_item.connect_ig_account.done   \n",
       "...           ...                                                ...   \n",
       "265856     115969              mobile.automations_list__new__clicked   \n",
       "265857     115969                    mobile.automations_list__closed   \n",
       "265858     115969                   mobile.automations_promo__opened   \n",
       "265859     115969  mobile.automations_promo__default_reply__setup...   \n",
       "278706     115969                                         last_event   \n",
       "\n",
       "                       event_dttm  session_id is_first_event_in_session  \\\n",
       "278707 2021-10-05 20:39:49.401840        10.0                       NaN   \n",
       "0      2021-10-05 20:40:49.401840        10.0                      True   \n",
       "1      2021-10-05 20:41:26.531285        10.0                     False   \n",
       "2      2021-10-05 20:41:26.531415        10.0                     False   \n",
       "3      2021-10-05 20:41:26.531569        10.0                     False   \n",
       "...                           ...         ...                       ...   \n",
       "265856 2021-10-21 17:44:48.501725    869277.0                     False   \n",
       "265857 2021-10-21 17:44:48.738427    869277.0                     False   \n",
       "265858 2021-10-21 17:45:01.412871    869277.0                     False   \n",
       "265859 2021-10-21 17:46:12.216189    869277.0                     False   \n",
       "278706 2021-10-21 17:47:12.216189    869277.0                     False   \n",
       "\n",
       "        time_on_page first_session  \n",
       "278707           NaN           NaN  \n",
       "0          37.129445          True  \n",
       "1           0.000130          True  \n",
       "2           0.000154          True  \n",
       "3           0.000007          True  \n",
       "...              ...           ...  \n",
       "265856      0.236702          True  \n",
       "265857     12.674444          True  \n",
       "265858     70.803318          True  \n",
       "265859           NaN          True  \n",
       "278706           NaN          True  \n",
       "\n",
       "[315229 rows x 7 columns]"
      ]
     },
     "execution_count": 109,
     "metadata": {},
     "output_type": "execute_result"
    }
   ],
   "source": [
    "event_df"
   ]
  },
  {
   "cell_type": "markdown",
   "metadata": {},
   "source": [
    "Убираем повторяющиеся события в датафрейме:"
   ]
  },
  {
   "cell_type": "code",
   "execution_count": 110,
   "metadata": {},
   "outputs": [],
   "source": [
    "event_df1 = event_df.drop_duplicates(subset=['client_id', 'event_name'], keep='first', ignore_index=True)"
   ]
  },
  {
   "cell_type": "code",
   "execution_count": 111,
   "metadata": {},
   "outputs": [],
   "source": [
    "event_df2 = event_df1.copy()"
   ]
  },
  {
   "cell_type": "code",
   "execution_count": 112,
   "metadata": {},
   "outputs": [
    {
     "name": "stderr",
     "output_type": "stream",
     "text": [
      "C:\\Users\\Lemae\\anaconda3\\lib\\site-packages\\pandas\\core\\frame.py:3607: SettingWithCopyWarning:\n",
      "\n",
      "\n",
      "A value is trying to be set on a copy of a slice from a DataFrame.\n",
      "Try using .loc[row_indexer,col_indexer] = value instead\n",
      "\n",
      "See the caveats in the documentation: https://pandas.pydata.org/pandas-docs/stable/user_guide/indexing.html#returning-a-view-versus-a-copy\n",
      "\n"
     ]
    }
   ],
   "source": [
    "event_df1['time_on_page'] = event_df1['time_on_page'].fillna(0)"
   ]
  },
  {
   "cell_type": "code",
   "execution_count": 113,
   "metadata": {},
   "outputs": [],
   "source": [
    "event_df1[\"event_name\"] = event_df1[\"event_name\"].astype('category')"
   ]
  },
  {
   "cell_type": "markdown",
   "metadata": {},
   "source": [
    "# Выводы"
   ]
  },
  {
   "cell_type": "code",
   "execution_count": 114,
   "metadata": {},
   "outputs": [],
   "source": [
    "event_df1[\"event_name_cat\"] = event_df1[\"event_name\"].cat.codes"
   ]
  },
  {
   "cell_type": "code",
   "execution_count": null,
   "metadata": {},
   "outputs": [],
   "source": [
    "event_df1"
   ]
  },
  {
   "cell_type": "code",
   "execution_count": 115,
   "metadata": {},
   "outputs": [],
   "source": [
    "X = event_df1.drop(['event_name', 'event_dttm', 'is_first_event_in_session', 'session_id', 'first_session'], axis = 1)"
   ]
  },
  {
   "cell_type": "code",
   "execution_count": 116,
   "metadata": {},
   "outputs": [],
   "source": [
    "from sklearn.preprocessing import StandardScaler\n",
    "X = StandardScaler().fit_transform(X)"
   ]
  },
  {
   "cell_type": "code",
   "execution_count": 117,
   "metadata": {},
   "outputs": [],
   "source": [
    "from sklearn.cluster import KMeans"
   ]
  },
  {
   "cell_type": "code",
   "execution_count": 118,
   "metadata": {
    "scrolled": true
   },
   "outputs": [
    {
     "data": {
      "image/png": "[encoded data removed]",
      "text/plain": [
       "<Figure size 576x432 with 1 Axes>"
      ]
     },
     "metadata": {
      "needs_background": "light"
     },
     "output_type": "display_data"
    }
   ],
   "source": [
    "import matplotlib.pyplot as plt\n",
    "from sklearn.cluster import DBSCAN\n",
    "from sklearn.decomposition import PCA\n",
    "distortions = []\n",
    "for i in range(1, 11):\n",
    "    km = KMeans(\n",
    "        n_clusters=i, init='random',\n",
    "        n_init=10, max_iter=300,\n",
    "        tol=1e-04, random_state=0\n",
    "    )\n",
    "    km.fit(X)\n",
    "    distortions.append(km.inertia_)\n",
    "\n",
    "# plot\n",
    "plt.plot(range(1, 11), distortions, marker='o')\n",
    "plt.xlabel('Number of clusters')\n",
    "plt.ylabel('Distortion')\n",
    "plt.show()"
   ]
  },
  {
   "cell_type": "code",
   "execution_count": 119,
   "metadata": {},
   "outputs": [],
   "source": [
    "la = event_df2['event_name'].value_counts().head(300).index.to_list()\n",
    "event_df2.loc[~event_df2['event_name'].isin(la), 'event_name'] = 'rare_event'"
   ]
  },
  {
   "cell_type": "code",
   "execution_count": null,
   "metadata": {},
   "outputs": [],
   "source": [
    "for event in event_df2['event_name'].value_counts().index:\n",
    "    print(event)"
   ]
  },
  {
   "cell_type": "code",
   "execution_count": 47,
   "metadata": {},
   "outputs": [
    {
     "data": {
      "text/plain": [
       "todo_list_item.connect_ig_account.done                          4996\n",
       "todo_list_item.verify_email.done                                4948\n",
       "todo_list_item.try_ig_automation.started                        3145\n",
       "todo_list_item.do_keyword_onboarding_campaign.started           2605\n",
       "todo_list_item.try_ig_automation.done                           2581\n",
       "todo_list_item.start_trial.done                                 1004\n",
       "todo_list_item.increase_engagement_and_organic_reach.started     108\n",
       "todo_list_item.start_trial.started                                76\n",
       "todo_list_item.redirect_customers_to_landing_page.started         35\n",
       "todo_list_item.enable_story_mention_reply.started                 35\n",
       "todo_list_item.automate_answers_on_common_questions.started       32\n",
       "Name: event_name, dtype: int64"
      ]
     },
     "execution_count": 47,
     "metadata": {},
     "output_type": "execute_result"
    }
   ],
   "source": [
    "event_df2[(event_df2['event_name'].notnull())&(event_df2['event_name'].str.contains('todo_list_item'))]['event_name'].value_counts()"
   ]
  },
  {
   "cell_type": "code",
   "execution_count": 48,
   "metadata": {},
   "outputs": [],
   "source": [
    "import retentioneering\n",
    "\n",
    "\n",
    "# update config to pass columns names:\n",
    "retentioneering.config.update({\n",
    "    'user_col': 'client_id',\n",
    "    'event_col':'event_name',\n",
    "    'event_time_col':'event_dttm',\n",
    "})"
   ]
  },
  {
   "cell_type": "markdown",
   "metadata": {},
   "source": [
    "Cравнение логов у активированных и неактивированных пользователей:"
   ]
  },
  {
   "cell_type": "code",
   "execution_count": 161,
   "metadata": {
    "scrolled": true
   },
   "outputs": [
    {
     "data": {
      "text/html": [
       "\n",
       "        <iframe\n",
       "            width=\"1000\"\n",
       "            height=\"700\"\n",
       "            src=\"experiments/graph_2022-04-01 22_19_25_977063.html\"\n",
       "            frameborder=\"0\"\n",
       "            allowfullscreen\n",
       "        ></iframe>\n",
       "        "
      ],
      "text/plain": [
       "<IPython.lib.display.IFrame at 0x24b52d43d60>"
      ]
     },
     "metadata": {},
     "output_type": "display_data"
    },
    {
     "data": {
      "text/plain": [
       "'experiments/graph_2022-04-01 22_19_25_977063.html'"
      ]
     },
     "execution_count": 161,
     "metadata": {},
     "output_type": "execute_result"
    }
   ],
   "source": [
    "event_df2.rete.plot_graph(norm_type=None,\n",
    "                     thresh=500,\n",
    "                       weight_col='client_id',\n",
    "                       targets = {'last_event':'red',\n",
    "                                  'todo_list_item.do_keyword_onboarding_campaign.started':'green'})"
   ]
  },
  {
   "cell_type": "markdown",
   "metadata": {},
   "source": [
    "Кластеризация активированных пользователей"
   ]
  },
  {
   "cell_type": "code",
   "execution_count": 160,
   "metadata": {},
   "outputs": [
    {
     "data": {
      "text/plain": [
       "array([3, 1, 1, ..., 3, 1, 0])"
      ]
     },
     "execution_count": 160,
     "metadata": {},
     "output_type": "execute_result"
    },
    {
     "data": {
      "image/png": "[encoded data removed]",
      "text/plain": [
       "<Figure size 576x432 with 1 Axes>"
      ]
     },
     "metadata": {
      "needs_background": "light"
     },
     "output_type": "display_data"
    }
   ],
   "source": [
    "event_df2.rete.get_clusters(method='kmeans',\n",
    "                       feature_type='tfidf',\n",
    "                       n_clusters=4,\n",
    "                       ngram_range=(1,2),\n",
    "                       plot_type='cluster_bar',\n",
    "                       targets=['todo_list_item.connect_ig_account.done','todo_list_item.try_ig_automation.done', 'todo_list_item.do_keyword_onboarding_campaign.started'])"
   ]
  },
  {
   "cell_type": "code",
   "execution_count": 162,
   "metadata": {},
   "outputs": [],
   "source": [
    "clus_0 = event_df2.rete.filter_cluster(0)\n",
    "clus_1 = event_df2.rete.filter_cluster(1)\n",
    "clus_2 = event_df2.rete.filter_cluster(2)\n",
    "clus_3 = event_df2.rete.filter_cluster(3)"
   ]
  },
  {
   "cell_type": "code",
   "execution_count": 126,
   "metadata": {},
   "outputs": [],
   "source": [
    "c0 = set(clus_0['client_id'])\n",
    "c1 = set(clus_1['client_id'])\n",
    "c2 = set(clus_2['client_id'])\n",
    "c3 = set(clus_3['client_id'])"
   ]
  },
  {
   "cell_type": "code",
   "execution_count": 233,
   "metadata": {},
   "outputs": [
    {
     "data": {
      "text/plain": [
       "7404"
      ]
     },
     "execution_count": 233,
     "metadata": {},
     "output_type": "execute_result"
    }
   ],
   "source": [
    "len(c3)"
   ]
  },
  {
   "cell_type": "code",
   "execution_count": 127,
   "metadata": {},
   "outputs": [],
   "source": [
    "event_df2.loc[event_df2['client_id'].isin(c0), 'Группа'] = 0\n",
    "event_df2.loc[event_df2['client_id'].isin(c1), 'Группа'] = 1\n",
    "event_df2.loc[event_df2['client_id'].isin(c2), 'Группа'] = 2\n",
    "event_df2.loc[event_df2['client_id'].isin(c3), 'Группа'] = 3"
   ]
  },
  {
   "cell_type": "code",
   "execution_count": 132,
   "metadata": {},
   "outputs": [
    {
     "name": "stdout",
     "output_type": "stream",
     "text": [
      "<class 'pandas.core.frame.DataFrame'>\n",
      "RangeIndex: 170848 entries, 0 to 170847\n",
      "Data columns (total 8 columns):\n",
      " #   Column                     Non-Null Count   Dtype         \n",
      "---  ------                     --------------   -----         \n",
      " 0   client_id                  170848 non-null  int64         \n",
      " 1   event_name                 170848 non-null  object        \n",
      " 2   event_dttm                 168715 non-null  datetime64[ns]\n",
      " 3   session_id                 170848 non-null  float64       \n",
      " 4   is_first_event_in_session  158001 non-null  object        \n",
      " 5   time_on_page               135745 non-null  float64       \n",
      " 6   first_session              158001 non-null  object        \n",
      " 7   Группа                     170848 non-null  float64       \n",
      "dtypes: datetime64[ns](1), float64(3), int64(1), object(3)\n",
      "memory usage: 10.4+ MB\n"
     ]
    }
   ],
   "source": [
    "event_df2.info()"
   ]
  },
  {
   "cell_type": "code",
   "execution_count": 139,
   "metadata": {},
   "outputs": [
    {
     "name": "stderr",
     "output_type": "stream",
     "text": [
      "<ipython-input-139-863f09978624>:1: FutureWarning:\n",
      "\n",
      "Indexing with multiple keys (implicitly converted to a tuple of keys) will be deprecated, use a list instead.\n",
      "\n"
     ]
    }
   ],
   "source": [
    "group_by_claster = event_df2.groupby(by= ['Группа'])['client_id', 'event_name', 'time_on_page'].agg({'client_id':'nunique','event_name':'count', 'time_on_page':'sum'}).reset_index()\n",
    "group_by_claster['event_per_client'] = group_by_claster['event_name'] / group_by_claster['client_id']\n",
    "group_by_claster['time_on_page_per_client'] = group_by_claster['time_on_page'] / group_by_claster['client_id']"
   ]
  },
  {
   "cell_type": "code",
   "execution_count": 141,
   "metadata": {},
   "outputs": [],
   "source": [
    "group_by_claster['event_per_client'] = group_by_claster['event_name'] / group_by_claster['client_id']\n",
    "group_by_claster['time_on_page_per_client'] = group_by_claster['time_on_page'] / group_by_claster['client_id']"
   ]
  },
  {
   "cell_type": "code",
   "execution_count": 156,
   "metadata": {},
   "outputs": [
    {
     "data": {
      "image/png": "[encoded data removed]",
      "text/plain": [
       "<Figure size 1296x576 with 1 Axes>"
      ]
     },
     "metadata": {
      "needs_background": "light"
     },
     "output_type": "display_data"
    }
   ],
   "source": [
    "plt.figure(figsize=(18, 8))\n",
    "boxplot = sns.boxplot(x = 'Группа', y = 'event_name', data = event_df2.groupby(by= ['Группа', 'client_id'])['event_name'].count().reset_index())\n",
    "boxplot.set_title('Распределение количества ивентов по клиентам в кластерах', fontdict={'fontsize':18}, pad=16)\n",
    "plt.show()"
   ]
  },
  {
   "cell_type": "code",
   "execution_count": 153,
   "metadata": {},
   "outputs": [
    {
     "data": {
      "text/html": [
       "<div>\n",
       "<style scoped>\n",
       "    .dataframe tbody tr th:only-of-type {\n",
       "        vertical-align: middle;\n",
       "    }\n",
       "\n",
       "    .dataframe tbody tr th {\n",
       "        vertical-align: top;\n",
       "    }\n",
       "\n",
       "    .dataframe thead th {\n",
       "        text-align: right;\n",
       "    }\n",
       "</style>\n",
       "<table border=\"1\" class=\"dataframe\">\n",
       "  <thead>\n",
       "    <tr style=\"text-align: right;\">\n",
       "      <th></th>\n",
       "      <th>Группа</th>\n",
       "      <th>client_id</th>\n",
       "      <th>event_name</th>\n",
       "    </tr>\n",
       "  </thead>\n",
       "  <tbody>\n",
       "    <tr>\n",
       "      <th>0</th>\n",
       "      <td>0.0</td>\n",
       "      <td>100003</td>\n",
       "      <td>20</td>\n",
       "    </tr>\n",
       "    <tr>\n",
       "      <th>1</th>\n",
       "      <td>0.0</td>\n",
       "      <td>100012</td>\n",
       "      <td>4</td>\n",
       "    </tr>\n",
       "    <tr>\n",
       "      <th>2</th>\n",
       "      <td>0.0</td>\n",
       "      <td>100014</td>\n",
       "      <td>10</td>\n",
       "    </tr>\n",
       "    <tr>\n",
       "      <th>3</th>\n",
       "      <td>0.0</td>\n",
       "      <td>100017</td>\n",
       "      <td>26</td>\n",
       "    </tr>\n",
       "    <tr>\n",
       "      <th>4</th>\n",
       "      <td>0.0</td>\n",
       "      <td>100029</td>\n",
       "      <td>12</td>\n",
       "    </tr>\n",
       "    <tr>\n",
       "      <th>...</th>\n",
       "      <td>...</td>\n",
       "      <td>...</td>\n",
       "      <td>...</td>\n",
       "    </tr>\n",
       "    <tr>\n",
       "      <th>12842</th>\n",
       "      <td>3.0</td>\n",
       "      <td>115954</td>\n",
       "      <td>6</td>\n",
       "    </tr>\n",
       "    <tr>\n",
       "      <th>12843</th>\n",
       "      <td>3.0</td>\n",
       "      <td>115956</td>\n",
       "      <td>10</td>\n",
       "    </tr>\n",
       "    <tr>\n",
       "      <th>12844</th>\n",
       "      <td>3.0</td>\n",
       "      <td>115960</td>\n",
       "      <td>23</td>\n",
       "    </tr>\n",
       "    <tr>\n",
       "      <th>12845</th>\n",
       "      <td>3.0</td>\n",
       "      <td>115963</td>\n",
       "      <td>25</td>\n",
       "    </tr>\n",
       "    <tr>\n",
       "      <th>12846</th>\n",
       "      <td>3.0</td>\n",
       "      <td>115964</td>\n",
       "      <td>28</td>\n",
       "    </tr>\n",
       "  </tbody>\n",
       "</table>\n",
       "<p>12847 rows × 3 columns</p>\n",
       "</div>"
      ],
      "text/plain": [
       "       Группа  client_id  event_name\n",
       "0         0.0     100003          20\n",
       "1         0.0     100012           4\n",
       "2         0.0     100014          10\n",
       "3         0.0     100017          26\n",
       "4         0.0     100029          12\n",
       "...       ...        ...         ...\n",
       "12842     3.0     115954           6\n",
       "12843     3.0     115956          10\n",
       "12844     3.0     115960          23\n",
       "12845     3.0     115963          25\n",
       "12846     3.0     115964          28\n",
       "\n",
       "[12847 rows x 3 columns]"
      ]
     },
     "execution_count": 153,
     "metadata": {},
     "output_type": "execute_result"
    }
   ],
   "source": [
    "event_df2.groupby(by= ['Группа', 'client_id'])['event_name'].count().reset_index()"
   ]
  },
  {
   "cell_type": "code",
   "execution_count": 180,
   "metadata": {},
   "outputs": [
    {
     "data": {
      "text/plain": [
       "7404"
      ]
     },
     "execution_count": 180,
     "metadata": {},
     "output_type": "execute_result"
    }
   ],
   "source": [
    "clus_3['client_id'].nunique()"
   ]
  },
  {
   "cell_type": "code",
   "execution_count": 178,
   "metadata": {},
   "outputs": [
    {
     "data": {
      "text/html": [
       "\n",
       "        <iframe\n",
       "            width=\"1000\"\n",
       "            height=\"700\"\n",
       "            src=\"experiments/graph_2022-04-01 23_25_57_170695.html\"\n",
       "            frameborder=\"0\"\n",
       "            allowfullscreen\n",
       "        ></iframe>\n",
       "        "
      ],
      "text/plain": [
       "<IPython.lib.display.IFrame at 0x24b5113eb20>"
      ]
     },
     "metadata": {},
     "output_type": "display_data"
    },
    {
     "data": {
      "text/plain": [
       "'experiments/graph_2022-04-01 23_25_57_170695.html'"
      ]
     },
     "execution_count": 178,
     "metadata": {},
     "output_type": "execute_result"
    }
   ],
   "source": [
    "clus_3.rete.plot_graph(norm_type=None,\n",
    "                     thresh=600,\n",
    "                       weight_col='client_id',\n",
    "                       targets = {'last_event':'red',\n",
    "                                  'todo_list_item.do_keyword_onboarding_campaign.started':'green'})"
   ]
  },
  {
   "cell_type": "code",
   "execution_count": null,
   "metadata": {},
   "outputs": [],
   "source": [
    "event_df2.rete.step_matrix(max_steps=20,\n",
    "                        centered={'event': 'todo_list_item.do_keyword_onboarding_campaign.started',\n",
    "                                  'left_gap': 6,\n",
    "                                  'occurrence': 1})"
   ]
  },
  {
   "cell_type": "code",
   "execution_count": 179,
   "metadata": {},
   "outputs": [
    {
     "data": {
      "text/html": [
       "<div>\n",
       "<style scoped>\n",
       "    .dataframe tbody tr th:only-of-type {\n",
       "        vertical-align: middle;\n",
       "    }\n",
       "\n",
       "    .dataframe tbody tr th {\n",
       "        vertical-align: top;\n",
       "    }\n",
       "\n",
       "    .dataframe thead th {\n",
       "        text-align: right;\n",
       "    }\n",
       "</style>\n",
       "<table border=\"1\" class=\"dataframe\">\n",
       "  <thead>\n",
       "    <tr style=\"text-align: right;\">\n",
       "      <th></th>\n",
       "      <th>1</th>\n",
       "      <th>2</th>\n",
       "      <th>3</th>\n",
       "      <th>4</th>\n",
       "      <th>5</th>\n",
       "      <th>6</th>\n",
       "      <th>7</th>\n",
       "      <th>8</th>\n",
       "      <th>9</th>\n",
       "      <th>10</th>\n",
       "      <th>11</th>\n",
       "      <th>12</th>\n",
       "      <th>13</th>\n",
       "      <th>14</th>\n",
       "      <th>15</th>\n",
       "      <th>16</th>\n",
       "    </tr>\n",
       "  </thead>\n",
       "  <tbody>\n",
       "    <tr>\n",
       "      <th>first_event</th>\n",
       "      <td>1.0</td>\n",
       "      <td>0.000000</td>\n",
       "      <td>0.000000</td>\n",
       "      <td>0.000000</td>\n",
       "      <td>0.000000</td>\n",
       "      <td>0.000000</td>\n",
       "      <td>0.000000</td>\n",
       "      <td>0.000000</td>\n",
       "      <td>0.000000</td>\n",
       "      <td>0.000000</td>\n",
       "      <td>0.000000</td>\n",
       "      <td>0.000000</td>\n",
       "      <td>0.000000</td>\n",
       "      <td>0.000000</td>\n",
       "      <td>0.000000</td>\n",
       "      <td>0.000000</td>\n",
       "    </tr>\n",
       "    <tr>\n",
       "      <th>web.page_questionnaire.todo_list_personalization.shown</th>\n",
       "      <td>0.0</td>\n",
       "      <td>0.343733</td>\n",
       "      <td>0.000000</td>\n",
       "      <td>0.000135</td>\n",
       "      <td>0.000000</td>\n",
       "      <td>0.000000</td>\n",
       "      <td>0.000135</td>\n",
       "      <td>0.000000</td>\n",
       "      <td>0.000000</td>\n",
       "      <td>0.000000</td>\n",
       "      <td>0.000000</td>\n",
       "      <td>0.000000</td>\n",
       "      <td>0.000000</td>\n",
       "      <td>0.000135</td>\n",
       "      <td>0.000000</td>\n",
       "      <td>0.000000</td>\n",
       "    </tr>\n",
       "    <tr>\n",
       "      <th>todo_list_item.verify_email.done</th>\n",
       "      <td>0.0</td>\n",
       "      <td>0.025122</td>\n",
       "      <td>0.311858</td>\n",
       "      <td>0.041734</td>\n",
       "      <td>0.009184</td>\n",
       "      <td>0.000135</td>\n",
       "      <td>0.000405</td>\n",
       "      <td>0.000675</td>\n",
       "      <td>0.000270</td>\n",
       "      <td>0.000540</td>\n",
       "      <td>0.000135</td>\n",
       "      <td>0.000135</td>\n",
       "      <td>0.000000</td>\n",
       "      <td>0.000000</td>\n",
       "      <td>0.000000</td>\n",
       "      <td>0.000000</td>\n",
       "    </tr>\n",
       "    <tr>\n",
       "      <th>todo_list_item.connect_ig_account.done</th>\n",
       "      <td>0.0</td>\n",
       "      <td>0.001080</td>\n",
       "      <td>0.029579</td>\n",
       "      <td>0.312129</td>\n",
       "      <td>0.042004</td>\n",
       "      <td>0.009184</td>\n",
       "      <td>0.000135</td>\n",
       "      <td>0.000405</td>\n",
       "      <td>0.000675</td>\n",
       "      <td>0.000270</td>\n",
       "      <td>0.000540</td>\n",
       "      <td>0.000135</td>\n",
       "      <td>0.000135</td>\n",
       "      <td>0.000000</td>\n",
       "      <td>0.000000</td>\n",
       "      <td>0.000000</td>\n",
       "    </tr>\n",
       "    <tr>\n",
       "      <th>web.interface.dashboard.page_view</th>\n",
       "      <td>0.0</td>\n",
       "      <td>0.257293</td>\n",
       "      <td>0.058212</td>\n",
       "      <td>0.090897</td>\n",
       "      <td>0.260400</td>\n",
       "      <td>0.060103</td>\n",
       "      <td>0.005538</td>\n",
       "      <td>0.002836</td>\n",
       "      <td>0.003106</td>\n",
       "      <td>0.003512</td>\n",
       "      <td>0.002701</td>\n",
       "      <td>0.002296</td>\n",
       "      <td>0.001756</td>\n",
       "      <td>0.001486</td>\n",
       "      <td>0.001486</td>\n",
       "      <td>0.000810</td>\n",
       "    </tr>\n",
       "    <tr>\n",
       "      <th>web.home_tab.todo_list.shown</th>\n",
       "      <td>0.0</td>\n",
       "      <td>0.003106</td>\n",
       "      <td>0.145867</td>\n",
       "      <td>0.020935</td>\n",
       "      <td>0.027012</td>\n",
       "      <td>0.289708</td>\n",
       "      <td>0.059697</td>\n",
       "      <td>0.003512</td>\n",
       "      <td>0.002161</td>\n",
       "      <td>0.002566</td>\n",
       "      <td>0.002161</td>\n",
       "      <td>0.001486</td>\n",
       "      <td>0.001621</td>\n",
       "      <td>0.000810</td>\n",
       "      <td>0.001351</td>\n",
       "      <td>0.001351</td>\n",
       "    </tr>\n",
       "    <tr>\n",
       "      <th>web.builder_tab.create_new_builder_overlay.closed</th>\n",
       "      <td>0.0</td>\n",
       "      <td>0.000270</td>\n",
       "      <td>0.000675</td>\n",
       "      <td>0.002971</td>\n",
       "      <td>0.002836</td>\n",
       "      <td>0.013371</td>\n",
       "      <td>0.010130</td>\n",
       "      <td>0.011750</td>\n",
       "      <td>0.084279</td>\n",
       "      <td>0.061318</td>\n",
       "      <td>0.028093</td>\n",
       "      <td>0.020124</td>\n",
       "      <td>0.017693</td>\n",
       "      <td>0.008239</td>\n",
       "      <td>0.003917</td>\n",
       "      <td>0.003782</td>\n",
       "    </tr>\n",
       "    <tr>\n",
       "      <th>web.page_view.content</th>\n",
       "      <td>0.0</td>\n",
       "      <td>0.032280</td>\n",
       "      <td>0.023366</td>\n",
       "      <td>0.052269</td>\n",
       "      <td>0.044300</td>\n",
       "      <td>0.044300</td>\n",
       "      <td>0.028498</td>\n",
       "      <td>0.096704</td>\n",
       "      <td>0.067936</td>\n",
       "      <td>0.035656</td>\n",
       "      <td>0.024851</td>\n",
       "      <td>0.023366</td>\n",
       "      <td>0.012696</td>\n",
       "      <td>0.006483</td>\n",
       "      <td>0.005538</td>\n",
       "      <td>0.006213</td>\n",
       "    </tr>\n",
       "    <tr>\n",
       "      <th>web.page_view.edit_content</th>\n",
       "      <td>0.0</td>\n",
       "      <td>0.031334</td>\n",
       "      <td>0.012696</td>\n",
       "      <td>0.016478</td>\n",
       "      <td>0.052134</td>\n",
       "      <td>0.034576</td>\n",
       "      <td>0.030524</td>\n",
       "      <td>0.029444</td>\n",
       "      <td>0.029038</td>\n",
       "      <td>0.019449</td>\n",
       "      <td>0.050648</td>\n",
       "      <td>0.066721</td>\n",
       "      <td>0.037277</td>\n",
       "      <td>0.022825</td>\n",
       "      <td>0.016883</td>\n",
       "      <td>0.012831</td>\n",
       "    </tr>\n",
       "    <tr>\n",
       "      <th>last_event</th>\n",
       "      <td>0.0</td>\n",
       "      <td>0.000000</td>\n",
       "      <td>0.062939</td>\n",
       "      <td>0.100621</td>\n",
       "      <td>0.047002</td>\n",
       "      <td>0.041194</td>\n",
       "      <td>0.063479</td>\n",
       "      <td>0.062129</td>\n",
       "      <td>0.040654</td>\n",
       "      <td>0.035116</td>\n",
       "      <td>0.036197</td>\n",
       "      <td>0.035251</td>\n",
       "      <td>0.031469</td>\n",
       "      <td>0.028903</td>\n",
       "      <td>0.028093</td>\n",
       "      <td>0.025122</td>\n",
       "    </tr>\n",
       "    <tr>\n",
       "      <th>web.builder_tab.create_new_builder_overlay.shown</th>\n",
       "      <td>0.0</td>\n",
       "      <td>0.003647</td>\n",
       "      <td>0.002296</td>\n",
       "      <td>0.014046</td>\n",
       "      <td>0.010130</td>\n",
       "      <td>0.011075</td>\n",
       "      <td>0.082928</td>\n",
       "      <td>0.062264</td>\n",
       "      <td>0.029714</td>\n",
       "      <td>0.020394</td>\n",
       "      <td>0.018368</td>\n",
       "      <td>0.008509</td>\n",
       "      <td>0.003782</td>\n",
       "      <td>0.004187</td>\n",
       "      <td>0.003377</td>\n",
       "      <td>0.002701</td>\n",
       "    </tr>\n",
       "    <tr>\n",
       "      <th>todo_list_item.start_trial.done</th>\n",
       "      <td>0.0</td>\n",
       "      <td>0.001486</td>\n",
       "      <td>0.000540</td>\n",
       "      <td>0.004862</td>\n",
       "      <td>0.050108</td>\n",
       "      <td>0.009049</td>\n",
       "      <td>0.003782</td>\n",
       "      <td>0.000810</td>\n",
       "      <td>0.002026</td>\n",
       "      <td>0.002431</td>\n",
       "      <td>0.002026</td>\n",
       "      <td>0.001080</td>\n",
       "      <td>0.000945</td>\n",
       "      <td>0.001486</td>\n",
       "      <td>0.000945</td>\n",
       "      <td>0.000945</td>\n",
       "    </tr>\n",
       "    <tr>\n",
       "      <th>web.dashboard.product_tips.show</th>\n",
       "      <td>0.0</td>\n",
       "      <td>0.001080</td>\n",
       "      <td>0.072528</td>\n",
       "      <td>0.010400</td>\n",
       "      <td>0.058617</td>\n",
       "      <td>0.005538</td>\n",
       "      <td>0.020935</td>\n",
       "      <td>0.009995</td>\n",
       "      <td>0.004997</td>\n",
       "      <td>0.005267</td>\n",
       "      <td>0.005132</td>\n",
       "      <td>0.003917</td>\n",
       "      <td>0.002431</td>\n",
       "      <td>0.001486</td>\n",
       "      <td>0.001891</td>\n",
       "      <td>0.001756</td>\n",
       "    </tr>\n",
       "    <tr>\n",
       "      <th>todo_list_item.try_ig_automation.started</th>\n",
       "      <td>0.0</td>\n",
       "      <td>0.002566</td>\n",
       "      <td>0.000135</td>\n",
       "      <td>0.015937</td>\n",
       "      <td>0.003106</td>\n",
       "      <td>0.004457</td>\n",
       "      <td>0.088061</td>\n",
       "      <td>0.020800</td>\n",
       "      <td>0.002431</td>\n",
       "      <td>0.002296</td>\n",
       "      <td>0.001891</td>\n",
       "      <td>0.002566</td>\n",
       "      <td>0.002026</td>\n",
       "      <td>0.000945</td>\n",
       "      <td>0.001756</td>\n",
       "      <td>0.001621</td>\n",
       "    </tr>\n",
       "    <tr>\n",
       "      <th>web.onboarding.ig_campaign_modal.open</th>\n",
       "      <td>0.0</td>\n",
       "      <td>0.000270</td>\n",
       "      <td>0.053755</td>\n",
       "      <td>0.003106</td>\n",
       "      <td>0.001621</td>\n",
       "      <td>0.000270</td>\n",
       "      <td>0.000405</td>\n",
       "      <td>0.000270</td>\n",
       "      <td>0.000135</td>\n",
       "      <td>0.000000</td>\n",
       "      <td>0.000000</td>\n",
       "      <td>0.000000</td>\n",
       "      <td>0.000000</td>\n",
       "      <td>0.000000</td>\n",
       "      <td>0.000000</td>\n",
       "      <td>0.000000</td>\n",
       "    </tr>\n",
       "    <tr>\n",
       "      <th>web.onboarding.ig_campaigns_page.visit</th>\n",
       "      <td>0.0</td>\n",
       "      <td>0.137628</td>\n",
       "      <td>0.002836</td>\n",
       "      <td>0.003106</td>\n",
       "      <td>0.000405</td>\n",
       "      <td>0.000540</td>\n",
       "      <td>0.000270</td>\n",
       "      <td>0.000270</td>\n",
       "      <td>0.000135</td>\n",
       "      <td>0.000270</td>\n",
       "      <td>0.000000</td>\n",
       "      <td>0.000000</td>\n",
       "      <td>0.000000</td>\n",
       "      <td>0.000000</td>\n",
       "      <td>0.000135</td>\n",
       "      <td>0.000270</td>\n",
       "    </tr>\n",
       "    <tr>\n",
       "      <th>web.onboarding.ig_campaigns_page.skip</th>\n",
       "      <td>0.0</td>\n",
       "      <td>0.000135</td>\n",
       "      <td>0.071448</td>\n",
       "      <td>0.004457</td>\n",
       "      <td>0.003782</td>\n",
       "      <td>0.000270</td>\n",
       "      <td>0.000000</td>\n",
       "      <td>0.000135</td>\n",
       "      <td>0.000270</td>\n",
       "      <td>0.000135</td>\n",
       "      <td>0.000135</td>\n",
       "      <td>0.000270</td>\n",
       "      <td>0.000000</td>\n",
       "      <td>0.000000</td>\n",
       "      <td>0.000000</td>\n",
       "      <td>0.000135</td>\n",
       "    </tr>\n",
       "    <tr>\n",
       "      <th>ENDED</th>\n",
       "      <td>0.0</td>\n",
       "      <td>0.000000</td>\n",
       "      <td>0.000000</td>\n",
       "      <td>0.062939</td>\n",
       "      <td>0.163560</td>\n",
       "      <td>0.210562</td>\n",
       "      <td>0.251756</td>\n",
       "      <td>0.315235</td>\n",
       "      <td>0.377364</td>\n",
       "      <td>0.418017</td>\n",
       "      <td>0.453133</td>\n",
       "      <td>0.489330</td>\n",
       "      <td>0.524581</td>\n",
       "      <td>0.556051</td>\n",
       "      <td>0.584954</td>\n",
       "      <td>0.613047</td>\n",
       "    </tr>\n",
       "    <tr>\n",
       "      <th>THRESHOLDED_267</th>\n",
       "      <td>0.0</td>\n",
       "      <td>0.158968</td>\n",
       "      <td>0.151270</td>\n",
       "      <td>0.242977</td>\n",
       "      <td>0.223798</td>\n",
       "      <td>0.265667</td>\n",
       "      <td>0.353323</td>\n",
       "      <td>0.382766</td>\n",
       "      <td>0.354808</td>\n",
       "      <td>0.392761</td>\n",
       "      <td>0.373987</td>\n",
       "      <td>0.344814</td>\n",
       "      <td>0.363587</td>\n",
       "      <td>0.366964</td>\n",
       "      <td>0.349676</td>\n",
       "      <td>0.329417</td>\n",
       "    </tr>\n",
       "  </tbody>\n",
       "</table>\n",
       "</div>"
      ],
      "text/plain": [
       "                                                     1         2         3   \\\n",
       "first_event                                         1.0  0.000000  0.000000   \n",
       "web.page_questionnaire.todo_list_personalizatio...  0.0  0.343733  0.000000   \n",
       "todo_list_item.verify_email.done                    0.0  0.025122  0.311858   \n",
       "todo_list_item.connect_ig_account.done              0.0  0.001080  0.029579   \n",
       "web.interface.dashboard.page_view                   0.0  0.257293  0.058212   \n",
       "web.home_tab.todo_list.shown                        0.0  0.003106  0.145867   \n",
       "web.builder_tab.create_new_builder_overlay.closed   0.0  0.000270  0.000675   \n",
       "web.page_view.content                               0.0  0.032280  0.023366   \n",
       "web.page_view.edit_content                          0.0  0.031334  0.012696   \n",
       "last_event                                          0.0  0.000000  0.062939   \n",
       "web.builder_tab.create_new_builder_overlay.shown    0.0  0.003647  0.002296   \n",
       "todo_list_item.start_trial.done                     0.0  0.001486  0.000540   \n",
       "web.dashboard.product_tips.show                     0.0  0.001080  0.072528   \n",
       "todo_list_item.try_ig_automation.started            0.0  0.002566  0.000135   \n",
       "web.onboarding.ig_campaign_modal.open               0.0  0.000270  0.053755   \n",
       "web.onboarding.ig_campaigns_page.visit              0.0  0.137628  0.002836   \n",
       "web.onboarding.ig_campaigns_page.skip               0.0  0.000135  0.071448   \n",
       "ENDED                                               0.0  0.000000  0.000000   \n",
       "THRESHOLDED_267                                     0.0  0.158968  0.151270   \n",
       "\n",
       "                                                          4         5   \\\n",
       "first_event                                         0.000000  0.000000   \n",
       "web.page_questionnaire.todo_list_personalizatio...  0.000135  0.000000   \n",
       "todo_list_item.verify_email.done                    0.041734  0.009184   \n",
       "todo_list_item.connect_ig_account.done              0.312129  0.042004   \n",
       "web.interface.dashboard.page_view                   0.090897  0.260400   \n",
       "web.home_tab.todo_list.shown                        0.020935  0.027012   \n",
       "web.builder_tab.create_new_builder_overlay.closed   0.002971  0.002836   \n",
       "web.page_view.content                               0.052269  0.044300   \n",
       "web.page_view.edit_content                          0.016478  0.052134   \n",
       "last_event                                          0.100621  0.047002   \n",
       "web.builder_tab.create_new_builder_overlay.shown    0.014046  0.010130   \n",
       "todo_list_item.start_trial.done                     0.004862  0.050108   \n",
       "web.dashboard.product_tips.show                     0.010400  0.058617   \n",
       "todo_list_item.try_ig_automation.started            0.015937  0.003106   \n",
       "web.onboarding.ig_campaign_modal.open               0.003106  0.001621   \n",
       "web.onboarding.ig_campaigns_page.visit              0.003106  0.000405   \n",
       "web.onboarding.ig_campaigns_page.skip               0.004457  0.003782   \n",
       "ENDED                                               0.062939  0.163560   \n",
       "THRESHOLDED_267                                     0.242977  0.223798   \n",
       "\n",
       "                                                          6         7   \\\n",
       "first_event                                         0.000000  0.000000   \n",
       "web.page_questionnaire.todo_list_personalizatio...  0.000000  0.000135   \n",
       "todo_list_item.verify_email.done                    0.000135  0.000405   \n",
       "todo_list_item.connect_ig_account.done              0.009184  0.000135   \n",
       "web.interface.dashboard.page_view                   0.060103  0.005538   \n",
       "web.home_tab.todo_list.shown                        0.289708  0.059697   \n",
       "web.builder_tab.create_new_builder_overlay.closed   0.013371  0.010130   \n",
       "web.page_view.content                               0.044300  0.028498   \n",
       "web.page_view.edit_content                          0.034576  0.030524   \n",
       "last_event                                          0.041194  0.063479   \n",
       "web.builder_tab.create_new_builder_overlay.shown    0.011075  0.082928   \n",
       "todo_list_item.start_trial.done                     0.009049  0.003782   \n",
       "web.dashboard.product_tips.show                     0.005538  0.020935   \n",
       "todo_list_item.try_ig_automation.started            0.004457  0.088061   \n",
       "web.onboarding.ig_campaign_modal.open               0.000270  0.000405   \n",
       "web.onboarding.ig_campaigns_page.visit              0.000540  0.000270   \n",
       "web.onboarding.ig_campaigns_page.skip               0.000270  0.000000   \n",
       "ENDED                                               0.210562  0.251756   \n",
       "THRESHOLDED_267                                     0.265667  0.353323   \n",
       "\n",
       "                                                          8         9   \\\n",
       "first_event                                         0.000000  0.000000   \n",
       "web.page_questionnaire.todo_list_personalizatio...  0.000000  0.000000   \n",
       "todo_list_item.verify_email.done                    0.000675  0.000270   \n",
       "todo_list_item.connect_ig_account.done              0.000405  0.000675   \n",
       "web.interface.dashboard.page_view                   0.002836  0.003106   \n",
       "web.home_tab.todo_list.shown                        0.003512  0.002161   \n",
       "web.builder_tab.create_new_builder_overlay.closed   0.011750  0.084279   \n",
       "web.page_view.content                               0.096704  0.067936   \n",
       "web.page_view.edit_content                          0.029444  0.029038   \n",
       "last_event                                          0.062129  0.040654   \n",
       "web.builder_tab.create_new_builder_overlay.shown    0.062264  0.029714   \n",
       "todo_list_item.start_trial.done                     0.000810  0.002026   \n",
       "web.dashboard.product_tips.show                     0.009995  0.004997   \n",
       "todo_list_item.try_ig_automation.started            0.020800  0.002431   \n",
       "web.onboarding.ig_campaign_modal.open               0.000270  0.000135   \n",
       "web.onboarding.ig_campaigns_page.visit              0.000270  0.000135   \n",
       "web.onboarding.ig_campaigns_page.skip               0.000135  0.000270   \n",
       "ENDED                                               0.315235  0.377364   \n",
       "THRESHOLDED_267                                     0.382766  0.354808   \n",
       "\n",
       "                                                          10        11  \\\n",
       "first_event                                         0.000000  0.000000   \n",
       "web.page_questionnaire.todo_list_personalizatio...  0.000000  0.000000   \n",
       "todo_list_item.verify_email.done                    0.000540  0.000135   \n",
       "todo_list_item.connect_ig_account.done              0.000270  0.000540   \n",
       "web.interface.dashboard.page_view                   0.003512  0.002701   \n",
       "web.home_tab.todo_list.shown                        0.002566  0.002161   \n",
       "web.builder_tab.create_new_builder_overlay.closed   0.061318  0.028093   \n",
       "web.page_view.content                               0.035656  0.024851   \n",
       "web.page_view.edit_content                          0.019449  0.050648   \n",
       "last_event                                          0.035116  0.036197   \n",
       "web.builder_tab.create_new_builder_overlay.shown    0.020394  0.018368   \n",
       "todo_list_item.start_trial.done                     0.002431  0.002026   \n",
       "web.dashboard.product_tips.show                     0.005267  0.005132   \n",
       "todo_list_item.try_ig_automation.started            0.002296  0.001891   \n",
       "web.onboarding.ig_campaign_modal.open               0.000000  0.000000   \n",
       "web.onboarding.ig_campaigns_page.visit              0.000270  0.000000   \n",
       "web.onboarding.ig_campaigns_page.skip               0.000135  0.000135   \n",
       "ENDED                                               0.418017  0.453133   \n",
       "THRESHOLDED_267                                     0.392761  0.373987   \n",
       "\n",
       "                                                          12        13  \\\n",
       "first_event                                         0.000000  0.000000   \n",
       "web.page_questionnaire.todo_list_personalizatio...  0.000000  0.000000   \n",
       "todo_list_item.verify_email.done                    0.000135  0.000000   \n",
       "todo_list_item.connect_ig_account.done              0.000135  0.000135   \n",
       "web.interface.dashboard.page_view                   0.002296  0.001756   \n",
       "web.home_tab.todo_list.shown                        0.001486  0.001621   \n",
       "web.builder_tab.create_new_builder_overlay.closed   0.020124  0.017693   \n",
       "web.page_view.content                               0.023366  0.012696   \n",
       "web.page_view.edit_content                          0.066721  0.037277   \n",
       "last_event                                          0.035251  0.031469   \n",
       "web.builder_tab.create_new_builder_overlay.shown    0.008509  0.003782   \n",
       "todo_list_item.start_trial.done                     0.001080  0.000945   \n",
       "web.dashboard.product_tips.show                     0.003917  0.002431   \n",
       "todo_list_item.try_ig_automation.started            0.002566  0.002026   \n",
       "web.onboarding.ig_campaign_modal.open               0.000000  0.000000   \n",
       "web.onboarding.ig_campaigns_page.visit              0.000000  0.000000   \n",
       "web.onboarding.ig_campaigns_page.skip               0.000270  0.000000   \n",
       "ENDED                                               0.489330  0.524581   \n",
       "THRESHOLDED_267                                     0.344814  0.363587   \n",
       "\n",
       "                                                          14        15  \\\n",
       "first_event                                         0.000000  0.000000   \n",
       "web.page_questionnaire.todo_list_personalizatio...  0.000135  0.000000   \n",
       "todo_list_item.verify_email.done                    0.000000  0.000000   \n",
       "todo_list_item.connect_ig_account.done              0.000000  0.000000   \n",
       "web.interface.dashboard.page_view                   0.001486  0.001486   \n",
       "web.home_tab.todo_list.shown                        0.000810  0.001351   \n",
       "web.builder_tab.create_new_builder_overlay.closed   0.008239  0.003917   \n",
       "web.page_view.content                               0.006483  0.005538   \n",
       "web.page_view.edit_content                          0.022825  0.016883   \n",
       "last_event                                          0.028903  0.028093   \n",
       "web.builder_tab.create_new_builder_overlay.shown    0.004187  0.003377   \n",
       "todo_list_item.start_trial.done                     0.001486  0.000945   \n",
       "web.dashboard.product_tips.show                     0.001486  0.001891   \n",
       "todo_list_item.try_ig_automation.started            0.000945  0.001756   \n",
       "web.onboarding.ig_campaign_modal.open               0.000000  0.000000   \n",
       "web.onboarding.ig_campaigns_page.visit              0.000000  0.000135   \n",
       "web.onboarding.ig_campaigns_page.skip               0.000000  0.000000   \n",
       "ENDED                                               0.556051  0.584954   \n",
       "THRESHOLDED_267                                     0.366964  0.349676   \n",
       "\n",
       "                                                          16  \n",
       "first_event                                         0.000000  \n",
       "web.page_questionnaire.todo_list_personalizatio...  0.000000  \n",
       "todo_list_item.verify_email.done                    0.000000  \n",
       "todo_list_item.connect_ig_account.done              0.000000  \n",
       "web.interface.dashboard.page_view                   0.000810  \n",
       "web.home_tab.todo_list.shown                        0.001351  \n",
       "web.builder_tab.create_new_builder_overlay.closed   0.003782  \n",
       "web.page_view.content                               0.006213  \n",
       "web.page_view.edit_content                          0.012831  \n",
       "last_event                                          0.025122  \n",
       "web.builder_tab.create_new_builder_overlay.shown    0.002701  \n",
       "todo_list_item.start_trial.done                     0.000945  \n",
       "web.dashboard.product_tips.show                     0.001756  \n",
       "todo_list_item.try_ig_automation.started            0.001621  \n",
       "web.onboarding.ig_campaign_modal.open               0.000000  \n",
       "web.onboarding.ig_campaigns_page.visit              0.000270  \n",
       "web.onboarding.ig_campaigns_page.skip               0.000135  \n",
       "ENDED                                               0.613047  \n",
       "THRESHOLDED_267                                     0.329417  "
      ]
     },
     "execution_count": 179,
     "metadata": {},
     "output_type": "execute_result"
    },
    {
     "data": {
      "image/png": "[encoded data removed]",
      "text/plain": [
       "<Figure size 792x792 with 1 Axes>"
      ]
     },
     "metadata": {
      "needs_background": "light"
     },
     "output_type": "display_data"
    }
   ],
   "source": [
    "clus_3.rete.step_matrix(max_steps=16,\n",
    "                      thresh=0.05)"
   ]
  },
  {
   "cell_type": "code",
   "execution_count": 181,
   "metadata": {},
   "outputs": [
    {
     "data": {
      "image/png": "[encoded data removed]",
      "text/plain": [
       "<Figure size 504x432 with 1 Axes>"
      ]
     },
     "metadata": {
      "needs_background": "light"
     },
     "output_type": "display_data"
    }
   ],
   "source": [
    "event_df2.rete.cluster_event_dist(3)"
   ]
  },
  {
   "cell_type": "code",
   "execution_count": 184,
   "metadata": {},
   "outputs": [
    {
     "data": {
      "image/png": "[encoded data removed]",
      "text/plain": [
       "<Figure size 792x1224 with 1 Axes>"
      ]
     },
     "metadata": {
      "needs_background": "light"
     },
     "output_type": "display_data"
    }
   ],
   "source": [
    "event_df2.rete.step_matrix(max_steps=16,\n",
    "                      thresh = 0.05,\n",
    "                      groups=(c1, c3));"
   ]
  },
  {
   "cell_type": "code",
   "execution_count": 187,
   "metadata": {},
   "outputs": [
    {
     "data": {
      "image/png": "[encoded data removed]",
      "text/plain": [
       "<Figure size 504x432 with 1 Axes>"
      ]
     },
     "metadata": {
      "needs_background": "light"
     },
     "output_type": "display_data"
    }
   ],
   "source": [
    "# сравнение между собой 2х кластеров (1 и 2)\n",
    "event_df2.rete.cluster_event_dist(1, 3)"
   ]
  },
  {
   "cell_type": "code",
   "execution_count": 188,
   "metadata": {},
   "outputs": [
    {
     "name": "stderr",
     "output_type": "stream",
     "text": [
      "C:\\Users\\Lemae\\anaconda3\\lib\\site-packages\\sklearn\\manifold\\_t_sne.py:780: FutureWarning:\n",
      "\n",
      "The default initialization in TSNE will change from 'random' to 'pca' in 1.2.\n",
      "\n",
      "C:\\Users\\Lemae\\anaconda3\\lib\\site-packages\\sklearn\\manifold\\_t_sne.py:790: FutureWarning:\n",
      "\n",
      "The default learning rate in TSNE will change from 200.0 to 'auto' in 1.2.\n",
      "\n"
     ]
    },
    {
     "data": {
      "text/html": [
       "<div>\n",
       "<style scoped>\n",
       "    .dataframe tbody tr th:only-of-type {\n",
       "        vertical-align: middle;\n",
       "    }\n",
       "\n",
       "    .dataframe tbody tr th {\n",
       "        vertical-align: top;\n",
       "    }\n",
       "\n",
       "    .dataframe thead th {\n",
       "        text-align: right;\n",
       "    }\n",
       "</style>\n",
       "<table border=\"1\" class=\"dataframe\">\n",
       "  <thead>\n",
       "    <tr style=\"text-align: right;\">\n",
       "      <th></th>\n",
       "      <th>0</th>\n",
       "      <th>1</th>\n",
       "    </tr>\n",
       "  </thead>\n",
       "  <tbody>\n",
       "    <tr>\n",
       "      <th>100000</th>\n",
       "      <td>-28.083412</td>\n",
       "      <td>8.698497</td>\n",
       "    </tr>\n",
       "    <tr>\n",
       "      <th>100001</th>\n",
       "      <td>4.055233</td>\n",
       "      <td>38.463562</td>\n",
       "    </tr>\n",
       "    <tr>\n",
       "      <th>100002</th>\n",
       "      <td>4.326891</td>\n",
       "      <td>39.289494</td>\n",
       "    </tr>\n",
       "    <tr>\n",
       "      <th>100003</th>\n",
       "      <td>-40.027546</td>\n",
       "      <td>24.007378</td>\n",
       "    </tr>\n",
       "    <tr>\n",
       "      <th>100004</th>\n",
       "      <td>-6.919266</td>\n",
       "      <td>25.254246</td>\n",
       "    </tr>\n",
       "    <tr>\n",
       "      <th>...</th>\n",
       "      <td>...</td>\n",
       "      <td>...</td>\n",
       "    </tr>\n",
       "    <tr>\n",
       "      <th>115962</th>\n",
       "      <td>-64.078201</td>\n",
       "      <td>-2.995245</td>\n",
       "    </tr>\n",
       "    <tr>\n",
       "      <th>115963</th>\n",
       "      <td>-11.407921</td>\n",
       "      <td>-10.220639</td>\n",
       "    </tr>\n",
       "    <tr>\n",
       "      <th>115964</th>\n",
       "      <td>-14.808910</td>\n",
       "      <td>-4.140723</td>\n",
       "    </tr>\n",
       "    <tr>\n",
       "      <th>115966</th>\n",
       "      <td>-8.749373</td>\n",
       "      <td>18.003582</td>\n",
       "    </tr>\n",
       "    <tr>\n",
       "      <th>115969</th>\n",
       "      <td>-37.131065</td>\n",
       "      <td>2.475441</td>\n",
       "    </tr>\n",
       "  </tbody>\n",
       "</table>\n",
       "<p>12847 rows × 2 columns</p>\n",
       "</div>"
      ],
      "text/plain": [
       "                0          1\n",
       "100000 -28.083412   8.698497\n",
       "100001   4.055233  38.463562\n",
       "100002   4.326891  39.289494\n",
       "100003 -40.027546  24.007378\n",
       "100004  -6.919266  25.254246\n",
       "...           ...        ...\n",
       "115962 -64.078201  -2.995245\n",
       "115963 -11.407921 -10.220639\n",
       "115964 -14.808910  -4.140723\n",
       "115966  -8.749373  18.003582\n",
       "115969 -37.131065   2.475441\n",
       "\n",
       "[12847 rows x 2 columns]"
      ]
     },
     "execution_count": 188,
     "metadata": {},
     "output_type": "execute_result"
    },
    {
     "data": {
      "image/png": "[encoded data removed]",
      "text/plain": [
       "<Figure size 576x432 with 1 Axes>"
      ]
     },
     "metadata": {
      "needs_background": "light"
     },
     "output_type": "display_data"
    }
   ],
   "source": [
    "# Визуализация кластеров\n",
    "event_df2.rete.project(plot_type ='clusters',\n",
    "                  method='tsne',\n",
    "                  perplexity=128)"
   ]
  },
  {
   "cell_type": "code",
   "execution_count": 189,
   "metadata": {},
   "outputs": [
    {
     "name": "stderr",
     "output_type": "stream",
     "text": [
      "C:\\Users\\Lemae\\anaconda3\\lib\\site-packages\\sklearn\\manifold\\_t_sne.py:780: FutureWarning:\n",
      "\n",
      "The default initialization in TSNE will change from 'random' to 'pca' in 1.2.\n",
      "\n",
      "C:\\Users\\Lemae\\anaconda3\\lib\\site-packages\\sklearn\\manifold\\_t_sne.py:790: FutureWarning:\n",
      "\n",
      "The default learning rate in TSNE will change from 200.0 to 'auto' in 1.2.\n",
      "\n"
     ]
    },
    {
     "data": {
      "text/html": [
       "<div>\n",
       "<style scoped>\n",
       "    .dataframe tbody tr th:only-of-type {\n",
       "        vertical-align: middle;\n",
       "    }\n",
       "\n",
       "    .dataframe tbody tr th {\n",
       "        vertical-align: top;\n",
       "    }\n",
       "\n",
       "    .dataframe thead th {\n",
       "        text-align: right;\n",
       "    }\n",
       "</style>\n",
       "<table border=\"1\" class=\"dataframe\">\n",
       "  <thead>\n",
       "    <tr style=\"text-align: right;\">\n",
       "      <th></th>\n",
       "      <th>0</th>\n",
       "      <th>1</th>\n",
       "    </tr>\n",
       "  </thead>\n",
       "  <tbody>\n",
       "    <tr>\n",
       "      <th>100000</th>\n",
       "      <td>-28.083412</td>\n",
       "      <td>8.698497</td>\n",
       "    </tr>\n",
       "    <tr>\n",
       "      <th>100001</th>\n",
       "      <td>4.055233</td>\n",
       "      <td>38.463562</td>\n",
       "    </tr>\n",
       "    <tr>\n",
       "      <th>100002</th>\n",
       "      <td>4.326891</td>\n",
       "      <td>39.289494</td>\n",
       "    </tr>\n",
       "    <tr>\n",
       "      <th>100003</th>\n",
       "      <td>-40.027546</td>\n",
       "      <td>24.007378</td>\n",
       "    </tr>\n",
       "    <tr>\n",
       "      <th>100004</th>\n",
       "      <td>-6.919266</td>\n",
       "      <td>25.254246</td>\n",
       "    </tr>\n",
       "    <tr>\n",
       "      <th>...</th>\n",
       "      <td>...</td>\n",
       "      <td>...</td>\n",
       "    </tr>\n",
       "    <tr>\n",
       "      <th>115962</th>\n",
       "      <td>-64.078201</td>\n",
       "      <td>-2.995245</td>\n",
       "    </tr>\n",
       "    <tr>\n",
       "      <th>115963</th>\n",
       "      <td>-11.407921</td>\n",
       "      <td>-10.220639</td>\n",
       "    </tr>\n",
       "    <tr>\n",
       "      <th>115964</th>\n",
       "      <td>-14.808910</td>\n",
       "      <td>-4.140723</td>\n",
       "    </tr>\n",
       "    <tr>\n",
       "      <th>115966</th>\n",
       "      <td>-8.749373</td>\n",
       "      <td>18.003582</td>\n",
       "    </tr>\n",
       "    <tr>\n",
       "      <th>115969</th>\n",
       "      <td>-37.131065</td>\n",
       "      <td>2.475441</td>\n",
       "    </tr>\n",
       "  </tbody>\n",
       "</table>\n",
       "<p>12847 rows × 2 columns</p>\n",
       "</div>"
      ],
      "text/plain": [
       "                0          1\n",
       "100000 -28.083412   8.698497\n",
       "100001   4.055233  38.463562\n",
       "100002   4.326891  39.289494\n",
       "100003 -40.027546  24.007378\n",
       "100004  -6.919266  25.254246\n",
       "...           ...        ...\n",
       "115962 -64.078201  -2.995245\n",
       "115963 -11.407921 -10.220639\n",
       "115964 -14.808910  -4.140723\n",
       "115966  -8.749373  18.003582\n",
       "115969 -37.131065   2.475441\n",
       "\n",
       "[12847 rows x 2 columns]"
      ]
     },
     "execution_count": 189,
     "metadata": {},
     "output_type": "execute_result"
    },
    {
     "data": {
      "image/png": "[encoded data removed]",
      "text/plain": [
       "<Figure size 576x432 with 1 Axes>"
      ]
     },
     "metadata": {
      "needs_background": "light"
     },
     "output_type": "display_data"
    }
   ],
   "source": [
    "event_df2.rete.project(plot_type ='targets',\n",
    "                  targets = ['todo_list_item.do_keyword_onboarding_campaign.started'],\n",
    "                  method='tsne',\n",
    "                  perplexity = 128)"
   ]
  },
  {
   "cell_type": "code",
   "execution_count": 290,
   "metadata": {},
   "outputs": [],
   "source": [
    "df.loc[df['client_id'].isin(c0), 'Группа'] = 0\n",
    "df.loc[df['client_id'].isin(c1), 'Группа'] = 1\n",
    "df.loc[df['client_id'].isin(c2), 'Группа'] = 2\n",
    "df.loc[df['client_id'].isin(c3), 'Группа'] = 3"
   ]
  },
  {
   "cell_type": "code",
   "execution_count": 291,
   "metadata": {},
   "outputs": [],
   "source": [
    "df1 = df.drop_duplicates(subset = 'client_id')"
   ]
  },
  {
   "cell_type": "code",
   "execution_count": 292,
   "metadata": {},
   "outputs": [
    {
     "data": {
      "text/html": [
       "<div>\n",
       "<style scoped>\n",
       "    .dataframe tbody tr th:only-of-type {\n",
       "        vertical-align: middle;\n",
       "    }\n",
       "\n",
       "    .dataframe tbody tr th {\n",
       "        vertical-align: top;\n",
       "    }\n",
       "\n",
       "    .dataframe thead th {\n",
       "        text-align: right;\n",
       "    }\n",
       "</style>\n",
       "<table border=\"1\" class=\"dataframe\">\n",
       "  <thead>\n",
       "    <tr style=\"text-align: right;\">\n",
       "      <th></th>\n",
       "      <th>Unnamed: 0</th>\n",
       "      <th>account_id</th>\n",
       "      <th>account_creationdate</th>\n",
       "      <th>client_id</th>\n",
       "      <th>client_creationdate</th>\n",
       "      <th>admin_status</th>\n",
       "      <th>country_group</th>\n",
       "      <th>industry</th>\n",
       "      <th>hear_source</th>\n",
       "      <th>support_provided</th>\n",
       "      <th>...</th>\n",
       "      <th>current_account_status</th>\n",
       "      <th>ltv_predicted</th>\n",
       "      <th>ig_activation_dttm</th>\n",
       "      <th>trial_dttm</th>\n",
       "      <th>paid_dttm</th>\n",
       "      <th>pro_dttm</th>\n",
       "      <th>first_ig_flow_publish_dttm</th>\n",
       "      <th>event_name</th>\n",
       "      <th>event_dttm</th>\n",
       "      <th>Группа</th>\n",
       "    </tr>\n",
       "  </thead>\n",
       "  <tbody>\n",
       "    <tr>\n",
       "      <th>0</th>\n",
       "      <td>0</td>\n",
       "      <td>1</td>\n",
       "      <td>2021-10-05 20:36:07.068230</td>\n",
       "      <td>100000</td>\n",
       "      <td>2021-10-05 20:33:30.173973</td>\n",
       "      <td>1st admin</td>\n",
       "      <td>Asia</td>\n",
       "      <td>Other</td>\n",
       "      <td>Recommended by friend or colleague</td>\n",
       "      <td>False</td>\n",
       "      <td>...</td>\n",
       "      <td>free</td>\n",
       "      <td>9679</td>\n",
       "      <td>NaN</td>\n",
       "      <td>NaN</td>\n",
       "      <td>NaN</td>\n",
       "      <td>NaN</td>\n",
       "      <td>NaN</td>\n",
       "      <td>mobile.automations_list__opened</td>\n",
       "      <td>2021-10-05 21:10:36.267423</td>\n",
       "      <td>3.0</td>\n",
       "    </tr>\n",
       "    <tr>\n",
       "      <th>28</th>\n",
       "      <td>28</td>\n",
       "      <td>2</td>\n",
       "      <td>2021-10-21 10:54:09.299865</td>\n",
       "      <td>100001</td>\n",
       "      <td>2021-10-21 10:48:38.785303</td>\n",
       "      <td>1st admin</td>\n",
       "      <td>South America</td>\n",
       "      <td>Personal blog</td>\n",
       "      <td>Social media</td>\n",
       "      <td>False</td>\n",
       "      <td>...</td>\n",
       "      <td>free</td>\n",
       "      <td>1570</td>\n",
       "      <td>NaN</td>\n",
       "      <td>NaN</td>\n",
       "      <td>NaN</td>\n",
       "      <td>NaN</td>\n",
       "      <td>2021-10-21 11:07:41.655267</td>\n",
       "      <td>web.builder.addtrigger.modal.add</td>\n",
       "      <td>2021-10-21 11:07:06.864483</td>\n",
       "      <td>1.0</td>\n",
       "    </tr>\n",
       "    <tr>\n",
       "      <th>45</th>\n",
       "      <td>45</td>\n",
       "      <td>3</td>\n",
       "      <td>2021-09-30 12:04:12.263688</td>\n",
       "      <td>100002</td>\n",
       "      <td>2021-09-30 12:02:37.514603</td>\n",
       "      <td>1st admin</td>\n",
       "      <td>South America</td>\n",
       "      <td>Other</td>\n",
       "      <td>Search Engine</td>\n",
       "      <td>False</td>\n",
       "      <td>...</td>\n",
       "      <td>free</td>\n",
       "      <td>-5841</td>\n",
       "      <td>NaN</td>\n",
       "      <td>NaN</td>\n",
       "      <td>NaN</td>\n",
       "      <td>NaN</td>\n",
       "      <td>2021-09-30 12:09:50.286770</td>\n",
       "      <td>web.builder.addtrigger.modal.add</td>\n",
       "      <td>2021-09-30 12:09:35.794417</td>\n",
       "      <td>1.0</td>\n",
       "    </tr>\n",
       "    <tr>\n",
       "      <th>61</th>\n",
       "      <td>61</td>\n",
       "      <td>4</td>\n",
       "      <td>2021-10-20 06:07:09.532984</td>\n",
       "      <td>100003</td>\n",
       "      <td>2021-10-20 05:18:36.190985</td>\n",
       "      <td>1st admin</td>\n",
       "      <td>South America</td>\n",
       "      <td>Infopreneurship</td>\n",
       "      <td>Recommended by friend or colleague</td>\n",
       "      <td>False</td>\n",
       "      <td>...</td>\n",
       "      <td>expired</td>\n",
       "      <td>-5580</td>\n",
       "      <td>NaN</td>\n",
       "      <td>2021-10-20 06:09:35.887671</td>\n",
       "      <td>NaN</td>\n",
       "      <td>2021-10-20 06:09:34.000000</td>\n",
       "      <td>2021-10-20 06:45:45.668886</td>\n",
       "      <td>mobile.edit_conversation_starter__question__ne...</td>\n",
       "      <td>2021-10-20 06:45:45.133076</td>\n",
       "      <td>0.0</td>\n",
       "    </tr>\n",
       "    <tr>\n",
       "      <th>81</th>\n",
       "      <td>81</td>\n",
       "      <td>5</td>\n",
       "      <td>2021-10-04 02:09:54.675728</td>\n",
       "      <td>100004</td>\n",
       "      <td>2021-10-04 02:07:56.478409</td>\n",
       "      <td>1st admin</td>\n",
       "      <td>Asia</td>\n",
       "      <td>Local business or place</td>\n",
       "      <td>Search Engine</td>\n",
       "      <td>False</td>\n",
       "      <td>...</td>\n",
       "      <td>pro</td>\n",
       "      <td>13050</td>\n",
       "      <td>2021-10-04 10:12:56.910884</td>\n",
       "      <td>2021-10-04 02:21:38.390630</td>\n",
       "      <td>2021-10-16 02:24:09.000000</td>\n",
       "      <td>2021-10-04 02:21:37.000000</td>\n",
       "      <td>2021-10-04 02:15:05.160874</td>\n",
       "      <td>web.builder.addtrigger.modal.add</td>\n",
       "      <td>2021-10-04 02:14:53.879521</td>\n",
       "      <td>1.0</td>\n",
       "    </tr>\n",
       "    <tr>\n",
       "      <th>...</th>\n",
       "      <td>...</td>\n",
       "      <td>...</td>\n",
       "      <td>...</td>\n",
       "      <td>...</td>\n",
       "      <td>...</td>\n",
       "      <td>...</td>\n",
       "      <td>...</td>\n",
       "      <td>...</td>\n",
       "      <td>...</td>\n",
       "      <td>...</td>\n",
       "      <td>...</td>\n",
       "      <td>...</td>\n",
       "      <td>...</td>\n",
       "      <td>...</td>\n",
       "      <td>...</td>\n",
       "      <td>...</td>\n",
       "      <td>...</td>\n",
       "      <td>...</td>\n",
       "      <td>...</td>\n",
       "      <td>...</td>\n",
       "      <td>...</td>\n",
       "    </tr>\n",
       "    <tr>\n",
       "      <th>869129</th>\n",
       "      <td>869129</td>\n",
       "      <td>17553</td>\n",
       "      <td>2021-10-25 04:12:34.862593</td>\n",
       "      <td>115965</td>\n",
       "      <td>2020-07-21 04:26:07.233909</td>\n",
       "      <td>1st admin</td>\n",
       "      <td>North America</td>\n",
       "      <td>E-commerce</td>\n",
       "      <td>Recommended by friend or colleague</td>\n",
       "      <td>False</td>\n",
       "      <td>...</td>\n",
       "      <td>free</td>\n",
       "      <td>13164</td>\n",
       "      <td>NaN</td>\n",
       "      <td>NaN</td>\n",
       "      <td>NaN</td>\n",
       "      <td>NaN</td>\n",
       "      <td>NaN</td>\n",
       "      <td>web.dashboard.product_tips.show</td>\n",
       "      <td>2021-10-25 04:21:34.370200</td>\n",
       "      <td>NaN</td>\n",
       "    </tr>\n",
       "    <tr>\n",
       "      <th>869134</th>\n",
       "      <td>869134</td>\n",
       "      <td>17555</td>\n",
       "      <td>2021-09-26 23:37:20.765786</td>\n",
       "      <td>115966</td>\n",
       "      <td>2021-09-26 23:31:20.184660</td>\n",
       "      <td>1st admin</td>\n",
       "      <td>Asia</td>\n",
       "      <td>Fun (jokes, community, daily quotes, etc.)</td>\n",
       "      <td>Search Engine</td>\n",
       "      <td>False</td>\n",
       "      <td>...</td>\n",
       "      <td>expired</td>\n",
       "      <td>-5922</td>\n",
       "      <td>NaN</td>\n",
       "      <td>2021-09-26 23:39:47.207375</td>\n",
       "      <td>2021-10-03 23:40:33.000000</td>\n",
       "      <td>2021-09-26 23:39:46.000000</td>\n",
       "      <td>2021-09-26 23:48:03.360046</td>\n",
       "      <td>mobile.automations_promo__default_reply__setup...</td>\n",
       "      <td>2021-09-26 23:48:03.089337</td>\n",
       "      <td>1.0</td>\n",
       "    </tr>\n",
       "    <tr>\n",
       "      <th>869155</th>\n",
       "      <td>869155</td>\n",
       "      <td>17557</td>\n",
       "      <td>2021-10-08 22:47:06.699027</td>\n",
       "      <td>115967</td>\n",
       "      <td>2016-11-29 22:26:12.883208</td>\n",
       "      <td>1st admin</td>\n",
       "      <td>Asia</td>\n",
       "      <td>Professional consulting</td>\n",
       "      <td>Recommended by friend or colleague</td>\n",
       "      <td>False</td>\n",
       "      <td>...</td>\n",
       "      <td>pro</td>\n",
       "      <td>2060</td>\n",
       "      <td>2021-10-13 20:50:55.778229</td>\n",
       "      <td>2021-10-14 17:46:43.322435</td>\n",
       "      <td>2021-10-21 17:47:49.000000</td>\n",
       "      <td>2021-10-14 17:46:42.000000</td>\n",
       "      <td>2021-10-08 23:11:31.042541</td>\n",
       "      <td>web.builder.starting_step_node_sidebar.enable_...</td>\n",
       "      <td>2021-10-08 23:11:31.028170</td>\n",
       "      <td>NaN</td>\n",
       "    </tr>\n",
       "    <tr>\n",
       "      <th>869269</th>\n",
       "      <td>869269</td>\n",
       "      <td>17558</td>\n",
       "      <td>2021-10-06 13:42:29.943818</td>\n",
       "      <td>115968</td>\n",
       "      <td>2021-10-06 12:51:23.990275</td>\n",
       "      <td>other admin</td>\n",
       "      <td>South America</td>\n",
       "      <td>Celebrity, Artist or Public Figure</td>\n",
       "      <td>Search Engine</td>\n",
       "      <td>False</td>\n",
       "      <td>...</td>\n",
       "      <td>expired</td>\n",
       "      <td>10217</td>\n",
       "      <td>2021-10-07 11:13:34.274552</td>\n",
       "      <td>2021-10-06 14:51:10.049858</td>\n",
       "      <td>2021-10-18 14:52:22.000000</td>\n",
       "      <td>2021-10-06 14:51:08.000000</td>\n",
       "      <td>2021-10-06 13:42:30.192963</td>\n",
       "      <td>NaN</td>\n",
       "      <td>NaN</td>\n",
       "      <td>NaN</td>\n",
       "    </tr>\n",
       "    <tr>\n",
       "      <th>869270</th>\n",
       "      <td>869270</td>\n",
       "      <td>17559</td>\n",
       "      <td>2021-10-21 17:43:24.818691</td>\n",
       "      <td>115969</td>\n",
       "      <td>2021-10-21 17:43:01.304537</td>\n",
       "      <td>1st admin</td>\n",
       "      <td>South America</td>\n",
       "      <td>Other</td>\n",
       "      <td>Recommended by friend or colleague</td>\n",
       "      <td>False</td>\n",
       "      <td>...</td>\n",
       "      <td>free</td>\n",
       "      <td>12594</td>\n",
       "      <td>2021-10-22 23:07:19.096855</td>\n",
       "      <td>NaN</td>\n",
       "      <td>NaN</td>\n",
       "      <td>NaN</td>\n",
       "      <td>2021-10-21 17:46:12.231707</td>\n",
       "      <td>mobile.automations_promo__default_reply__setup...</td>\n",
       "      <td>2021-10-21 17:46:12.216189</td>\n",
       "      <td>0.0</td>\n",
       "    </tr>\n",
       "  </tbody>\n",
       "</table>\n",
       "<p>15970 rows × 26 columns</p>\n",
       "</div>"
      ],
      "text/plain": [
       "        Unnamed: 0  account_id        account_creationdate  client_id  \\\n",
       "0                0           1  2021-10-05 20:36:07.068230     100000   \n",
       "28              28           2  2021-10-21 10:54:09.299865     100001   \n",
       "45              45           3  2021-09-30 12:04:12.263688     100002   \n",
       "61              61           4  2021-10-20 06:07:09.532984     100003   \n",
       "81              81           5  2021-10-04 02:09:54.675728     100004   \n",
       "...            ...         ...                         ...        ...   \n",
       "869129      869129       17553  2021-10-25 04:12:34.862593     115965   \n",
       "869134      869134       17555  2021-09-26 23:37:20.765786     115966   \n",
       "869155      869155       17557  2021-10-08 22:47:06.699027     115967   \n",
       "869269      869269       17558  2021-10-06 13:42:29.943818     115968   \n",
       "869270      869270       17559  2021-10-21 17:43:24.818691     115969   \n",
       "\n",
       "               client_creationdate admin_status  country_group  \\\n",
       "0       2021-10-05 20:33:30.173973    1st admin           Asia   \n",
       "28      2021-10-21 10:48:38.785303    1st admin  South America   \n",
       "45      2021-09-30 12:02:37.514603    1st admin  South America   \n",
       "61      2021-10-20 05:18:36.190985    1st admin  South America   \n",
       "81      2021-10-04 02:07:56.478409    1st admin           Asia   \n",
       "...                            ...          ...            ...   \n",
       "869129  2020-07-21 04:26:07.233909    1st admin  North America   \n",
       "869134  2021-09-26 23:31:20.184660    1st admin           Asia   \n",
       "869155  2016-11-29 22:26:12.883208    1st admin           Asia   \n",
       "869269  2021-10-06 12:51:23.990275  other admin  South America   \n",
       "869270  2021-10-21 17:43:01.304537    1st admin  South America   \n",
       "\n",
       "                                          industry  \\\n",
       "0                                            Other   \n",
       "28                                   Personal blog   \n",
       "45                                           Other   \n",
       "61                                 Infopreneurship   \n",
       "81                         Local business or place   \n",
       "...                                            ...   \n",
       "869129                                  E-commerce   \n",
       "869134  Fun (jokes, community, daily quotes, etc.)   \n",
       "869155                     Professional consulting   \n",
       "869269          Celebrity, Artist or Public Figure   \n",
       "869270                                       Other   \n",
       "\n",
       "                               hear_source  support_provided  ...  \\\n",
       "0       Recommended by friend or colleague             False  ...   \n",
       "28                            Social media             False  ...   \n",
       "45                           Search Engine             False  ...   \n",
       "61      Recommended by friend or colleague             False  ...   \n",
       "81                           Search Engine             False  ...   \n",
       "...                                    ...               ...  ...   \n",
       "869129  Recommended by friend or colleague             False  ...   \n",
       "869134                       Search Engine             False  ...   \n",
       "869155  Recommended by friend or colleague             False  ...   \n",
       "869269                       Search Engine             False  ...   \n",
       "869270  Recommended by friend or colleague             False  ...   \n",
       "\n",
       "       current_account_status  ltv_predicted          ig_activation_dttm  \\\n",
       "0                        free           9679                         NaN   \n",
       "28                       free           1570                         NaN   \n",
       "45                       free          -5841                         NaN   \n",
       "61                    expired          -5580                         NaN   \n",
       "81                        pro          13050  2021-10-04 10:12:56.910884   \n",
       "...                       ...            ...                         ...   \n",
       "869129                   free          13164                         NaN   \n",
       "869134                expired          -5922                         NaN   \n",
       "869155                    pro           2060  2021-10-13 20:50:55.778229   \n",
       "869269                expired          10217  2021-10-07 11:13:34.274552   \n",
       "869270                   free          12594  2021-10-22 23:07:19.096855   \n",
       "\n",
       "                        trial_dttm                   paid_dttm  \\\n",
       "0                              NaN                         NaN   \n",
       "28                             NaN                         NaN   \n",
       "45                             NaN                         NaN   \n",
       "61      2021-10-20 06:09:35.887671                         NaN   \n",
       "81      2021-10-04 02:21:38.390630  2021-10-16 02:24:09.000000   \n",
       "...                            ...                         ...   \n",
       "869129                         NaN                         NaN   \n",
       "869134  2021-09-26 23:39:47.207375  2021-10-03 23:40:33.000000   \n",
       "869155  2021-10-14 17:46:43.322435  2021-10-21 17:47:49.000000   \n",
       "869269  2021-10-06 14:51:10.049858  2021-10-18 14:52:22.000000   \n",
       "869270                         NaN                         NaN   \n",
       "\n",
       "                          pro_dttm  first_ig_flow_publish_dttm  \\\n",
       "0                              NaN                         NaN   \n",
       "28                             NaN  2021-10-21 11:07:41.655267   \n",
       "45                             NaN  2021-09-30 12:09:50.286770   \n",
       "61      2021-10-20 06:09:34.000000  2021-10-20 06:45:45.668886   \n",
       "81      2021-10-04 02:21:37.000000  2021-10-04 02:15:05.160874   \n",
       "...                            ...                         ...   \n",
       "869129                         NaN                         NaN   \n",
       "869134  2021-09-26 23:39:46.000000  2021-09-26 23:48:03.360046   \n",
       "869155  2021-10-14 17:46:42.000000  2021-10-08 23:11:31.042541   \n",
       "869269  2021-10-06 14:51:08.000000  2021-10-06 13:42:30.192963   \n",
       "869270                         NaN  2021-10-21 17:46:12.231707   \n",
       "\n",
       "                                               event_name  \\\n",
       "0                         mobile.automations_list__opened   \n",
       "28                       web.builder.addtrigger.modal.add   \n",
       "45                       web.builder.addtrigger.modal.add   \n",
       "61      mobile.edit_conversation_starter__question__ne...   \n",
       "81                       web.builder.addtrigger.modal.add   \n",
       "...                                                   ...   \n",
       "869129                    web.dashboard.product_tips.show   \n",
       "869134  mobile.automations_promo__default_reply__setup...   \n",
       "869155  web.builder.starting_step_node_sidebar.enable_...   \n",
       "869269                                                NaN   \n",
       "869270  mobile.automations_promo__default_reply__setup...   \n",
       "\n",
       "                        event_dttm Группа  \n",
       "0       2021-10-05 21:10:36.267423    3.0  \n",
       "28      2021-10-21 11:07:06.864483    1.0  \n",
       "45      2021-09-30 12:09:35.794417    1.0  \n",
       "61      2021-10-20 06:45:45.133076    0.0  \n",
       "81      2021-10-04 02:14:53.879521    1.0  \n",
       "...                            ...    ...  \n",
       "869129  2021-10-25 04:21:34.370200    NaN  \n",
       "869134  2021-09-26 23:48:03.089337    1.0  \n",
       "869155  2021-10-08 23:11:31.028170    NaN  \n",
       "869269                         NaN    NaN  \n",
       "869270  2021-10-21 17:46:12.216189    0.0  \n",
       "\n",
       "[15970 rows x 26 columns]"
      ]
     },
     "execution_count": 292,
     "metadata": {},
     "output_type": "execute_result"
    }
   ],
   "source": [
    "df1"
   ]
  },
  {
   "cell_type": "code",
   "execution_count": 294,
   "metadata": {},
   "outputs": [],
   "source": [
    "df = df1.copy()"
   ]
  },
  {
   "cell_type": "code",
   "execution_count": 271,
   "metadata": {},
   "outputs": [],
   "source": [
    "df['Группа'] = str(df['Группа'])"
   ]
  },
  {
   "cell_type": "code",
   "execution_count": 265,
   "metadata": {},
   "outputs": [],
   "source": [
    "df = df[df['Группа'].notnull()]"
   ]
  },
  {
   "cell_type": "code",
   "execution_count": 256,
   "metadata": {},
   "outputs": [
    {
     "data": {
      "text/plain": [
       "South America                 2933\n",
       "Asia                          1681\n",
       "Russian Speaking Countries     736\n",
       "Europe                         687\n",
       "United States                  682\n",
       "North America                  442\n",
       "Africa                         171\n",
       "Other                           19\n",
       "Name: country_group, dtype: int64"
      ]
     },
     "execution_count": 256,
     "metadata": {},
     "output_type": "execute_result"
    }
   ],
   "source": [
    "df[df['Группа'] == 3]['country_group'].value_counts()"
   ]
  },
  {
   "cell_type": "code",
   "execution_count": 310,
   "metadata": {},
   "outputs": [],
   "source": [
    "group_by_param = df.groupby(by= ['Группа', 'hear_source'])['client_id'].nunique().reset_index()"
   ]
  },
  {
   "cell_type": "code",
   "execution_count": 312,
   "metadata": {},
   "outputs": [
    {
     "data": {
      "image/png": "[encoded data removed]",
      "text/plain": [
       "<Figure size 1296x576 with 1 Axes>"
      ]
     },
     "metadata": {
      "needs_background": "light"
     },
     "output_type": "display_data"
    }
   ],
   "source": [
    "plt.figure(figsize=(18, 8))\n",
    "chart = sns.barplot(x='hear_source', y='client_id', hue = 'Группа', data=group_by_param)\n",
    "plt.xlabel('Источник')\n",
    "plt.ylabel('Количество клиентов')\n",
    "for p in chart.patches:\n",
    "             chart.annotate(\"%.0f\" % p.get_height(), (p.get_x() + p.get_width() / 2., p.get_height()),\n",
    "                 ha='center', va='center', fontsize=10, color='black', xytext=(0, 5),\n",
    "                 textcoords='offset points')\n",
    "chart.set_title('Распределение клиентов по источникам трафика в зависимости от группы (кластера)', fontdict={'fontsize':18}, pad=16)\n",
    "plt.show()"
   ]
  },
  {
   "cell_type": "code",
   "execution_count": 216,
   "metadata": {},
   "outputs": [
    {
     "data": {
      "text/plain": [
       "0.03885194259712986"
      ]
     },
     "execution_count": 216,
     "metadata": {},
     "output_type": "execute_result"
    }
   ],
   "source": [
    "df1[df1['Группа'] == 0]['paid_dttm'].count() / df1[df1['Группа'] == 0]['account_id'].count()"
   ]
  },
  {
   "cell_type": "code",
   "execution_count": 217,
   "metadata": {},
   "outputs": [
    {
     "data": {
      "text/plain": [
       "0.17546666666666666"
      ]
     },
     "execution_count": 217,
     "metadata": {},
     "output_type": "execute_result"
    }
   ],
   "source": [
    "df1[df1['Группа'] == 1]['paid_dttm'].count() / df1[df1['Группа'] == 1]['account_id'].count()"
   ]
  },
  {
   "cell_type": "code",
   "execution_count": 218,
   "metadata": {},
   "outputs": [
    {
     "data": {
      "text/plain": [
       "0.1111111111111111"
      ]
     },
     "execution_count": 218,
     "metadata": {},
     "output_type": "execute_result"
    }
   ],
   "source": [
    "df1[df1['Группа'] == 2]['paid_dttm'].count() / df1[df1['Группа'] == 2]['account_id'].count()"
   ]
  },
  {
   "cell_type": "code",
   "execution_count": 219,
   "metadata": {},
   "outputs": [
    {
     "data": {
      "text/plain": [
       "0.13101026472177202"
      ]
     },
     "execution_count": 219,
     "metadata": {},
     "output_type": "execute_result"
    }
   ],
   "source": [
    "df1[df1['Группа'] == 3]['paid_dttm'].count() / df1[df1['Группа'] == 3]['account_id'].nunique()"
   ]
  },
  {
   "cell_type": "code",
   "execution_count": 225,
   "metadata": {},
   "outputs": [
    {
     "data": {
      "text/html": [
       "<div>\n",
       "<style scoped>\n",
       "    .dataframe tbody tr th:only-of-type {\n",
       "        vertical-align: middle;\n",
       "    }\n",
       "\n",
       "    .dataframe tbody tr th {\n",
       "        vertical-align: top;\n",
       "    }\n",
       "\n",
       "    .dataframe thead th {\n",
       "        text-align: right;\n",
       "    }\n",
       "</style>\n",
       "<table border=\"1\" class=\"dataframe\">\n",
       "  <thead>\n",
       "    <tr style=\"text-align: right;\">\n",
       "      <th></th>\n",
       "      <th>Unnamed: 0</th>\n",
       "      <th>account_id</th>\n",
       "      <th>account_creationdate</th>\n",
       "      <th>client_id</th>\n",
       "      <th>client_creationdate</th>\n",
       "      <th>admin_status</th>\n",
       "      <th>country_group</th>\n",
       "      <th>industry</th>\n",
       "      <th>hear_source</th>\n",
       "      <th>support_provided</th>\n",
       "      <th>...</th>\n",
       "      <th>current_account_status</th>\n",
       "      <th>ltv_predicted</th>\n",
       "      <th>ig_activation_dttm</th>\n",
       "      <th>trial_dttm</th>\n",
       "      <th>paid_dttm</th>\n",
       "      <th>pro_dttm</th>\n",
       "      <th>first_ig_flow_publish_dttm</th>\n",
       "      <th>event_name</th>\n",
       "      <th>event_dttm</th>\n",
       "      <th>Группа</th>\n",
       "    </tr>\n",
       "  </thead>\n",
       "  <tbody>\n",
       "    <tr>\n",
       "      <th>10</th>\n",
       "      <td>10</td>\n",
       "      <td>1</td>\n",
       "      <td>2021-10-05 20:36:07.068230</td>\n",
       "      <td>100000</td>\n",
       "      <td>2021-10-05 20:33:30.173973</td>\n",
       "      <td>1st admin</td>\n",
       "      <td>Asia</td>\n",
       "      <td>Other</td>\n",
       "      <td>Recommended by friend or colleague</td>\n",
       "      <td>False</td>\n",
       "      <td>...</td>\n",
       "      <td>free</td>\n",
       "      <td>9679</td>\n",
       "      <td>NaN</td>\n",
       "      <td>NaN</td>\n",
       "      <td>NaN</td>\n",
       "      <td>NaN</td>\n",
       "      <td>NaN</td>\n",
       "      <td>web.page_questionnaire.todo_list_personalizati...</td>\n",
       "      <td>2021-10-05 20:40:49.401840</td>\n",
       "      <td>3.0</td>\n",
       "    </tr>\n",
       "    <tr>\n",
       "      <th>44</th>\n",
       "      <td>44</td>\n",
       "      <td>2</td>\n",
       "      <td>2021-10-21 10:54:09.299865</td>\n",
       "      <td>100001</td>\n",
       "      <td>2021-10-21 10:48:38.785303</td>\n",
       "      <td>1st admin</td>\n",
       "      <td>South America</td>\n",
       "      <td>Personal blog</td>\n",
       "      <td>Social media</td>\n",
       "      <td>False</td>\n",
       "      <td>...</td>\n",
       "      <td>free</td>\n",
       "      <td>1570</td>\n",
       "      <td>NaN</td>\n",
       "      <td>NaN</td>\n",
       "      <td>NaN</td>\n",
       "      <td>NaN</td>\n",
       "      <td>2021-10-21 11:07:41.655267</td>\n",
       "      <td>web.page_questionnaire.todo_list_personalizati...</td>\n",
       "      <td>2021-10-21 10:55:46.023532</td>\n",
       "      <td>1.0</td>\n",
       "    </tr>\n",
       "    <tr>\n",
       "      <th>60</th>\n",
       "      <td>60</td>\n",
       "      <td>3</td>\n",
       "      <td>2021-09-30 12:04:12.263688</td>\n",
       "      <td>100002</td>\n",
       "      <td>2021-09-30 12:02:37.514603</td>\n",
       "      <td>1st admin</td>\n",
       "      <td>South America</td>\n",
       "      <td>Other</td>\n",
       "      <td>Search Engine</td>\n",
       "      <td>False</td>\n",
       "      <td>...</td>\n",
       "      <td>free</td>\n",
       "      <td>-5841</td>\n",
       "      <td>NaN</td>\n",
       "      <td>NaN</td>\n",
       "      <td>NaN</td>\n",
       "      <td>NaN</td>\n",
       "      <td>2021-09-30 12:09:50.286770</td>\n",
       "      <td>web.page_questionnaire.todo_list_personalizati...</td>\n",
       "      <td>2021-09-30 12:05:05.381512</td>\n",
       "      <td>1.0</td>\n",
       "    </tr>\n",
       "    <tr>\n",
       "      <th>80</th>\n",
       "      <td>80</td>\n",
       "      <td>4</td>\n",
       "      <td>2021-10-20 06:07:09.532984</td>\n",
       "      <td>100003</td>\n",
       "      <td>2021-10-20 05:18:36.190985</td>\n",
       "      <td>1st admin</td>\n",
       "      <td>South America</td>\n",
       "      <td>Infopreneurship</td>\n",
       "      <td>Recommended by friend or colleague</td>\n",
       "      <td>False</td>\n",
       "      <td>...</td>\n",
       "      <td>expired</td>\n",
       "      <td>-5580</td>\n",
       "      <td>NaN</td>\n",
       "      <td>2021-10-20 06:09:35.887671</td>\n",
       "      <td>NaN</td>\n",
       "      <td>2021-10-20 06:09:34.000000</td>\n",
       "      <td>2021-10-20 06:45:45.668886</td>\n",
       "      <td>web.page_questionnaire.todo_list_personalizati...</td>\n",
       "      <td>2021-10-20 06:10:06.876242</td>\n",
       "      <td>0.0</td>\n",
       "    </tr>\n",
       "    <tr>\n",
       "      <th>97</th>\n",
       "      <td>97</td>\n",
       "      <td>5</td>\n",
       "      <td>2021-10-04 02:09:54.675728</td>\n",
       "      <td>100004</td>\n",
       "      <td>2021-10-04 02:07:56.478409</td>\n",
       "      <td>1st admin</td>\n",
       "      <td>Asia</td>\n",
       "      <td>Local business or place</td>\n",
       "      <td>Search Engine</td>\n",
       "      <td>False</td>\n",
       "      <td>...</td>\n",
       "      <td>pro</td>\n",
       "      <td>13050</td>\n",
       "      <td>2021-10-04 10:12:56.910884</td>\n",
       "      <td>2021-10-04 02:21:38.390630</td>\n",
       "      <td>2021-10-16 02:24:09.000000</td>\n",
       "      <td>2021-10-04 02:21:37.000000</td>\n",
       "      <td>2021-10-04 02:15:05.160874</td>\n",
       "      <td>web.page_questionnaire.todo_list_personalizati...</td>\n",
       "      <td>2021-10-04 02:11:48.236731</td>\n",
       "      <td>1.0</td>\n",
       "    </tr>\n",
       "    <tr>\n",
       "      <th>...</th>\n",
       "      <td>...</td>\n",
       "      <td>...</td>\n",
       "      <td>...</td>\n",
       "      <td>...</td>\n",
       "      <td>...</td>\n",
       "      <td>...</td>\n",
       "      <td>...</td>\n",
       "      <td>...</td>\n",
       "      <td>...</td>\n",
       "      <td>...</td>\n",
       "      <td>...</td>\n",
       "      <td>...</td>\n",
       "      <td>...</td>\n",
       "      <td>...</td>\n",
       "      <td>...</td>\n",
       "      <td>...</td>\n",
       "      <td>...</td>\n",
       "      <td>...</td>\n",
       "      <td>...</td>\n",
       "      <td>...</td>\n",
       "      <td>...</td>\n",
       "    </tr>\n",
       "    <tr>\n",
       "      <th>869062</th>\n",
       "      <td>869062</td>\n",
       "      <td>17550</td>\n",
       "      <td>2017-07-26 16:36:36.648325</td>\n",
       "      <td>115962</td>\n",
       "      <td>2017-07-26 16:36:20.796611</td>\n",
       "      <td>1st admin</td>\n",
       "      <td>Africa</td>\n",
       "      <td>Professional consulting</td>\n",
       "      <td>Social media</td>\n",
       "      <td>False</td>\n",
       "      <td>...</td>\n",
       "      <td>expired</td>\n",
       "      <td>3880</td>\n",
       "      <td>NaN</td>\n",
       "      <td>NaN</td>\n",
       "      <td>NaN</td>\n",
       "      <td>NaN</td>\n",
       "      <td>2021-09-20 13:31:54.145342</td>\n",
       "      <td>mobile.automations_promo__default_reply__setup...</td>\n",
       "      <td>2021-09-20 13:31:52.827302</td>\n",
       "      <td>0.0</td>\n",
       "    </tr>\n",
       "    <tr>\n",
       "      <th>869090</th>\n",
       "      <td>869090</td>\n",
       "      <td>17551</td>\n",
       "      <td>2021-09-27 21:37:08.774922</td>\n",
       "      <td>115963</td>\n",
       "      <td>2021-09-27 21:01:55.796810</td>\n",
       "      <td>1st admin</td>\n",
       "      <td>South America</td>\n",
       "      <td>Personal blog</td>\n",
       "      <td>Other</td>\n",
       "      <td>False</td>\n",
       "      <td>...</td>\n",
       "      <td>free</td>\n",
       "      <td>9723</td>\n",
       "      <td>NaN</td>\n",
       "      <td>NaN</td>\n",
       "      <td>NaN</td>\n",
       "      <td>NaN</td>\n",
       "      <td>NaN</td>\n",
       "      <td>web.page_questionnaire.todo_list_personalizati...</td>\n",
       "      <td>2021-09-27 21:38:53.486325</td>\n",
       "      <td>3.0</td>\n",
       "    </tr>\n",
       "    <tr>\n",
       "      <th>869128</th>\n",
       "      <td>869128</td>\n",
       "      <td>17552</td>\n",
       "      <td>2021-09-24 05:36:02.605336</td>\n",
       "      <td>115964</td>\n",
       "      <td>2021-09-24 04:41:35.299848</td>\n",
       "      <td>1st admin</td>\n",
       "      <td>South America</td>\n",
       "      <td>Unknown</td>\n",
       "      <td>Other</td>\n",
       "      <td>False</td>\n",
       "      <td>...</td>\n",
       "      <td>free</td>\n",
       "      <td>-4922</td>\n",
       "      <td>NaN</td>\n",
       "      <td>NaN</td>\n",
       "      <td>NaN</td>\n",
       "      <td>NaN</td>\n",
       "      <td>NaN</td>\n",
       "      <td>web.page_questionnaire.todo_list_personalizati...</td>\n",
       "      <td>2021-09-24 05:36:31.466922</td>\n",
       "      <td>3.0</td>\n",
       "    </tr>\n",
       "    <tr>\n",
       "      <th>869154</th>\n",
       "      <td>869154</td>\n",
       "      <td>17555</td>\n",
       "      <td>2021-09-26 23:37:20.765786</td>\n",
       "      <td>115966</td>\n",
       "      <td>2021-09-26 23:31:20.184660</td>\n",
       "      <td>1st admin</td>\n",
       "      <td>Asia</td>\n",
       "      <td>Fun (jokes, community, daily quotes, etc.)</td>\n",
       "      <td>Search Engine</td>\n",
       "      <td>False</td>\n",
       "      <td>...</td>\n",
       "      <td>expired</td>\n",
       "      <td>-5922</td>\n",
       "      <td>NaN</td>\n",
       "      <td>2021-09-26 23:39:47.207375</td>\n",
       "      <td>2021-10-03 23:40:33.000000</td>\n",
       "      <td>2021-09-26 23:39:46.000000</td>\n",
       "      <td>2021-09-26 23:48:03.360046</td>\n",
       "      <td>web.page_questionnaire.todo_list_personalizati...</td>\n",
       "      <td>2021-09-26 23:41:02.563596</td>\n",
       "      <td>1.0</td>\n",
       "    </tr>\n",
       "    <tr>\n",
       "      <th>869277</th>\n",
       "      <td>869277</td>\n",
       "      <td>17559</td>\n",
       "      <td>2021-10-21 17:43:24.818691</td>\n",
       "      <td>115969</td>\n",
       "      <td>2021-10-21 17:43:01.304537</td>\n",
       "      <td>1st admin</td>\n",
       "      <td>South America</td>\n",
       "      <td>Other</td>\n",
       "      <td>Recommended by friend or colleague</td>\n",
       "      <td>False</td>\n",
       "      <td>...</td>\n",
       "      <td>free</td>\n",
       "      <td>12594</td>\n",
       "      <td>2021-10-22 23:07:19.096855</td>\n",
       "      <td>NaN</td>\n",
       "      <td>NaN</td>\n",
       "      <td>NaN</td>\n",
       "      <td>2021-10-21 17:46:12.231707</td>\n",
       "      <td>mobile.dialog_list__open</td>\n",
       "      <td>2021-10-21 17:44:03.398010</td>\n",
       "      <td>0.0</td>\n",
       "    </tr>\n",
       "  </tbody>\n",
       "</table>\n",
       "<p>12847 rows × 26 columns</p>\n",
       "</div>"
      ],
      "text/plain": [
       "        Unnamed: 0  account_id        account_creationdate  client_id  \\\n",
       "10              10           1  2021-10-05 20:36:07.068230     100000   \n",
       "44              44           2  2021-10-21 10:54:09.299865     100001   \n",
       "60              60           3  2021-09-30 12:04:12.263688     100002   \n",
       "80              80           4  2021-10-20 06:07:09.532984     100003   \n",
       "97              97           5  2021-10-04 02:09:54.675728     100004   \n",
       "...            ...         ...                         ...        ...   \n",
       "869062      869062       17550  2017-07-26 16:36:36.648325     115962   \n",
       "869090      869090       17551  2021-09-27 21:37:08.774922     115963   \n",
       "869128      869128       17552  2021-09-24 05:36:02.605336     115964   \n",
       "869154      869154       17555  2021-09-26 23:37:20.765786     115966   \n",
       "869277      869277       17559  2021-10-21 17:43:24.818691     115969   \n",
       "\n",
       "               client_creationdate admin_status  country_group  \\\n",
       "10      2021-10-05 20:33:30.173973    1st admin           Asia   \n",
       "44      2021-10-21 10:48:38.785303    1st admin  South America   \n",
       "60      2021-09-30 12:02:37.514603    1st admin  South America   \n",
       "80      2021-10-20 05:18:36.190985    1st admin  South America   \n",
       "97      2021-10-04 02:07:56.478409    1st admin           Asia   \n",
       "...                            ...          ...            ...   \n",
       "869062  2017-07-26 16:36:20.796611    1st admin         Africa   \n",
       "869090  2021-09-27 21:01:55.796810    1st admin  South America   \n",
       "869128  2021-09-24 04:41:35.299848    1st admin  South America   \n",
       "869154  2021-09-26 23:31:20.184660    1st admin           Asia   \n",
       "869277  2021-10-21 17:43:01.304537    1st admin  South America   \n",
       "\n",
       "                                          industry  \\\n",
       "10                                           Other   \n",
       "44                                   Personal blog   \n",
       "60                                           Other   \n",
       "80                                 Infopreneurship   \n",
       "97                         Local business or place   \n",
       "...                                            ...   \n",
       "869062                     Professional consulting   \n",
       "869090                               Personal blog   \n",
       "869128                                     Unknown   \n",
       "869154  Fun (jokes, community, daily quotes, etc.)   \n",
       "869277                                       Other   \n",
       "\n",
       "                               hear_source  support_provided  ...  \\\n",
       "10      Recommended by friend or colleague             False  ...   \n",
       "44                            Social media             False  ...   \n",
       "60                           Search Engine             False  ...   \n",
       "80      Recommended by friend or colleague             False  ...   \n",
       "97                           Search Engine             False  ...   \n",
       "...                                    ...               ...  ...   \n",
       "869062                        Social media             False  ...   \n",
       "869090                               Other             False  ...   \n",
       "869128                               Other             False  ...   \n",
       "869154                       Search Engine             False  ...   \n",
       "869277  Recommended by friend or colleague             False  ...   \n",
       "\n",
       "       current_account_status  ltv_predicted          ig_activation_dttm  \\\n",
       "10                       free           9679                         NaN   \n",
       "44                       free           1570                         NaN   \n",
       "60                       free          -5841                         NaN   \n",
       "80                    expired          -5580                         NaN   \n",
       "97                        pro          13050  2021-10-04 10:12:56.910884   \n",
       "...                       ...            ...                         ...   \n",
       "869062                expired           3880                         NaN   \n",
       "869090                   free           9723                         NaN   \n",
       "869128                   free          -4922                         NaN   \n",
       "869154                expired          -5922                         NaN   \n",
       "869277                   free          12594  2021-10-22 23:07:19.096855   \n",
       "\n",
       "                        trial_dttm                   paid_dttm  \\\n",
       "10                             NaN                         NaN   \n",
       "44                             NaN                         NaN   \n",
       "60                             NaN                         NaN   \n",
       "80      2021-10-20 06:09:35.887671                         NaN   \n",
       "97      2021-10-04 02:21:38.390630  2021-10-16 02:24:09.000000   \n",
       "...                            ...                         ...   \n",
       "869062                         NaN                         NaN   \n",
       "869090                         NaN                         NaN   \n",
       "869128                         NaN                         NaN   \n",
       "869154  2021-09-26 23:39:47.207375  2021-10-03 23:40:33.000000   \n",
       "869277                         NaN                         NaN   \n",
       "\n",
       "                          pro_dttm  first_ig_flow_publish_dttm  \\\n",
       "10                             NaN                         NaN   \n",
       "44                             NaN  2021-10-21 11:07:41.655267   \n",
       "60                             NaN  2021-09-30 12:09:50.286770   \n",
       "80      2021-10-20 06:09:34.000000  2021-10-20 06:45:45.668886   \n",
       "97      2021-10-04 02:21:37.000000  2021-10-04 02:15:05.160874   \n",
       "...                            ...                         ...   \n",
       "869062                         NaN  2021-09-20 13:31:54.145342   \n",
       "869090                         NaN                         NaN   \n",
       "869128                         NaN                         NaN   \n",
       "869154  2021-09-26 23:39:46.000000  2021-09-26 23:48:03.360046   \n",
       "869277                         NaN  2021-10-21 17:46:12.231707   \n",
       "\n",
       "                                               event_name  \\\n",
       "10      web.page_questionnaire.todo_list_personalizati...   \n",
       "44      web.page_questionnaire.todo_list_personalizati...   \n",
       "60      web.page_questionnaire.todo_list_personalizati...   \n",
       "80      web.page_questionnaire.todo_list_personalizati...   \n",
       "97      web.page_questionnaire.todo_list_personalizati...   \n",
       "...                                                   ...   \n",
       "869062  mobile.automations_promo__default_reply__setup...   \n",
       "869090  web.page_questionnaire.todo_list_personalizati...   \n",
       "869128  web.page_questionnaire.todo_list_personalizati...   \n",
       "869154  web.page_questionnaire.todo_list_personalizati...   \n",
       "869277                           mobile.dialog_list__open   \n",
       "\n",
       "                        event_dttm Группа  \n",
       "10      2021-10-05 20:40:49.401840    3.0  \n",
       "44      2021-10-21 10:55:46.023532    1.0  \n",
       "60      2021-09-30 12:05:05.381512    1.0  \n",
       "80      2021-10-20 06:10:06.876242    0.0  \n",
       "97      2021-10-04 02:11:48.236731    1.0  \n",
       "...                            ...    ...  \n",
       "869062  2021-09-20 13:31:52.827302    0.0  \n",
       "869090  2021-09-27 21:38:53.486325    3.0  \n",
       "869128  2021-09-24 05:36:31.466922    3.0  \n",
       "869154  2021-09-26 23:41:02.563596    1.0  \n",
       "869277  2021-10-21 17:44:03.398010    0.0  \n",
       "\n",
       "[12847 rows x 26 columns]"
      ]
     },
     "execution_count": 225,
     "metadata": {},
     "output_type": "execute_result"
    }
   ],
   "source": [
    "df1"
   ]
  },
  {
   "cell_type": "code",
   "execution_count": 210,
   "metadata": {},
   "outputs": [
    {
     "data": {
      "text/plain": [
       "14998"
      ]
     },
     "execution_count": 210,
     "metadata": {},
     "output_type": "execute_result"
    }
   ],
   "source": [
    "df['ltv_predicted'].max()"
   ]
  },
  {
   "cell_type": "code",
   "execution_count": 226,
   "metadata": {},
   "outputs": [
    {
     "data": {
      "text/html": [
       "<div>\n",
       "<style scoped>\n",
       "    .dataframe tbody tr th:only-of-type {\n",
       "        vertical-align: middle;\n",
       "    }\n",
       "\n",
       "    .dataframe tbody tr th {\n",
       "        vertical-align: top;\n",
       "    }\n",
       "\n",
       "    .dataframe thead th {\n",
       "        text-align: right;\n",
       "    }\n",
       "</style>\n",
       "<table border=\"1\" class=\"dataframe\">\n",
       "  <thead>\n",
       "    <tr style=\"text-align: right;\">\n",
       "      <th></th>\n",
       "      <th>Unnamed: 0</th>\n",
       "      <th>account_id</th>\n",
       "      <th>account_creationdate</th>\n",
       "      <th>client_id</th>\n",
       "      <th>client_creationdate</th>\n",
       "      <th>admin_status</th>\n",
       "      <th>country_group</th>\n",
       "      <th>industry</th>\n",
       "      <th>hear_source</th>\n",
       "      <th>support_provided</th>\n",
       "      <th>...</th>\n",
       "      <th>current_account_status</th>\n",
       "      <th>ltv_predicted</th>\n",
       "      <th>ig_activation_dttm</th>\n",
       "      <th>trial_dttm</th>\n",
       "      <th>paid_dttm</th>\n",
       "      <th>pro_dttm</th>\n",
       "      <th>first_ig_flow_publish_dttm</th>\n",
       "      <th>event_name</th>\n",
       "      <th>event_dttm</th>\n",
       "      <th>Группа</th>\n",
       "    </tr>\n",
       "  </thead>\n",
       "  <tbody>\n",
       "    <tr>\n",
       "      <th>97</th>\n",
       "      <td>97</td>\n",
       "      <td>5</td>\n",
       "      <td>2021-10-04 02:09:54.675728</td>\n",
       "      <td>100004</td>\n",
       "      <td>2021-10-04 02:07:56.478409</td>\n",
       "      <td>1st admin</td>\n",
       "      <td>Asia</td>\n",
       "      <td>Local business or place</td>\n",
       "      <td>Search Engine</td>\n",
       "      <td>False</td>\n",
       "      <td>...</td>\n",
       "      <td>pro</td>\n",
       "      <td>13050</td>\n",
       "      <td>2021-10-04 10:12:56.910884</td>\n",
       "      <td>2021-10-04 02:21:38.390630</td>\n",
       "      <td>2021-10-16 02:24:09.000000</td>\n",
       "      <td>2021-10-04 02:21:37.000000</td>\n",
       "      <td>2021-10-04 02:15:05.160874</td>\n",
       "      <td>web.page_questionnaire.todo_list_personalizati...</td>\n",
       "      <td>2021-10-04 02:11:48.236731</td>\n",
       "      <td>1.0</td>\n",
       "    </tr>\n",
       "    <tr>\n",
       "      <th>2467</th>\n",
       "      <td>2467</td>\n",
       "      <td>30</td>\n",
       "      <td>2021-10-20 06:40:17.375376</td>\n",
       "      <td>100029</td>\n",
       "      <td>2021-10-20 06:35:07.638786</td>\n",
       "      <td>1st admin</td>\n",
       "      <td>South America</td>\n",
       "      <td>Other</td>\n",
       "      <td>Search Engine</td>\n",
       "      <td>False</td>\n",
       "      <td>...</td>\n",
       "      <td>pro</td>\n",
       "      <td>4533</td>\n",
       "      <td>2021-10-20 11:21:18.446705</td>\n",
       "      <td>2021-10-20 06:46:12.948334</td>\n",
       "      <td>2021-10-27 06:46:58.000000</td>\n",
       "      <td>2021-10-20 06:46:11.000000</td>\n",
       "      <td>2021-10-20 06:57:12.983902</td>\n",
       "      <td>web.page_questionnaire.todo_list_personalizati...</td>\n",
       "      <td>2021-10-20 06:51:08.760531</td>\n",
       "      <td>0.0</td>\n",
       "    </tr>\n",
       "    <tr>\n",
       "      <th>2484</th>\n",
       "      <td>2484</td>\n",
       "      <td>31</td>\n",
       "      <td>2021-10-26 08:03:29.202925</td>\n",
       "      <td>100030</td>\n",
       "      <td>2021-10-26 08:01:38.663731</td>\n",
       "      <td>1st admin</td>\n",
       "      <td>Asia</td>\n",
       "      <td>Local business or place</td>\n",
       "      <td>Recommended by friend or colleague</td>\n",
       "      <td>False</td>\n",
       "      <td>...</td>\n",
       "      <td>pro</td>\n",
       "      <td>-3918</td>\n",
       "      <td>2021-11-04 13:57:35.850723</td>\n",
       "      <td>2021-10-28 21:57:41.018878</td>\n",
       "      <td>2021-11-04 21:58:15.000000</td>\n",
       "      <td>2021-10-28 21:57:39.000000</td>\n",
       "      <td>2021-10-26 08:08:52.800711</td>\n",
       "      <td>web.page_questionnaire.todo_list_personalizati...</td>\n",
       "      <td>2021-10-26 08:04:47.617711</td>\n",
       "      <td>1.0</td>\n",
       "    </tr>\n",
       "    <tr>\n",
       "      <th>2818</th>\n",
       "      <td>2818</td>\n",
       "      <td>38</td>\n",
       "      <td>2021-10-19 15:23:33.720250</td>\n",
       "      <td>100037</td>\n",
       "      <td>2021-10-19 15:03:12.692520</td>\n",
       "      <td>1st admin</td>\n",
       "      <td>North America</td>\n",
       "      <td>E-commerce</td>\n",
       "      <td>Blog or publication</td>\n",
       "      <td>False</td>\n",
       "      <td>...</td>\n",
       "      <td>pro</td>\n",
       "      <td>5939</td>\n",
       "      <td>NaN</td>\n",
       "      <td>2021-10-20 04:08:10.216942</td>\n",
       "      <td>2021-10-27 04:08:34.000000</td>\n",
       "      <td>2021-10-20 04:08:07.000000</td>\n",
       "      <td>NaN</td>\n",
       "      <td>web.onboarding.ig_campaigns_page.visit</td>\n",
       "      <td>2021-10-19 16:35:26.492821</td>\n",
       "      <td>3.0</td>\n",
       "    </tr>\n",
       "    <tr>\n",
       "      <th>5511</th>\n",
       "      <td>5511</td>\n",
       "      <td>57</td>\n",
       "      <td>2021-09-20 19:08:55.993548</td>\n",
       "      <td>100056</td>\n",
       "      <td>2021-09-20 14:17:00.219737</td>\n",
       "      <td>1st admin</td>\n",
       "      <td>Asia</td>\n",
       "      <td>Local business or place</td>\n",
       "      <td>Social media</td>\n",
       "      <td>False</td>\n",
       "      <td>...</td>\n",
       "      <td>pro</td>\n",
       "      <td>-8674</td>\n",
       "      <td>2021-09-21 21:16:23.010321</td>\n",
       "      <td>2021-09-20 19:23:27.535083</td>\n",
       "      <td>2021-09-27 19:23:53.000000</td>\n",
       "      <td>2021-09-20 19:23:26.000000</td>\n",
       "      <td>2021-09-20 19:27:03.624650</td>\n",
       "      <td>web.page_questionnaire.todo_list_personalizati...</td>\n",
       "      <td>2021-09-20 19:24:48.784095</td>\n",
       "      <td>3.0</td>\n",
       "    </tr>\n",
       "    <tr>\n",
       "      <th>...</th>\n",
       "      <td>...</td>\n",
       "      <td>...</td>\n",
       "      <td>...</td>\n",
       "      <td>...</td>\n",
       "      <td>...</td>\n",
       "      <td>...</td>\n",
       "      <td>...</td>\n",
       "      <td>...</td>\n",
       "      <td>...</td>\n",
       "      <td>...</td>\n",
       "      <td>...</td>\n",
       "      <td>...</td>\n",
       "      <td>...</td>\n",
       "      <td>...</td>\n",
       "      <td>...</td>\n",
       "      <td>...</td>\n",
       "      <td>...</td>\n",
       "      <td>...</td>\n",
       "      <td>...</td>\n",
       "      <td>...</td>\n",
       "      <td>...</td>\n",
       "    </tr>\n",
       "    <tr>\n",
       "      <th>866752</th>\n",
       "      <td>866752</td>\n",
       "      <td>17446</td>\n",
       "      <td>2021-10-27 02:25:33.135909</td>\n",
       "      <td>115873</td>\n",
       "      <td>2021-10-27 02:25:25.696320</td>\n",
       "      <td>1st admin</td>\n",
       "      <td>South America</td>\n",
       "      <td>Other</td>\n",
       "      <td>Other</td>\n",
       "      <td>False</td>\n",
       "      <td>...</td>\n",
       "      <td>pro</td>\n",
       "      <td>10558</td>\n",
       "      <td>2021-10-27 10:31:19.378872</td>\n",
       "      <td>2021-10-27 04:43:23.645160</td>\n",
       "      <td>2021-11-03 04:43:38.000000</td>\n",
       "      <td>2021-10-27 04:43:22.000000</td>\n",
       "      <td>2021-10-27 03:11:13.847420</td>\n",
       "      <td>mobile.audience__open</td>\n",
       "      <td>2021-10-27 02:29:19.101195</td>\n",
       "      <td>3.0</td>\n",
       "    </tr>\n",
       "    <tr>\n",
       "      <th>866922</th>\n",
       "      <td>866922</td>\n",
       "      <td>17455</td>\n",
       "      <td>2021-10-14 10:13:17.546483</td>\n",
       "      <td>115881</td>\n",
       "      <td>2021-10-14 10:06:01.039085</td>\n",
       "      <td>1st admin</td>\n",
       "      <td>South America</td>\n",
       "      <td>Infopreneurship</td>\n",
       "      <td>Other</td>\n",
       "      <td>False</td>\n",
       "      <td>...</td>\n",
       "      <td>pro</td>\n",
       "      <td>12491</td>\n",
       "      <td>2021-10-14 19:07:12.618065</td>\n",
       "      <td>2021-10-14 10:38:56.166136</td>\n",
       "      <td>2021-10-21 10:40:31.000000</td>\n",
       "      <td>2021-10-14 10:38:55.000000</td>\n",
       "      <td>2021-10-14 10:17:13.583488</td>\n",
       "      <td>web.page_questionnaire.todo_list_personalizati...</td>\n",
       "      <td>2021-10-14 10:14:21.674346</td>\n",
       "      <td>1.0</td>\n",
       "    </tr>\n",
       "    <tr>\n",
       "      <th>868365</th>\n",
       "      <td>868365</td>\n",
       "      <td>17508</td>\n",
       "      <td>2021-09-18 12:37:51.109520</td>\n",
       "      <td>115927</td>\n",
       "      <td>2021-09-18 12:32:50.178663</td>\n",
       "      <td>1st admin</td>\n",
       "      <td>Europe</td>\n",
       "      <td>Professional consulting</td>\n",
       "      <td>Social media</td>\n",
       "      <td>True</td>\n",
       "      <td>...</td>\n",
       "      <td>pro</td>\n",
       "      <td>5596</td>\n",
       "      <td>2021-09-18 17:38:13.619216</td>\n",
       "      <td>2021-09-18 12:41:05.477189</td>\n",
       "      <td>2021-10-03 12:41:04.000000</td>\n",
       "      <td>2021-09-18 12:41:04.000000</td>\n",
       "      <td>2021-09-18 12:47:17.985341</td>\n",
       "      <td>web.page_questionnaire.todo_list_personalizati...</td>\n",
       "      <td>2021-09-18 12:41:52.189314</td>\n",
       "      <td>1.0</td>\n",
       "    </tr>\n",
       "    <tr>\n",
       "      <th>868462</th>\n",
       "      <td>868462</td>\n",
       "      <td>17518</td>\n",
       "      <td>2021-09-24 16:17:09.453307</td>\n",
       "      <td>115935</td>\n",
       "      <td>2021-09-24 16:07:59.450150</td>\n",
       "      <td>1st admin</td>\n",
       "      <td>South America</td>\n",
       "      <td>Infopreneurship</td>\n",
       "      <td>Recommended by friend or colleague</td>\n",
       "      <td>False</td>\n",
       "      <td>...</td>\n",
       "      <td>pro</td>\n",
       "      <td>-4344</td>\n",
       "      <td>2021-10-22 15:57:59.201132</td>\n",
       "      <td>2021-09-26 17:35:18.796576</td>\n",
       "      <td>2021-10-11 17:35:31.000000</td>\n",
       "      <td>2021-09-26 17:35:17.000000</td>\n",
       "      <td>2021-09-25 07:43:28.209951</td>\n",
       "      <td>web.page_questionnaire.todo_list_personalizati...</td>\n",
       "      <td>2021-09-25 07:33:26.077908</td>\n",
       "      <td>1.0</td>\n",
       "    </tr>\n",
       "    <tr>\n",
       "      <th>869154</th>\n",
       "      <td>869154</td>\n",
       "      <td>17555</td>\n",
       "      <td>2021-09-26 23:37:20.765786</td>\n",
       "      <td>115966</td>\n",
       "      <td>2021-09-26 23:31:20.184660</td>\n",
       "      <td>1st admin</td>\n",
       "      <td>Asia</td>\n",
       "      <td>Fun (jokes, community, daily quotes, etc.)</td>\n",
       "      <td>Search Engine</td>\n",
       "      <td>False</td>\n",
       "      <td>...</td>\n",
       "      <td>expired</td>\n",
       "      <td>-5922</td>\n",
       "      <td>NaN</td>\n",
       "      <td>2021-09-26 23:39:47.207375</td>\n",
       "      <td>2021-10-03 23:40:33.000000</td>\n",
       "      <td>2021-09-26 23:39:46.000000</td>\n",
       "      <td>2021-09-26 23:48:03.360046</td>\n",
       "      <td>web.page_questionnaire.todo_list_personalizati...</td>\n",
       "      <td>2021-09-26 23:41:02.563596</td>\n",
       "      <td>1.0</td>\n",
       "    </tr>\n",
       "  </tbody>\n",
       "</table>\n",
       "<p>1489 rows × 26 columns</p>\n",
       "</div>"
      ],
      "text/plain": [
       "        Unnamed: 0  account_id        account_creationdate  client_id  \\\n",
       "97              97           5  2021-10-04 02:09:54.675728     100004   \n",
       "2467          2467          30  2021-10-20 06:40:17.375376     100029   \n",
       "2484          2484          31  2021-10-26 08:03:29.202925     100030   \n",
       "2818          2818          38  2021-10-19 15:23:33.720250     100037   \n",
       "5511          5511          57  2021-09-20 19:08:55.993548     100056   \n",
       "...            ...         ...                         ...        ...   \n",
       "866752      866752       17446  2021-10-27 02:25:33.135909     115873   \n",
       "866922      866922       17455  2021-10-14 10:13:17.546483     115881   \n",
       "868365      868365       17508  2021-09-18 12:37:51.109520     115927   \n",
       "868462      868462       17518  2021-09-24 16:17:09.453307     115935   \n",
       "869154      869154       17555  2021-09-26 23:37:20.765786     115966   \n",
       "\n",
       "               client_creationdate admin_status  country_group  \\\n",
       "97      2021-10-04 02:07:56.478409    1st admin           Asia   \n",
       "2467    2021-10-20 06:35:07.638786    1st admin  South America   \n",
       "2484    2021-10-26 08:01:38.663731    1st admin           Asia   \n",
       "2818    2021-10-19 15:03:12.692520    1st admin  North America   \n",
       "5511    2021-09-20 14:17:00.219737    1st admin           Asia   \n",
       "...                            ...          ...            ...   \n",
       "866752  2021-10-27 02:25:25.696320    1st admin  South America   \n",
       "866922  2021-10-14 10:06:01.039085    1st admin  South America   \n",
       "868365  2021-09-18 12:32:50.178663    1st admin         Europe   \n",
       "868462  2021-09-24 16:07:59.450150    1st admin  South America   \n",
       "869154  2021-09-26 23:31:20.184660    1st admin           Asia   \n",
       "\n",
       "                                          industry  \\\n",
       "97                         Local business or place   \n",
       "2467                                         Other   \n",
       "2484                       Local business or place   \n",
       "2818                                    E-commerce   \n",
       "5511                       Local business or place   \n",
       "...                                            ...   \n",
       "866752                                       Other   \n",
       "866922                             Infopreneurship   \n",
       "868365                     Professional consulting   \n",
       "868462                             Infopreneurship   \n",
       "869154  Fun (jokes, community, daily quotes, etc.)   \n",
       "\n",
       "                               hear_source  support_provided  ...  \\\n",
       "97                           Search Engine             False  ...   \n",
       "2467                         Search Engine             False  ...   \n",
       "2484    Recommended by friend or colleague             False  ...   \n",
       "2818                   Blog or publication             False  ...   \n",
       "5511                          Social media             False  ...   \n",
       "...                                    ...               ...  ...   \n",
       "866752                               Other             False  ...   \n",
       "866922                               Other             False  ...   \n",
       "868365                        Social media              True  ...   \n",
       "868462  Recommended by friend or colleague             False  ...   \n",
       "869154                       Search Engine             False  ...   \n",
       "\n",
       "       current_account_status  ltv_predicted          ig_activation_dttm  \\\n",
       "97                        pro          13050  2021-10-04 10:12:56.910884   \n",
       "2467                      pro           4533  2021-10-20 11:21:18.446705   \n",
       "2484                      pro          -3918  2021-11-04 13:57:35.850723   \n",
       "2818                      pro           5939                         NaN   \n",
       "5511                      pro          -8674  2021-09-21 21:16:23.010321   \n",
       "...                       ...            ...                         ...   \n",
       "866752                    pro          10558  2021-10-27 10:31:19.378872   \n",
       "866922                    pro          12491  2021-10-14 19:07:12.618065   \n",
       "868365                    pro           5596  2021-09-18 17:38:13.619216   \n",
       "868462                    pro          -4344  2021-10-22 15:57:59.201132   \n",
       "869154                expired          -5922                         NaN   \n",
       "\n",
       "                        trial_dttm                   paid_dttm  \\\n",
       "97      2021-10-04 02:21:38.390630  2021-10-16 02:24:09.000000   \n",
       "2467    2021-10-20 06:46:12.948334  2021-10-27 06:46:58.000000   \n",
       "2484    2021-10-28 21:57:41.018878  2021-11-04 21:58:15.000000   \n",
       "2818    2021-10-20 04:08:10.216942  2021-10-27 04:08:34.000000   \n",
       "5511    2021-09-20 19:23:27.535083  2021-09-27 19:23:53.000000   \n",
       "...                            ...                         ...   \n",
       "866752  2021-10-27 04:43:23.645160  2021-11-03 04:43:38.000000   \n",
       "866922  2021-10-14 10:38:56.166136  2021-10-21 10:40:31.000000   \n",
       "868365  2021-09-18 12:41:05.477189  2021-10-03 12:41:04.000000   \n",
       "868462  2021-09-26 17:35:18.796576  2021-10-11 17:35:31.000000   \n",
       "869154  2021-09-26 23:39:47.207375  2021-10-03 23:40:33.000000   \n",
       "\n",
       "                          pro_dttm  first_ig_flow_publish_dttm  \\\n",
       "97      2021-10-04 02:21:37.000000  2021-10-04 02:15:05.160874   \n",
       "2467    2021-10-20 06:46:11.000000  2021-10-20 06:57:12.983902   \n",
       "2484    2021-10-28 21:57:39.000000  2021-10-26 08:08:52.800711   \n",
       "2818    2021-10-20 04:08:07.000000                         NaN   \n",
       "5511    2021-09-20 19:23:26.000000  2021-09-20 19:27:03.624650   \n",
       "...                            ...                         ...   \n",
       "866752  2021-10-27 04:43:22.000000  2021-10-27 03:11:13.847420   \n",
       "866922  2021-10-14 10:38:55.000000  2021-10-14 10:17:13.583488   \n",
       "868365  2021-09-18 12:41:04.000000  2021-09-18 12:47:17.985341   \n",
       "868462  2021-09-26 17:35:17.000000  2021-09-25 07:43:28.209951   \n",
       "869154  2021-09-26 23:39:46.000000  2021-09-26 23:48:03.360046   \n",
       "\n",
       "                                               event_name  \\\n",
       "97      web.page_questionnaire.todo_list_personalizati...   \n",
       "2467    web.page_questionnaire.todo_list_personalizati...   \n",
       "2484    web.page_questionnaire.todo_list_personalizati...   \n",
       "2818               web.onboarding.ig_campaigns_page.visit   \n",
       "5511    web.page_questionnaire.todo_list_personalizati...   \n",
       "...                                                   ...   \n",
       "866752                              mobile.audience__open   \n",
       "866922  web.page_questionnaire.todo_list_personalizati...   \n",
       "868365  web.page_questionnaire.todo_list_personalizati...   \n",
       "868462  web.page_questionnaire.todo_list_personalizati...   \n",
       "869154  web.page_questionnaire.todo_list_personalizati...   \n",
       "\n",
       "                        event_dttm Группа  \n",
       "97      2021-10-04 02:11:48.236731    1.0  \n",
       "2467    2021-10-20 06:51:08.760531    0.0  \n",
       "2484    2021-10-26 08:04:47.617711    1.0  \n",
       "2818    2021-10-19 16:35:26.492821    3.0  \n",
       "5511    2021-09-20 19:24:48.784095    3.0  \n",
       "...                            ...    ...  \n",
       "866752  2021-10-27 02:29:19.101195    3.0  \n",
       "866922  2021-10-14 10:14:21.674346    1.0  \n",
       "868365  2021-09-18 12:41:52.189314    1.0  \n",
       "868462  2021-09-25 07:33:26.077908    1.0  \n",
       "869154  2021-09-26 23:41:02.563596    1.0  \n",
       "\n",
       "[1489 rows x 26 columns]"
      ]
     },
     "execution_count": 226,
     "metadata": {},
     "output_type": "execute_result"
    }
   ],
   "source": [
    "df1[df1['paid_dttm'].notnull()]"
   ]
  },
  {
   "cell_type": "code",
   "execution_count": 227,
   "metadata": {},
   "outputs": [
    {
     "name": "stderr",
     "output_type": "stream",
     "text": [
      "<ipython-input-227-8b13b8dc6905>:1: FutureWarning:\n",
      "\n",
      "Indexing with multiple keys (implicitly converted to a tuple of keys) will be deprecated, use a list instead.\n",
      "\n"
     ]
    }
   ],
   "source": [
    "for_ltv = df1[df1['paid_dttm'].notnull()].groupby(by= ['Группа'])['client_id', 'ltv_predicted'].agg({'client_id':'nunique', 'ltv_predicted':'sum'}).reset_index()\n",
    "for_ltv['ltv_per_client'] = for_ltv['ltv_predicted'] / for_ltv['client_id']"
   ]
  },
  {
   "cell_type": "code",
   "execution_count": 211,
   "metadata": {},
   "outputs": [
    {
     "data": {
      "text/html": [
       "<div>\n",
       "<style scoped>\n",
       "    .dataframe tbody tr th:only-of-type {\n",
       "        vertical-align: middle;\n",
       "    }\n",
       "\n",
       "    .dataframe tbody tr th {\n",
       "        vertical-align: top;\n",
       "    }\n",
       "\n",
       "    .dataframe thead th {\n",
       "        text-align: right;\n",
       "    }\n",
       "</style>\n",
       "<table border=\"1\" class=\"dataframe\">\n",
       "  <thead>\n",
       "    <tr style=\"text-align: right;\">\n",
       "      <th></th>\n",
       "      <th>Группа</th>\n",
       "      <th>account_id</th>\n",
       "      <th>ltv_predicted</th>\n",
       "      <th>ltv_per_client</th>\n",
       "    </tr>\n",
       "  </thead>\n",
       "  <tbody>\n",
       "    <tr>\n",
       "      <th>0</th>\n",
       "      <td>0.0</td>\n",
       "      <td>2858</td>\n",
       "      <td>224496317</td>\n",
       "      <td>78550.145906</td>\n",
       "    </tr>\n",
       "    <tr>\n",
       "      <th>1</th>\n",
       "      <td>1.0</td>\n",
       "      <td>1878</td>\n",
       "      <td>83405082</td>\n",
       "      <td>44411.651757</td>\n",
       "    </tr>\n",
       "    <tr>\n",
       "      <th>2</th>\n",
       "      <td>2.0</td>\n",
       "      <td>714</td>\n",
       "      <td>1484246</td>\n",
       "      <td>2078.775910</td>\n",
       "    </tr>\n",
       "    <tr>\n",
       "      <th>3</th>\n",
       "      <td>3.0</td>\n",
       "      <td>7417</td>\n",
       "      <td>1190435590</td>\n",
       "      <td>160500.955912</td>\n",
       "    </tr>\n",
       "  </tbody>\n",
       "</table>\n",
       "</div>"
      ],
      "text/plain": [
       "   Группа  account_id  ltv_predicted  ltv_per_client\n",
       "0     0.0        2858      224496317    78550.145906\n",
       "1     1.0        1878       83405082    44411.651757\n",
       "2     2.0         714        1484246     2078.775910\n",
       "3     3.0        7417     1190435590   160500.955912"
      ]
     },
     "execution_count": 211,
     "metadata": {},
     "output_type": "execute_result"
    }
   ],
   "source": [
    "for_ltv"
   ]
  },
  {
   "cell_type": "code",
   "execution_count": 200,
   "metadata": {},
   "outputs": [
    {
     "data": {
      "application/vnd.plotly.v1+json": {
       "config": {
        "plotlyServerURL": "https://plot.ly"
       },
       "data": [
        {
         "name": "Mobile First",
         "textinfo": "value+percent initial+percent previous",
         "type": "funnel",
         "x": [
          2857,
          344,
          130,
          124
         ],
         "y": [
          "first_event",
          "todo_list_item.connect_ig_account.done",
          "todo_list_item.try_ig_automation.done",
          "todo_list_item.do_keyword_onboarding_campaign.started"
         ]
        },
        {
         "name": "Фолловеры обучения",
         "textinfo": "value+percent initial+percent previous",
         "type": "funnel",
         "x": [
          1875,
          1717,
          1721,
          1848
         ],
         "y": [
          "first_event",
          "todo_list_item.connect_ig_account.done",
          "todo_list_item.try_ig_automation.done",
          "todo_list_item.do_keyword_onboarding_campaign.started"
         ]
        },
        {
         "name": "Проходил мимо",
         "textinfo": "value+percent initial+percent previous",
         "type": "funnel",
         "x": [
          711,
          0,
          0,
          0
         ],
         "y": [
          "first_event",
          "todo_list_item.connect_ig_account.done",
          "todo_list_item.try_ig_automation.done",
          "todo_list_item.do_keyword_onboarding_campaign.started"
         ]
        },
        {
         "name": "Серая масса",
         "textinfo": "value+percent initial+percent previous",
         "type": "funnel",
         "x": [
          7404,
          2935,
          730,
          633
         ],
         "y": [
          "first_event",
          "todo_list_item.connect_ig_account.done",
          "todo_list_item.try_ig_automation.done",
          "todo_list_item.do_keyword_onboarding_campaign.started"
         ]
        }
       ],
       "layout": {
        "funnelmode": "stack",
        "hovermode": "closest",
        "legend": {
         "bgcolor": "#E2E2E2",
         "font": {
          "size": 12
         },
         "orientation": "v",
         "xanchor": "left"
        },
        "margin": {
         "b": 0,
         "l": 180,
         "pad": 0,
         "r": 0,
         "t": 30
        },
        "showlegend": true,
        "template": {
         "data": {
          "bar": [
           {
            "error_x": {
             "color": "#2a3f5f"
            },
            "error_y": {
             "color": "#2a3f5f"
            },
            "marker": {
             "line": {
              "color": "#E5ECF6",
              "width": 0.5
             }
            },
            "type": "bar"
           }
          ],
          "barpolar": [
           {
            "marker": {
             "line": {
              "color": "#E5ECF6",
              "width": 0.5
             }
            },
            "type": "barpolar"
           }
          ],
          "carpet": [
           {
            "aaxis": {
             "endlinecolor": "#2a3f5f",
             "gridcolor": "white",
             "linecolor": "white",
             "minorgridcolor": "white",
             "startlinecolor": "#2a3f5f"
            },
            "baxis": {
             "endlinecolor": "#2a3f5f",
             "gridcolor": "white",
             "linecolor": "white",
             "minorgridcolor": "white",
             "startlinecolor": "#2a3f5f"
            },
            "type": "carpet"
           }
          ],
          "choropleth": [
           {
            "colorbar": {
             "outlinewidth": 0,
             "ticks": ""
            },
            "type": "choropleth"
           }
          ],
          "contour": [
           {
            "colorbar": {
             "outlinewidth": 0,
             "ticks": ""
            },
            "colorscale": [
             [
              0,
              "#0d0887"
             ],
             [
              0.1111111111111111,
              "#46039f"
             ],
             [
              0.2222222222222222,
              "#7201a8"
             ],
             [
              0.3333333333333333,
              "#9c179e"
             ],
             [
              0.4444444444444444,
              "#bd3786"
             ],
             [
              0.5555555555555556,
              "#d8576b"
             ],
             [
              0.6666666666666666,
              "#ed7953"
             ],
             [
              0.7777777777777778,
              "#fb9f3a"
             ],
             [
              0.8888888888888888,
              "#fdca26"
             ],
             [
              1,
              "#f0f921"
             ]
            ],
            "type": "contour"
           }
          ],
          "contourcarpet": [
           {
            "colorbar": {
             "outlinewidth": 0,
             "ticks": ""
            },
            "type": "contourcarpet"
           }
          ],
          "heatmap": [
           {
            "colorbar": {
             "outlinewidth": 0,
             "ticks": ""
            },
            "colorscale": [
             [
              0,
              "#0d0887"
             ],
             [
              0.1111111111111111,
              "#46039f"
             ],
             [
              0.2222222222222222,
              "#7201a8"
             ],
             [
              0.3333333333333333,
              "#9c179e"
             ],
             [
              0.4444444444444444,
              "#bd3786"
             ],
             [
              0.5555555555555556,
              "#d8576b"
             ],
             [
              0.6666666666666666,
              "#ed7953"
             ],
             [
              0.7777777777777778,
              "#fb9f3a"
             ],
             [
              0.8888888888888888,
              "#fdca26"
             ],
             [
              1,
              "#f0f921"
             ]
            ],
            "type": "heatmap"
           }
          ],
          "heatmapgl": [
           {
            "colorbar": {
             "outlinewidth": 0,
             "ticks": ""
            },
            "colorscale": [
             [
              0,
              "#0d0887"
             ],
             [
              0.1111111111111111,
              "#46039f"
             ],
             [
              0.2222222222222222,
              "#7201a8"
             ],
             [
              0.3333333333333333,
              "#9c179e"
             ],
             [
              0.4444444444444444,
              "#bd3786"
             ],
             [
              0.5555555555555556,
              "#d8576b"
             ],
             [
              0.6666666666666666,
              "#ed7953"
             ],
             [
              0.7777777777777778,
              "#fb9f3a"
             ],
             [
              0.8888888888888888,
              "#fdca26"
             ],
             [
              1,
              "#f0f921"
             ]
            ],
            "type": "heatmapgl"
           }
          ],
          "histogram": [
           {
            "marker": {
             "colorbar": {
              "outlinewidth": 0,
              "ticks": ""
             }
            },
            "type": "histogram"
           }
          ],
          "histogram2d": [
           {
            "colorbar": {
             "outlinewidth": 0,
             "ticks": ""
            },
            "colorscale": [
             [
              0,
              "#0d0887"
             ],
             [
              0.1111111111111111,
              "#46039f"
             ],
             [
              0.2222222222222222,
              "#7201a8"
             ],
             [
              0.3333333333333333,
              "#9c179e"
             ],
             [
              0.4444444444444444,
              "#bd3786"
             ],
             [
              0.5555555555555556,
              "#d8576b"
             ],
             [
              0.6666666666666666,
              "#ed7953"
             ],
             [
              0.7777777777777778,
              "#fb9f3a"
             ],
             [
              0.8888888888888888,
              "#fdca26"
             ],
             [
              1,
              "#f0f921"
             ]
            ],
            "type": "histogram2d"
           }
          ],
          "histogram2dcontour": [
           {
            "colorbar": {
             "outlinewidth": 0,
             "ticks": ""
            },
            "colorscale": [
             [
              0,
              "#0d0887"
             ],
             [
              0.1111111111111111,
              "#46039f"
             ],
             [
              0.2222222222222222,
              "#7201a8"
             ],
             [
              0.3333333333333333,
              "#9c179e"
             ],
             [
              0.4444444444444444,
              "#bd3786"
             ],
             [
              0.5555555555555556,
              "#d8576b"
             ],
             [
              0.6666666666666666,
              "#ed7953"
             ],
             [
              0.7777777777777778,
              "#fb9f3a"
             ],
             [
              0.8888888888888888,
              "#fdca26"
             ],
             [
              1,
              "#f0f921"
             ]
            ],
            "type": "histogram2dcontour"
           }
          ],
          "mesh3d": [
           {
            "colorbar": {
             "outlinewidth": 0,
             "ticks": ""
            },
            "type": "mesh3d"
           }
          ],
          "parcoords": [
           {
            "line": {
             "colorbar": {
              "outlinewidth": 0,
              "ticks": ""
             }
            },
            "type": "parcoords"
           }
          ],
          "pie": [
           {
            "automargin": true,
            "type": "pie"
           }
          ],
          "scatter": [
           {
            "marker": {
             "colorbar": {
              "outlinewidth": 0,
              "ticks": ""
             }
            },
            "type": "scatter"
           }
          ],
          "scatter3d": [
           {
            "line": {
             "colorbar": {
              "outlinewidth": 0,
              "ticks": ""
             }
            },
            "marker": {
             "colorbar": {
              "outlinewidth": 0,
              "ticks": ""
             }
            },
            "type": "scatter3d"
           }
          ],
          "scattercarpet": [
           {
            "marker": {
             "colorbar": {
              "outlinewidth": 0,
              "ticks": ""
             }
            },
            "type": "scattercarpet"
           }
          ],
          "scattergeo": [
           {
            "marker": {
             "colorbar": {
              "outlinewidth": 0,
              "ticks": ""
             }
            },
            "type": "scattergeo"
           }
          ],
          "scattergl": [
           {
            "marker": {
             "colorbar": {
              "outlinewidth": 0,
              "ticks": ""
             }
            },
            "type": "scattergl"
           }
          ],
          "scattermapbox": [
           {
            "marker": {
             "colorbar": {
              "outlinewidth": 0,
              "ticks": ""
             }
            },
            "type": "scattermapbox"
           }
          ],
          "scatterpolar": [
           {
            "marker": {
             "colorbar": {
              "outlinewidth": 0,
              "ticks": ""
             }
            },
            "type": "scatterpolar"
           }
          ],
          "scatterpolargl": [
           {
            "marker": {
             "colorbar": {
              "outlinewidth": 0,
              "ticks": ""
             }
            },
            "type": "scatterpolargl"
           }
          ],
          "scatterternary": [
           {
            "marker": {
             "colorbar": {
              "outlinewidth": 0,
              "ticks": ""
             }
            },
            "type": "scatterternary"
           }
          ],
          "surface": [
           {
            "colorbar": {
             "outlinewidth": 0,
             "ticks": ""
            },
            "colorscale": [
             [
              0,
              "#0d0887"
             ],
             [
              0.1111111111111111,
              "#46039f"
             ],
             [
              0.2222222222222222,
              "#7201a8"
             ],
             [
              0.3333333333333333,
              "#9c179e"
             ],
             [
              0.4444444444444444,
              "#bd3786"
             ],
             [
              0.5555555555555556,
              "#d8576b"
             ],
             [
              0.6666666666666666,
              "#ed7953"
             ],
             [
              0.7777777777777778,
              "#fb9f3a"
             ],
             [
              0.8888888888888888,
              "#fdca26"
             ],
             [
              1,
              "#f0f921"
             ]
            ],
            "type": "surface"
           }
          ],
          "table": [
           {
            "cells": {
             "fill": {
              "color": "#EBF0F8"
             },
             "line": {
              "color": "white"
             }
            },
            "header": {
             "fill": {
              "color": "#C8D4E3"
             },
             "line": {
              "color": "white"
             }
            },
            "type": "table"
           }
          ]
         },
         "layout": {
          "annotationdefaults": {
           "arrowcolor": "#2a3f5f",
           "arrowhead": 0,
           "arrowwidth": 1
          },
          "autotypenumbers": "strict",
          "coloraxis": {
           "colorbar": {
            "outlinewidth": 0,
            "ticks": ""
           }
          },
          "colorscale": {
           "diverging": [
            [
             0,
             "#8e0152"
            ],
            [
             0.1,
             "#c51b7d"
            ],
            [
             0.2,
             "#de77ae"
            ],
            [
             0.3,
             "#f1b6da"
            ],
            [
             0.4,
             "#fde0ef"
            ],
            [
             0.5,
             "#f7f7f7"
            ],
            [
             0.6,
             "#e6f5d0"
            ],
            [
             0.7,
             "#b8e186"
            ],
            [
             0.8,
             "#7fbc41"
            ],
            [
             0.9,
             "#4d9221"
            ],
            [
             1,
             "#276419"
            ]
           ],
           "sequential": [
            [
             0,
             "#0d0887"
            ],
            [
             0.1111111111111111,
             "#46039f"
            ],
            [
             0.2222222222222222,
             "#7201a8"
            ],
            [
             0.3333333333333333,
             "#9c179e"
            ],
            [
             0.4444444444444444,
             "#bd3786"
            ],
            [
             0.5555555555555556,
             "#d8576b"
            ],
            [
             0.6666666666666666,
             "#ed7953"
            ],
            [
             0.7777777777777778,
             "#fb9f3a"
            ],
            [
             0.8888888888888888,
             "#fdca26"
            ],
            [
             1,
             "#f0f921"
            ]
           ],
           "sequentialminus": [
            [
             0,
             "#0d0887"
            ],
            [
             0.1111111111111111,
             "#46039f"
            ],
            [
             0.2222222222222222,
             "#7201a8"
            ],
            [
             0.3333333333333333,
             "#9c179e"
            ],
            [
             0.4444444444444444,
             "#bd3786"
            ],
            [
             0.5555555555555556,
             "#d8576b"
            ],
            [
             0.6666666666666666,
             "#ed7953"
            ],
            [
             0.7777777777777778,
             "#fb9f3a"
            ],
            [
             0.8888888888888888,
             "#fdca26"
            ],
            [
             1,
             "#f0f921"
            ]
           ]
          },
          "colorway": [
           "#636efa",
           "#EF553B",
           "#00cc96",
           "#ab63fa",
           "#FFA15A",
           "#19d3f3",
           "#FF6692",
           "#B6E880",
           "#FF97FF",
           "#FECB52"
          ],
          "font": {
           "color": "#2a3f5f"
          },
          "geo": {
           "bgcolor": "white",
           "lakecolor": "white",
           "landcolor": "#E5ECF6",
           "showlakes": true,
           "showland": true,
           "subunitcolor": "white"
          },
          "hoverlabel": {
           "align": "left"
          },
          "hovermode": "closest",
          "mapbox": {
           "style": "light"
          },
          "paper_bgcolor": "white",
          "plot_bgcolor": "#E5ECF6",
          "polar": {
           "angularaxis": {
            "gridcolor": "white",
            "linecolor": "white",
            "ticks": ""
           },
           "bgcolor": "#E5ECF6",
           "radialaxis": {
            "gridcolor": "white",
            "linecolor": "white",
            "ticks": ""
           }
          },
          "scene": {
           "xaxis": {
            "backgroundcolor": "#E5ECF6",
            "gridcolor": "white",
            "gridwidth": 2,
            "linecolor": "white",
            "showbackground": true,
            "ticks": "",
            "zerolinecolor": "white"
           },
           "yaxis": {
            "backgroundcolor": "#E5ECF6",
            "gridcolor": "white",
            "gridwidth": 2,
            "linecolor": "white",
            "showbackground": true,
            "ticks": "",
            "zerolinecolor": "white"
           },
           "zaxis": {
            "backgroundcolor": "#E5ECF6",
            "gridcolor": "white",
            "gridwidth": 2,
            "linecolor": "white",
            "showbackground": true,
            "ticks": "",
            "zerolinecolor": "white"
           }
          },
          "shapedefaults": {
           "line": {
            "color": "#2a3f5f"
           }
          },
          "ternary": {
           "aaxis": {
            "gridcolor": "white",
            "linecolor": "white",
            "ticks": ""
           },
           "baxis": {
            "gridcolor": "white",
            "linecolor": "white",
            "ticks": ""
           },
           "bgcolor": "#E5ECF6",
           "caxis": {
            "gridcolor": "white",
            "linecolor": "white",
            "ticks": ""
           }
          },
          "title": {
           "x": 0.05
          },
          "xaxis": {
           "automargin": true,
           "gridcolor": "white",
           "linecolor": "white",
           "ticks": "",
           "title": {
            "standoff": 15
           },
           "zerolinecolor": "white",
           "zerolinewidth": 2
          },
          "yaxis": {
           "automargin": true,
           "gridcolor": "white",
           "linecolor": "white",
           "ticks": "",
           "title": {
            "standoff": 15
           },
           "zerolinecolor": "white",
           "zerolinewidth": 2
          }
         }
        }
       }
      },
      "text/html": [
       "<div>                            <div id=\"24d39867-bcb5-4c1b-bdbe-45579b74f421\" class=\"plotly-graph-div\" style=\"height:525px; width:100%;\"></div>            <script type=\"text/javascript\">                require([\"plotly\"], function(Plotly) {                    window.PLOTLYENV=window.PLOTLYENV || {};                                    if (document.getElementById(\"24d39867-bcb5-4c1b-bdbe-45579b74f421\")) {                    Plotly.newPlot(                        \"24d39867-bcb5-4c1b-bdbe-45579b74f421\",                        [{\"name\": \"Mobile First\", \"textinfo\": \"value+percent initial+percent previous\", \"type\": \"funnel\", \"x\": [2857, 344, 130, 124], \"y\": [\"first_event\", \"todo_list_item.connect_ig_account.done\", \"todo_list_item.try_ig_automation.done\", \"todo_list_item.do_keyword_onboarding_campaign.started\"]}, {\"name\": \"\\u0424\\u043e\\u043b\\u043b\\u043e\\u0432\\u0435\\u0440\\u044b \\u043e\\u0431\\u0443\\u0447\\u0435\\u043d\\u0438\\u044f\", \"textinfo\": \"value+percent initial+percent previous\", \"type\": \"funnel\", \"x\": [1875, 1717, 1721, 1848], \"y\": [\"first_event\", \"todo_list_item.connect_ig_account.done\", \"todo_list_item.try_ig_automation.done\", \"todo_list_item.do_keyword_onboarding_campaign.started\"]}, {\"name\": \"\\u041f\\u0440\\u043e\\u0445\\u043e\\u0434\\u0438\\u043b \\u043c\\u0438\\u043c\\u043e\", \"textinfo\": \"value+percent initial+percent previous\", \"type\": \"funnel\", \"x\": [711, 0, 0, 0], \"y\": [\"first_event\", \"todo_list_item.connect_ig_account.done\", \"todo_list_item.try_ig_automation.done\", \"todo_list_item.do_keyword_onboarding_campaign.started\"]}, {\"name\": \"\\u0421\\u0435\\u0440\\u0430\\u044f \\u043c\\u0430\\u0441\\u0441\\u0430\", \"textinfo\": \"value+percent initial+percent previous\", \"type\": \"funnel\", \"x\": [7404, 2935, 730, 633], \"y\": [\"first_event\", \"todo_list_item.connect_ig_account.done\", \"todo_list_item.try_ig_automation.done\", \"todo_list_item.do_keyword_onboarding_campaign.started\"]}],                        {\"funnelmode\": \"stack\", \"hovermode\": \"closest\", \"legend\": {\"bgcolor\": \"#E2E2E2\", \"font\": {\"size\": 12}, \"orientation\": \"v\", \"xanchor\": \"left\"}, \"margin\": {\"b\": 0, \"l\": 180, \"pad\": 0, \"r\": 0, \"t\": 30}, \"showlegend\": true, \"template\": {\"data\": {\"bar\": [{\"error_x\": {\"color\": \"#2a3f5f\"}, \"error_y\": {\"color\": \"#2a3f5f\"}, \"marker\": {\"line\": {\"color\": \"#E5ECF6\", \"width\": 0.5}}, \"type\": \"bar\"}], \"barpolar\": [{\"marker\": {\"line\": {\"color\": \"#E5ECF6\", \"width\": 0.5}}, \"type\": \"barpolar\"}], \"carpet\": [{\"aaxis\": {\"endlinecolor\": \"#2a3f5f\", \"gridcolor\": \"white\", \"linecolor\": \"white\", \"minorgridcolor\": \"white\", \"startlinecolor\": \"#2a3f5f\"}, \"baxis\": {\"endlinecolor\": \"#2a3f5f\", \"gridcolor\": \"white\", \"linecolor\": \"white\", \"minorgridcolor\": \"white\", \"startlinecolor\": \"#2a3f5f\"}, \"type\": \"carpet\"}], \"choropleth\": [{\"colorbar\": {\"outlinewidth\": 0, \"ticks\": \"\"}, \"type\": \"choropleth\"}], \"contour\": [{\"colorbar\": {\"outlinewidth\": 0, \"ticks\": \"\"}, \"colorscale\": [[0.0, \"#0d0887\"], [0.1111111111111111, \"#46039f\"], [0.2222222222222222, \"#7201a8\"], [0.3333333333333333, \"#9c179e\"], [0.4444444444444444, \"#bd3786\"], [0.5555555555555556, \"#d8576b\"], [0.6666666666666666, \"#ed7953\"], [0.7777777777777778, \"#fb9f3a\"], [0.8888888888888888, \"#fdca26\"], [1.0, \"#f0f921\"]], \"type\": \"contour\"}], \"contourcarpet\": [{\"colorbar\": {\"outlinewidth\": 0, \"ticks\": \"\"}, \"type\": \"contourcarpet\"}], \"heatmap\": [{\"colorbar\": {\"outlinewidth\": 0, \"ticks\": \"\"}, \"colorscale\": [[0.0, \"#0d0887\"], [0.1111111111111111, \"#46039f\"], [0.2222222222222222, \"#7201a8\"], [0.3333333333333333, \"#9c179e\"], [0.4444444444444444, \"#bd3786\"], [0.5555555555555556, \"#d8576b\"], [0.6666666666666666, \"#ed7953\"], [0.7777777777777778, \"#fb9f3a\"], [0.8888888888888888, \"#fdca26\"], [1.0, \"#f0f921\"]], \"type\": \"heatmap\"}], \"heatmapgl\": [{\"colorbar\": {\"outlinewidth\": 0, \"ticks\": \"\"}, \"colorscale\": [[0.0, \"#0d0887\"], [0.1111111111111111, \"#46039f\"], [0.2222222222222222, \"#7201a8\"], [0.3333333333333333, \"#9c179e\"], [0.4444444444444444, \"#bd3786\"], [0.5555555555555556, \"#d8576b\"], [0.6666666666666666, \"#ed7953\"], [0.7777777777777778, \"#fb9f3a\"], [0.8888888888888888, \"#fdca26\"], [1.0, \"#f0f921\"]], \"type\": \"heatmapgl\"}], \"histogram\": [{\"marker\": {\"colorbar\": {\"outlinewidth\": 0, \"ticks\": \"\"}}, \"type\": \"histogram\"}], \"histogram2d\": [{\"colorbar\": {\"outlinewidth\": 0, \"ticks\": \"\"}, \"colorscale\": [[0.0, \"#0d0887\"], [0.1111111111111111, \"#46039f\"], [0.2222222222222222, \"#7201a8\"], [0.3333333333333333, \"#9c179e\"], [0.4444444444444444, \"#bd3786\"], [0.5555555555555556, \"#d8576b\"], [0.6666666666666666, \"#ed7953\"], [0.7777777777777778, \"#fb9f3a\"], [0.8888888888888888, \"#fdca26\"], [1.0, \"#f0f921\"]], \"type\": \"histogram2d\"}], \"histogram2dcontour\": [{\"colorbar\": {\"outlinewidth\": 0, \"ticks\": \"\"}, \"colorscale\": [[0.0, \"#0d0887\"], [0.1111111111111111, \"#46039f\"], [0.2222222222222222, \"#7201a8\"], [0.3333333333333333, \"#9c179e\"], [0.4444444444444444, \"#bd3786\"], [0.5555555555555556, \"#d8576b\"], [0.6666666666666666, \"#ed7953\"], [0.7777777777777778, \"#fb9f3a\"], [0.8888888888888888, \"#fdca26\"], [1.0, \"#f0f921\"]], \"type\": \"histogram2dcontour\"}], \"mesh3d\": [{\"colorbar\": {\"outlinewidth\": 0, \"ticks\": \"\"}, \"type\": \"mesh3d\"}], \"parcoords\": [{\"line\": {\"colorbar\": {\"outlinewidth\": 0, \"ticks\": \"\"}}, \"type\": \"parcoords\"}], \"pie\": [{\"automargin\": true, \"type\": \"pie\"}], \"scatter\": [{\"marker\": {\"colorbar\": {\"outlinewidth\": 0, \"ticks\": \"\"}}, \"type\": \"scatter\"}], \"scatter3d\": [{\"line\": {\"colorbar\": {\"outlinewidth\": 0, \"ticks\": \"\"}}, \"marker\": {\"colorbar\": {\"outlinewidth\": 0, \"ticks\": \"\"}}, \"type\": \"scatter3d\"}], \"scattercarpet\": [{\"marker\": {\"colorbar\": {\"outlinewidth\": 0, \"ticks\": \"\"}}, \"type\": \"scattercarpet\"}], \"scattergeo\": [{\"marker\": {\"colorbar\": {\"outlinewidth\": 0, \"ticks\": \"\"}}, \"type\": \"scattergeo\"}], \"scattergl\": [{\"marker\": {\"colorbar\": {\"outlinewidth\": 0, \"ticks\": \"\"}}, \"type\": \"scattergl\"}], \"scattermapbox\": [{\"marker\": {\"colorbar\": {\"outlinewidth\": 0, \"ticks\": \"\"}}, \"type\": \"scattermapbox\"}], \"scatterpolar\": [{\"marker\": {\"colorbar\": {\"outlinewidth\": 0, \"ticks\": \"\"}}, \"type\": \"scatterpolar\"}], \"scatterpolargl\": [{\"marker\": {\"colorbar\": {\"outlinewidth\": 0, \"ticks\": \"\"}}, \"type\": \"scatterpolargl\"}], \"scatterternary\": [{\"marker\": {\"colorbar\": {\"outlinewidth\": 0, \"ticks\": \"\"}}, \"type\": \"scatterternary\"}], \"surface\": [{\"colorbar\": {\"outlinewidth\": 0, \"ticks\": \"\"}, \"colorscale\": [[0.0, \"#0d0887\"], [0.1111111111111111, \"#46039f\"], [0.2222222222222222, \"#7201a8\"], [0.3333333333333333, \"#9c179e\"], [0.4444444444444444, \"#bd3786\"], [0.5555555555555556, \"#d8576b\"], [0.6666666666666666, \"#ed7953\"], [0.7777777777777778, \"#fb9f3a\"], [0.8888888888888888, \"#fdca26\"], [1.0, \"#f0f921\"]], \"type\": \"surface\"}], \"table\": [{\"cells\": {\"fill\": {\"color\": \"#EBF0F8\"}, \"line\": {\"color\": \"white\"}}, \"header\": {\"fill\": {\"color\": \"#C8D4E3\"}, \"line\": {\"color\": \"white\"}}, \"type\": \"table\"}]}, \"layout\": {\"annotationdefaults\": {\"arrowcolor\": \"#2a3f5f\", \"arrowhead\": 0, \"arrowwidth\": 1}, \"autotypenumbers\": \"strict\", \"coloraxis\": {\"colorbar\": {\"outlinewidth\": 0, \"ticks\": \"\"}}, \"colorscale\": {\"diverging\": [[0, \"#8e0152\"], [0.1, \"#c51b7d\"], [0.2, \"#de77ae\"], [0.3, \"#f1b6da\"], [0.4, \"#fde0ef\"], [0.5, \"#f7f7f7\"], [0.6, \"#e6f5d0\"], [0.7, \"#b8e186\"], [0.8, \"#7fbc41\"], [0.9, \"#4d9221\"], [1, \"#276419\"]], \"sequential\": [[0.0, \"#0d0887\"], [0.1111111111111111, \"#46039f\"], [0.2222222222222222, \"#7201a8\"], [0.3333333333333333, \"#9c179e\"], [0.4444444444444444, \"#bd3786\"], [0.5555555555555556, \"#d8576b\"], [0.6666666666666666, \"#ed7953\"], [0.7777777777777778, \"#fb9f3a\"], [0.8888888888888888, \"#fdca26\"], [1.0, \"#f0f921\"]], \"sequentialminus\": [[0.0, \"#0d0887\"], [0.1111111111111111, \"#46039f\"], [0.2222222222222222, \"#7201a8\"], [0.3333333333333333, \"#9c179e\"], [0.4444444444444444, \"#bd3786\"], [0.5555555555555556, \"#d8576b\"], [0.6666666666666666, \"#ed7953\"], [0.7777777777777778, \"#fb9f3a\"], [0.8888888888888888, \"#fdca26\"], [1.0, \"#f0f921\"]]}, \"colorway\": [\"#636efa\", \"#EF553B\", \"#00cc96\", \"#ab63fa\", \"#FFA15A\", \"#19d3f3\", \"#FF6692\", \"#B6E880\", \"#FF97FF\", \"#FECB52\"], \"font\": {\"color\": \"#2a3f5f\"}, \"geo\": {\"bgcolor\": \"white\", \"lakecolor\": \"white\", \"landcolor\": \"#E5ECF6\", \"showlakes\": true, \"showland\": true, \"subunitcolor\": \"white\"}, \"hoverlabel\": {\"align\": \"left\"}, \"hovermode\": \"closest\", \"mapbox\": {\"style\": \"light\"}, \"paper_bgcolor\": \"white\", \"plot_bgcolor\": \"#E5ECF6\", \"polar\": {\"angularaxis\": {\"gridcolor\": \"white\", \"linecolor\": \"white\", \"ticks\": \"\"}, \"bgcolor\": \"#E5ECF6\", \"radialaxis\": {\"gridcolor\": \"white\", \"linecolor\": \"white\", \"ticks\": \"\"}}, \"scene\": {\"xaxis\": {\"backgroundcolor\": \"#E5ECF6\", \"gridcolor\": \"white\", \"gridwidth\": 2, \"linecolor\": \"white\", \"showbackground\": true, \"ticks\": \"\", \"zerolinecolor\": \"white\"}, \"yaxis\": {\"backgroundcolor\": \"#E5ECF6\", \"gridcolor\": \"white\", \"gridwidth\": 2, \"linecolor\": \"white\", \"showbackground\": true, \"ticks\": \"\", \"zerolinecolor\": \"white\"}, \"zaxis\": {\"backgroundcolor\": \"#E5ECF6\", \"gridcolor\": \"white\", \"gridwidth\": 2, \"linecolor\": \"white\", \"showbackground\": true, \"ticks\": \"\", \"zerolinecolor\": \"white\"}}, \"shapedefaults\": {\"line\": {\"color\": \"#2a3f5f\"}}, \"ternary\": {\"aaxis\": {\"gridcolor\": \"white\", \"linecolor\": \"white\", \"ticks\": \"\"}, \"baxis\": {\"gridcolor\": \"white\", \"linecolor\": \"white\", \"ticks\": \"\"}, \"bgcolor\": \"#E5ECF6\", \"caxis\": {\"gridcolor\": \"white\", \"linecolor\": \"white\", \"ticks\": \"\"}}, \"title\": {\"x\": 0.05}, \"xaxis\": {\"automargin\": true, \"gridcolor\": \"white\", \"linecolor\": \"white\", \"ticks\": \"\", \"title\": {\"standoff\": 15}, \"zerolinecolor\": \"white\", \"zerolinewidth\": 2}, \"yaxis\": {\"automargin\": true, \"gridcolor\": \"white\", \"linecolor\": \"white\", \"ticks\": \"\", \"title\": {\"standoff\": 15}, \"zerolinecolor\": \"white\", \"zerolinewidth\": 2}}}},                        {\"responsive\": true}                    ).then(function(){\n",
       "                            \n",
       "var gd = document.getElementById('24d39867-bcb5-4c1b-bdbe-45579b74f421');\n",
       "var x = new MutationObserver(function (mutations, observer) {{\n",
       "        var display = window.getComputedStyle(gd).display;\n",
       "        if (!display || display === 'none') {{\n",
       "            console.log([gd, 'removed!']);\n",
       "            Plotly.purge(gd);\n",
       "            observer.disconnect();\n",
       "        }}\n",
       "}});\n",
       "\n",
       "// Listen for the removal of the full notebook cells\n",
       "var notebookContainer = gd.closest('#notebook-container');\n",
       "if (notebookContainer) {{\n",
       "    x.observe(notebookContainer, {childList: true});\n",
       "}}\n",
       "\n",
       "// Listen for the clearing of the current output cell\n",
       "var outputEl = gd.closest('.output');\n",
       "if (outputEl) {{\n",
       "    x.observe(outputEl, {childList: true});\n",
       "}}\n",
       "\n",
       "                        })                };                });            </script>        </div>"
      ]
     },
     "metadata": {},
     "output_type": "display_data"
    }
   ],
   "source": [
    "event_df2.rete.funnel(targets = ['first_event','todo_list_item.connect_ig_account.done','todo_list_item.try_ig_automation.done', 'todo_list_item.do_keyword_onboarding_campaign.started'],\n",
    "                 groups = (c0, c1, c2, c3),\n",
    "                 group_names = ('Mobile First', 'Фолловеры обучения', 'Проходил мимо', 'Серая масса'))"
   ]
  }
 ],
 "metadata": {
  "kernelspec": {
   "display_name": "Python 3 (ipykernel)",
   "language": "python",
   "name": "python3"
  },
  "language_info": {
   "codemirror_mode": {
    "name": "ipython",
    "version": 3
   },
   "file_extension": ".py",
   "mimetype": "text/x-python",
   "name": "python",
   "nbconvert_exporter": "python",
   "pygments_lexer": "ipython3",
   "version": "3.9.7"
  },
  "toc": {
   "base_numbering": 1,
   "nav_menu": {},
   "number_sections": true,
   "sideBar": true,
   "skip_h1_title": false,
   "title_cell": "Table of Contents",
   "title_sidebar": "Contents",
   "toc_cell": false,
   "toc_position": {},
   "toc_section_display": true,
   "toc_window_display": false
  }
 },
 "nbformat": 4,
 "nbformat_minor": 4
}
