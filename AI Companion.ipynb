{
 "cells": [
  {
   "cell_type": "code",
   "execution_count": null,
   "id": "df155803",
   "metadata": {},
   "outputs": [],
   "source": [
    "import pyaudio\n",
    "import wave\n",
    "import webrtcvad\n",
    "import time\n",
    "import openai\n",
    "import os\n",
    "from gtts import gTTS\n",
    "import requests\n",
    "from langdetect import detect"
   ]
  },
  {
   "cell_type": "code",
   "execution_count": null,
   "id": "11b1404b",
   "metadata": {},
   "outputs": [],
   "source": [
    "# Программа для записи моего голоса, которая останавливается в случае отсутствия голоса больше чем 5 секунд\n",
    "def create_audio_from_speech():\n",
    "    # Настройки записи\n",
    "    FORMAT = pyaudio.paInt16\n",
    "    CHANNELS = 1\n",
    "    RATE = 16000\n",
    "    CHUNK = 160  # длина куска, передаваемого в Vad (в миллисекундах)\n",
    "    RECORD_SECONDS = 10\n",
    "    VAD_FRAME_SIZE = 160  # длина кадра, передаваемого в Vad (в миллисекундах)\n",
    "    VAD_SENSITIVITY = 2  # чувствительность Vad (от 0 до 3)\n",
    "    # Инициализация объекта PyAudio\n",
    "    audio = pyaudio.PyAudio()\n",
    "    # Открытие потока для записи звука\n",
    "    stream = audio.open(format=FORMAT, channels=CHANNELS,\n",
    "                    rate=RATE, input=True,\n",
    "                    frames_per_buffer=CHUNK)\n",
    "    # Создание буфера для записи аудио\n",
    "    frames = []\n",
    "    vad = webrtcvad.Vad(VAD_SENSITIVITY)\n",
    "    # Запись аудио\n",
    "    print(\"Запись началась...\")\n",
    "    speech_timer = 0\n",
    "    silence_timer = 0\n",
    "    silence_timeout = 5\n",
    "    vad_last_state = False\n",
    "    while True:\n",
    "        # Чтение звуковых данных из потока\n",
    "        data = stream.read(CHUNK)\n",
    "\n",
    "        # Проверка, есть ли речь в данных\n",
    "        is_speech = vad.is_speech(data, RATE, VAD_FRAME_SIZE)\n",
    "\n",
    "        # Запись звуковых данных в буфер, если есть речь\n",
    "        if is_speech:\n",
    "            speech_timer = 0\n",
    "            silence_timer = 0\n",
    "            vad_last_state = True\n",
    "            frames.append(data)\n",
    "        else:\n",
    "            speech_timer += CHUNK / RATE\n",
    "            silence_timer += CHUNK / RATE\n",
    "            if vad_last_state:\n",
    "                vad_last_state = False\n",
    "            if silence_timer > silence_timeout:\n",
    "                print(\"Запись завершена\")\n",
    "                break\n",
    "\n",
    "    # Остановка записи и закрытие потока\n",
    "    stream.stop_stream()\n",
    "    stream.close()\n",
    "    audio.terminate()\n",
    "    \n",
    "    # Сохранение записи в файл\n",
    "    filename = \"question.wav\"\n",
    "    waveFile = wave.open(filename, 'wb')\n",
    "    waveFile.setnchannels(CHANNELS)\n",
    "    waveFile.setsampwidth(audio.get_sample_size(FORMAT))\n",
    "    waveFile.setframerate(RATE)\n",
    "    waveFile.writeframes(b''.join(frames))\n",
    "    waveFile.close()\n",
    "\n",
    "    print('Запись загружена')"
   ]
  },
  {
   "cell_type": "code",
   "execution_count": null,
   "id": "120c0879",
   "metadata": {},
   "outputs": [],
   "source": [
    "# Речь в текст\n",
    "openai.api_key = "",
    "def transcribe_audio(file_name='question.wav'):\n",
    "    audio_file= open(file_name, \"rb\")\n",
    "    transcript = openai.Audio.transcribe(\"whisper-1\", audio_file)\n",
    "    return transcript.text"
   ]
  },
  {
   "cell_type": "code",
   "execution_count": null,
   "id": "4a457974",
   "metadata": {},
   "outputs": [],
   "source": [
    "# Функция для запоминания предыдущего сообщения и ответа\n",
    "def GetMessageMemory(NewQuestion,lastmessage):\n",
    "    lastmessage.append({\"role\": \"user\", \"content\": NewQuestion})\n",
    "    msgcompletion = openai.ChatCompletion.create(\n",
    "    model=model_id,\n",
    "    messages=lastmessage,\n",
    "    max_tokens = 1000,\n",
    "    temperature = 0.7\n",
    "    )\n",
    "\n",
    "    msgresponse = msgcompletion.choices[0].message.content\n",
    "    print(msgresponse)\n",
    "\n",
    "  # Возвращаем новый ответ\n",
    "    return msgresponse"
   ]
  },
  {
   "cell_type": "code",
   "execution_count": null,
   "id": "34c314ef",
   "metadata": {},
   "outputs": [],
   "source": [
    "openai.api_key = "",
    "model_id = \"gpt-3.5-turbo\"\n",
    "messages = []\n",
    "max_tokens = 1000\n",
    "temperature = 0.7\n",
    "\n",
    "# Функция для обращения к API\n",
    "def get_response(text):\n",
    "    \n",
    "    cresponse = GetMessageMemory(text, messages)\n",
    "    messages.append({\"role\": \"assistant\", \"content\": cresponse})\n",
    "    return cresponse"
   ]
  },
  {
   "cell_type": "code",
   "execution_count": null,
   "id": "9d346eba",
   "metadata": {},
   "outputs": [],
   "source": [
    "# Озвучивание текста\n",
    "def pronance_answer(text, tld='com'):\n",
    "    \n",
    "    language = detect(text)\n",
    "    speech = gTTS(text=text, lang=language, slow=False, tld=tld)\n",
    "    speech.save('answer.wav')\n",
    "    # Прослушать ответ из файла\n",
    "    os.system('answer.wav')"
   ]
  },
  {
   "cell_type": "code",
   "execution_count": null,
   "id": "800b566b",
   "metadata": {},
   "outputs": [],
   "source": [
    "while True:\n",
    "    input('Введите любой текст чтобы начать запись ')\n",
    "    create_audio_from_speech()\n",
    "    text_to_chat = transcribe_audio()\n",
    "    print(text_to_chat)\n",
    "    answer = get_response(text_to_chat)\n",
    "    print(answer)\n",
    "    pronance_answer(answer)    "
   ]
  }
 ],
 "metadata": {
  "kernelspec": {
   "display_name": "Python 3 (ipykernel)",
   "language": "python",
   "name": "python3"
  },
  "language_info": {
   "codemirror_mode": {
    "name": "ipython",
    "version": 3
   },
   "file_extension": ".py",
   "mimetype": "text/x-python",
   "name": "python",
   "nbconvert_exporter": "python",
   "pygments_lexer": "ipython3",
   "version": "3.9.7"
  }
 },
 "nbformat": 4,
 "nbformat_minor": 5
}
